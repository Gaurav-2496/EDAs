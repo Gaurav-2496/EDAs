{
 "cells": [
  {
   "cell_type": "markdown",
   "metadata": {},
   "source": [
    "# Predict Bike-Sharing need in Metropolitan Area\n",
    "\n",
    "\n",
    "\n",
    "\n",
    "\n",
    "Programming Language: R 3.5.1 in Jupyter Notebook\n",
    "\n",
    "R Libraries used:\n",
    " - psych\n",
    " - reshape2\n",
    " - glmnet\n",
    " - gridExtra\n",
    " - lattice\n",
    " - MASS\n",
    " - caret\n",
    " - leaps\n",
    " - ggplot2"
   ]
  },
  {
   "cell_type": "markdown",
   "metadata": {},
   "source": [
    "## Table of Contents\n",
    "\n",
    "1. [Introduction](#sec_1)\n",
    "2. [Data Exploration](#sec_2)\n",
    "* [Exploratory Data Analysis](#sec_3)\n",
    "* [Methodology](#sec_4)\n",
    "* [Model Development](#sec_5)\n",
    "* [Results and discussion](#sec_6)\n",
    "* [Conclusion](#sec_7)\n",
    "* [References](#sec_8)"
   ]
  },
  {
   "cell_type": "markdown",
   "metadata": {},
   "source": [
    "## 1. Introduction <a class=\"anchor\" id=\"sec_1\"></a>"
   ]
  },
  {
   "cell_type": "markdown",
   "metadata": {},
   "source": [
    " - \"When in doubt Pedal it out\" (Grace Cooley), This quotes helps to understand how important is riding a bike . In this task we will perform analysis on bike rental data to predict the demands for bike sharing based on  data such as Holiday, Functioning daya and season etc which is said to have impact on bike renting demands.We will be using some machine learning approaches where the motive is :<br><br>\n",
    "1. To predict the bike sharing demands given the collected data<br>\n",
    "2. To identify the major factors that affect the bike demand <br><br>\n",
    " \n",
    " - We have split the data set into two parts:<br>\n",
    "1. traninig.csv <br>\n",
    "2. test.csv <br><br>\n",
    " - The training dataset set constitutes of 80% of bike rental data whereas the test dataset consist of 20% of bike rental data.We will perform all the analysis and fit the multiple(mostly two) models on the training dataset, whereas perform the all the prediction on the test dataset, using the performance metrics we wan identify the model that fits best to the data <br>\n"
   ]
  },
  {
   "cell_type": "markdown",
   "metadata": {},
   "source": [
    "The data set consist of 14 different columns with 8760 rows, Our main objective is to identify the variables that have strong effect on the model. We will also provide an inference using correlation analysis, regression equations, or any other statistical analysis."
   ]
  },
  {
   "cell_type": "markdown",
   "metadata": {},
   "source": [
    "Libraries used"
   ]
  },
  {
   "cell_type": "code",
   "execution_count": 1,
   "metadata": {},
   "outputs": [
    {
     "name": "stderr",
     "output_type": "stream",
     "text": [
      "Installing package into 'C:/Users/HP/Documents/R/win-library/3.6'\n",
      "(as 'lib' is unspecified)\n"
     ]
    },
    {
     "name": "stdout",
     "output_type": "stream",
     "text": [
      "package 'psych' successfully unpacked and MD5 sums checked\n",
      "\n",
      "The downloaded binary packages are in\n",
      "\tC:\\Users\\HP\\AppData\\Local\\Temp\\RtmpWEYmZP\\downloaded_packages\n"
     ]
    },
    {
     "name": "stderr",
     "output_type": "stream",
     "text": [
      "Installing package into 'C:/Users/HP/Documents/R/win-library/3.6'\n",
      "(as 'lib' is unspecified)\n"
     ]
    },
    {
     "name": "stdout",
     "output_type": "stream",
     "text": [
      "package 'reshape2' successfully unpacked and MD5 sums checked\n",
      "\n",
      "The downloaded binary packages are in\n",
      "\tC:\\Users\\HP\\AppData\\Local\\Temp\\RtmpWEYmZP\\downloaded_packages\n"
     ]
    },
    {
     "name": "stderr",
     "output_type": "stream",
     "text": [
      "Installing package into 'C:/Users/HP/Documents/R/win-library/3.6'\n",
      "(as 'lib' is unspecified)\n"
     ]
    },
    {
     "name": "stdout",
     "output_type": "stream",
     "text": [
      "package 'glmnet' successfully unpacked and MD5 sums checked\n",
      "\n",
      "The downloaded binary packages are in\n",
      "\tC:\\Users\\HP\\AppData\\Local\\Temp\\RtmpWEYmZP\\downloaded_packages\n"
     ]
    },
    {
     "name": "stderr",
     "output_type": "stream",
     "text": [
      "Installing package into 'C:/Users/HP/Documents/R/win-library/3.6'\n",
      "(as 'lib' is unspecified)\n"
     ]
    },
    {
     "name": "stdout",
     "output_type": "stream",
     "text": [
      "package 'gridExtra' successfully unpacked and MD5 sums checked\n",
      "\n",
      "The downloaded binary packages are in\n",
      "\tC:\\Users\\HP\\AppData\\Local\\Temp\\RtmpWEYmZP\\downloaded_packages\n"
     ]
    },
    {
     "name": "stderr",
     "output_type": "stream",
     "text": [
      "Installing package into 'C:/Users/HP/Documents/R/win-library/3.6'\n",
      "(as 'lib' is unspecified)\n"
     ]
    },
    {
     "name": "stdout",
     "output_type": "stream",
     "text": [
      "package 'lattice' successfully unpacked and MD5 sums checked\n",
      "\n",
      "The downloaded binary packages are in\n",
      "\tC:\\Users\\HP\\AppData\\Local\\Temp\\RtmpWEYmZP\\downloaded_packages\n"
     ]
    },
    {
     "name": "stderr",
     "output_type": "stream",
     "text": [
      "Installing package into 'C:/Users/HP/Documents/R/win-library/3.6'\n",
      "(as 'lib' is unspecified)\n"
     ]
    },
    {
     "name": "stdout",
     "output_type": "stream",
     "text": [
      "package 'MASS' successfully unpacked and MD5 sums checked\n",
      "\n",
      "The downloaded binary packages are in\n",
      "\tC:\\Users\\HP\\AppData\\Local\\Temp\\RtmpWEYmZP\\downloaded_packages\n"
     ]
    },
    {
     "name": "stderr",
     "output_type": "stream",
     "text": [
      "Installing package into 'C:/Users/HP/Documents/R/win-library/3.6'\n",
      "(as 'lib' is unspecified)\n",
      "Warning message in download.file(url, destfile, method, mode = \"wb\", ...):\n",
      "\"downloaded length 1261568 != reported length 6259411\"Warning message in unzip(zipname, exdir = dest):\n",
      "\"error 1 in extracting from zip file\"Warning message in read.dcf(file.path(pkgname, \"DESCRIPTION\"), c(\"Package\", \"Type\")):\n",
      "\"cannot open compressed file 'caret/DESCRIPTION', probable reason 'No such file or directory'\""
     ]
    },
    {
     "ename": "ERROR",
     "evalue": "Error in read.dcf(file.path(pkgname, \"DESCRIPTION\"), c(\"Package\", \"Type\")): cannot open the connection\n",
     "output_type": "error",
     "traceback": [
      "Error in read.dcf(file.path(pkgname, \"DESCRIPTION\"), c(\"Package\", \"Type\")): cannot open the connection\nTraceback:\n",
      "1. install.packages(\"caret\")",
      "2. .install.winbinary(pkgs = bins, lib = lib, contriburl = contrib.url(repos, \n .     type2), method = method, available = av2, destdir = destdir, \n .     dependencies = NULL, libs_only = libs_only, quiet = quiet, \n .     ...)",
      "3. unpackPkgZip(foundpkgs[okp, 2L], foundpkgs[okp, 1L], lib, libs_only, \n .     lock)",
      "4. read.dcf(file.path(pkgname, \"DESCRIPTION\"), c(\"Package\", \"Type\"))"
     ]
    }
   ],
   "source": [
    "install.packages('psych')\n",
    "install.packages('reshape2')\n",
    "install.packages('glmnet')\n",
    "install.packages('gridExtra')\n",
    "install.packages('lattice')\n",
    "install.packages('MASS')\n",
    "install.packages('caret')\n",
    "install.packages('leaps')\n",
    "install.packages('ggplot2')"
   ]
  },
  {
   "cell_type": "code",
   "execution_count": 3,
   "metadata": {},
   "outputs": [],
   "source": [
    "library('psych')\n",
    "library('reshape2')\n",
    "library('glmnet')\n",
    "library('gridExtra')\n",
    "library('lattice')\n",
    "library('MASS')\n",
    "library('caret')\n",
    "library('leaps')\n",
    "library('ggplot2')"
   ]
  },
  {
   "cell_type": "markdown",
   "metadata": {},
   "source": [
    "The data is divided into two parts train and test, we will load the train data first and after creating the model, we will use the test data to validate its accuracy."
   ]
  },
  {
   "cell_type": "code",
   "execution_count": 4,
   "metadata": {},
   "outputs": [
    {
     "data": {
      "text/html": [
       "<table>\n",
       "<caption>A data.frame: 6 × 14</caption>\n",
       "<thead>\n",
       "\t<tr><th></th><th scope=col>Date</th><th scope=col>Rented.Bike.Count</th><th scope=col>Hour</th><th scope=col>Temperature</th><th scope=col>Humidity</th><th scope=col>Wind.speed</th><th scope=col>Visibility</th><th scope=col>Dew.point.temperature</th><th scope=col>Solar.Radiation</th><th scope=col>Rainfall</th><th scope=col>Snowfall</th><th scope=col>Seasons</th><th scope=col>Holiday</th><th scope=col>Functioning.Day</th></tr>\n",
       "\t<tr><th></th><th scope=col>&lt;fct&gt;</th><th scope=col>&lt;int&gt;</th><th scope=col>&lt;int&gt;</th><th scope=col>&lt;dbl&gt;</th><th scope=col>&lt;int&gt;</th><th scope=col>&lt;dbl&gt;</th><th scope=col>&lt;int&gt;</th><th scope=col>&lt;dbl&gt;</th><th scope=col>&lt;dbl&gt;</th><th scope=col>&lt;dbl&gt;</th><th scope=col>&lt;dbl&gt;</th><th scope=col>&lt;fct&gt;</th><th scope=col>&lt;fct&gt;</th><th scope=col>&lt;fct&gt;</th></tr>\n",
       "</thead>\n",
       "<tbody>\n",
       "\t<tr><th scope=row>1</th><td>13/3/18 </td><td>705</td><td>14</td><td>18.3</td><td>43</td><td>2.2</td><td>1509</td><td>  5.4</td><td>2.43</td><td>0</td><td>0</td><td>Spring</td><td>No Holiday</td><td>Yes</td></tr>\n",
       "\t<tr><th scope=row>2</th><td>15/3/18 </td><td>289</td><td>14</td><td>12.1</td><td>97</td><td>2.0</td><td> 177</td><td> 11.6</td><td>0.20</td><td>0</td><td>0</td><td>Spring</td><td>No Holiday</td><td>Yes</td></tr>\n",
       "\t<tr><th scope=row>3</th><td>29/11/18</td><td>126</td><td> 5</td><td> 1.8</td><td>34</td><td>0.9</td><td>1990</td><td>-12.4</td><td>0.00</td><td>0</td><td>0</td><td>Autumn</td><td>No Holiday</td><td>Yes</td></tr>\n",
       "\t<tr><th scope=row>4</th><td>4/4/18  </td><td>378</td><td> 9</td><td>10.4</td><td>81</td><td>1.4</td><td>2000</td><td>  7.2</td><td>0.36</td><td>0</td><td>0</td><td>Spring</td><td>No Holiday</td><td>Yes</td></tr>\n",
       "\t<tr><th scope=row>5</th><td>15/2/18 </td><td>236</td><td>17</td><td> 2.4</td><td>17</td><td>3.1</td><td>1990</td><td>-20.2</td><td>0.78</td><td>0</td><td>0</td><td>Winter</td><td>Holiday   </td><td>Yes</td></tr>\n",
       "\t<tr><th scope=row>6</th><td>20/4/18 </td><td>708</td><td>10</td><td>18.2</td><td>36</td><td>1.0</td><td> 620</td><td>  2.8</td><td>1.99</td><td>0</td><td>0</td><td>Spring</td><td>No Holiday</td><td>Yes</td></tr>\n",
       "</tbody>\n",
       "</table>\n"
      ],
      "text/latex": [
       "A data.frame: 6 × 14\n",
       "\\begin{tabular}{r|llllllllllllll}\n",
       "  & Date & Rented.Bike.Count & Hour & Temperature & Humidity & Wind.speed & Visibility & Dew.point.temperature & Solar.Radiation & Rainfall & Snowfall & Seasons & Holiday & Functioning.Day\\\\\n",
       "  & <fct> & <int> & <int> & <dbl> & <int> & <dbl> & <int> & <dbl> & <dbl> & <dbl> & <dbl> & <fct> & <fct> & <fct>\\\\\n",
       "\\hline\n",
       "\t1 & 13/3/18  & 705 & 14 & 18.3 & 43 & 2.2 & 1509 &   5.4 & 2.43 & 0 & 0 & Spring & No Holiday & Yes\\\\\n",
       "\t2 & 15/3/18  & 289 & 14 & 12.1 & 97 & 2.0 &  177 &  11.6 & 0.20 & 0 & 0 & Spring & No Holiday & Yes\\\\\n",
       "\t3 & 29/11/18 & 126 &  5 &  1.8 & 34 & 0.9 & 1990 & -12.4 & 0.00 & 0 & 0 & Autumn & No Holiday & Yes\\\\\n",
       "\t4 & 4/4/18   & 378 &  9 & 10.4 & 81 & 1.4 & 2000 &   7.2 & 0.36 & 0 & 0 & Spring & No Holiday & Yes\\\\\n",
       "\t5 & 15/2/18  & 236 & 17 &  2.4 & 17 & 3.1 & 1990 & -20.2 & 0.78 & 0 & 0 & Winter & Holiday    & Yes\\\\\n",
       "\t6 & 20/4/18  & 708 & 10 & 18.2 & 36 & 1.0 &  620 &   2.8 & 1.99 & 0 & 0 & Spring & No Holiday & Yes\\\\\n",
       "\\end{tabular}\n"
      ],
      "text/markdown": [
       "\n",
       "A data.frame: 6 × 14\n",
       "\n",
       "| <!--/--> | Date &lt;fct&gt; | Rented.Bike.Count &lt;int&gt; | Hour &lt;int&gt; | Temperature &lt;dbl&gt; | Humidity &lt;int&gt; | Wind.speed &lt;dbl&gt; | Visibility &lt;int&gt; | Dew.point.temperature &lt;dbl&gt; | Solar.Radiation &lt;dbl&gt; | Rainfall &lt;dbl&gt; | Snowfall &lt;dbl&gt; | Seasons &lt;fct&gt; | Holiday &lt;fct&gt; | Functioning.Day &lt;fct&gt; |\n",
       "|---|---|---|---|---|---|---|---|---|---|---|---|---|---|---|\n",
       "| 1 | 13/3/18  | 705 | 14 | 18.3 | 43 | 2.2 | 1509 |   5.4 | 2.43 | 0 | 0 | Spring | No Holiday | Yes |\n",
       "| 2 | 15/3/18  | 289 | 14 | 12.1 | 97 | 2.0 |  177 |  11.6 | 0.20 | 0 | 0 | Spring | No Holiday | Yes |\n",
       "| 3 | 29/11/18 | 126 |  5 |  1.8 | 34 | 0.9 | 1990 | -12.4 | 0.00 | 0 | 0 | Autumn | No Holiday | Yes |\n",
       "| 4 | 4/4/18   | 378 |  9 | 10.4 | 81 | 1.4 | 2000 |   7.2 | 0.36 | 0 | 0 | Spring | No Holiday | Yes |\n",
       "| 5 | 15/2/18  | 236 | 17 |  2.4 | 17 | 3.1 | 1990 | -20.2 | 0.78 | 0 | 0 | Winter | Holiday    | Yes |\n",
       "| 6 | 20/4/18  | 708 | 10 | 18.2 | 36 | 1.0 |  620 |   2.8 | 1.99 | 0 | 0 | Spring | No Holiday | Yes |\n",
       "\n"
      ],
      "text/plain": [
       "  Date     Rented.Bike.Count Hour Temperature Humidity Wind.speed Visibility\n",
       "1 13/3/18  705               14   18.3        43       2.2        1509      \n",
       "2 15/3/18  289               14   12.1        97       2.0         177      \n",
       "3 29/11/18 126                5    1.8        34       0.9        1990      \n",
       "4 4/4/18   378                9   10.4        81       1.4        2000      \n",
       "5 15/2/18  236               17    2.4        17       3.1        1990      \n",
       "6 20/4/18  708               10   18.2        36       1.0         620      \n",
       "  Dew.point.temperature Solar.Radiation Rainfall Snowfall Seasons Holiday   \n",
       "1   5.4                 2.43            0        0        Spring  No Holiday\n",
       "2  11.6                 0.20            0        0        Spring  No Holiday\n",
       "3 -12.4                 0.00            0        0        Autumn  No Holiday\n",
       "4   7.2                 0.36            0        0        Spring  No Holiday\n",
       "5 -20.2                 0.78            0        0        Winter  Holiday   \n",
       "6   2.8                 1.99            0        0        Spring  No Holiday\n",
       "  Functioning.Day\n",
       "1 Yes            \n",
       "2 Yes            \n",
       "3 Yes            \n",
       "4 Yes            \n",
       "5 Yes            \n",
       "6 Yes            "
      ]
     },
     "metadata": {},
     "output_type": "display_data"
    }
   ],
   "source": [
    "#read the dataset\n",
    "bike_train = read.csv(\"./train.csv\")\n",
    "bike_test = read.csv(\"./test.csv\")\n",
    "head(bike_train) "
   ]
  },
  {
   "cell_type": "markdown",
   "metadata": {},
   "source": [
    "## 2. Data Exploration<a class=\"anchor\" id=\"sec_2\"></a>"
   ]
  },
  {
   "cell_type": "markdown",
   "metadata": {},
   "source": [
    "In this part the prominent task is to :<br>\n",
    "1. Check the dimension os data<br>\n",
    "2. Check if the data has negative and positive values<br>\n",
    "3. Check for outliers and structure<br>\n",
    "4. Check the correlation between variables<br>\n",
    "\n",
    "<b>To find the above specifications about data we will use:</b><br>\n",
    "Histograms<br>\n",
    "Boxplots<br>\n",
    "Correlation Matrix<br>\n",
    "Other Statistical Analysis"
   ]
  },
  {
   "cell_type": "code",
   "execution_count": 5,
   "metadata": {},
   "outputs": [
    {
     "data": {
      "text/html": [
       "<style>\n",
       ".list-inline {list-style: none; margin:0; padding: 0}\n",
       ".list-inline>li {display: inline-block}\n",
       ".list-inline>li:not(:last-child)::after {content: \"\\00b7\"; padding: 0 .5ex}\n",
       "</style>\n",
       "<ol class=list-inline><li>7008</li><li>14</li></ol>\n"
      ],
      "text/latex": [
       "\\begin{enumerate*}\n",
       "\\item 7008\n",
       "\\item 14\n",
       "\\end{enumerate*}\n"
      ],
      "text/markdown": [
       "1. 7008\n",
       "2. 14\n",
       "\n",
       "\n"
      ],
      "text/plain": [
       "[1] 7008   14"
      ]
     },
     "metadata": {},
     "output_type": "display_data"
    }
   ],
   "source": [
    "#Dimension of data\n",
    "dim(bike_train)"
   ]
  },
  {
   "cell_type": "markdown",
   "metadata": {},
   "source": [
    "There are 7008 rows and 14 columns"
   ]
  },
  {
   "cell_type": "code",
   "execution_count": 6,
   "metadata": {},
   "outputs": [
    {
     "name": "stdout",
     "output_type": "stream",
     "text": [
      "'data.frame':\t7008 obs. of  14 variables:\n",
      " $ Date                 : Factor w/ 365 levels \"1/1/18\",\"1/10/18\",..: 54 78 255 300 77 151 105 353 210 10 ...\n",
      " $ Rented.Bike.Count    : int  705 289 126 378 236 708 715 1001 502 17 ...\n",
      " $ Hour                 : int  14 14 5 9 17 10 8 1 20 18 ...\n",
      " $ Temperature          : num  18.3 12.1 1.8 10.4 2.4 18.2 21.1 18.9 10.7 22.2 ...\n",
      " $ Humidity             : int  43 97 34 81 17 36 70 55 70 96 ...\n",
      " $ Wind.speed           : num  2.2 2 0.9 1.4 3.1 1 0.3 2.3 2.8 1.2 ...\n",
      " $ Visibility           : int  1509 177 1990 2000 1990 620 766 2000 236 673 ...\n",
      " $ Dew.point.temperature: num  5.4 11.6 -12.4 7.2 -20.2 2.8 15.4 9.6 5.4 21.5 ...\n",
      " $ Solar.Radiation      : num  2.43 0.2 0 0.36 0.78 1.99 0.9 0 0 0.09 ...\n",
      " $ Rainfall             : num  0 0 0 0 0 0 0 0 0 3.5 ...\n",
      " $ Snowfall             : num  0 0 0 0 0 0 0 0 0 0 ...\n",
      " $ Seasons              : Factor w/ 4 levels \"Autumn\",\"Spring\",..: 2 2 1 2 4 2 3 1 2 3 ...\n",
      " $ Holiday              : Factor w/ 2 levels \"Holiday\",\"No Holiday\": 2 2 2 2 1 2 2 2 2 2 ...\n",
      " $ Functioning.Day      : Factor w/ 2 levels \"No\",\"Yes\": 2 2 2 2 2 2 2 2 2 2 ...\n"
     ]
    }
   ],
   "source": [
    "#structure of the dataset\n",
    "str(bike_train)"
   ]
  },
  {
   "cell_type": "markdown",
   "metadata": {},
   "source": [
    "There is no need to perform any imputation on data as there are no missing values"
   ]
  },
  {
   "cell_type": "markdown",
   "metadata": {},
   "source": [
    "<b>Date</b> : year-month-day : Date the bike was rented<br>\n",
    "<b>Rented Bike count </b>: Count of bikes rented at each hour, the response variable <br>\n",
    "<b>Hour: </b>Hour of the day<br>\n",
    "<b>Temperature:</b> Temperature in Celsius<br>\n",
    "<b>Humidity:</b> in % : reffered as amount of water vapor in the atmosphere<br>\n",
    "<b>Windspeed:</b> m/s : speed at which wind travel<br>\n",
    "<b>Visibility:</b> 10m : Visibility refers to the distance with one can view from his/her current position<br>\n",
    "<b>Dew point temperature: It refers to the state where the air cannot hold water in the gas form</b> Celsius<br>\n",
    "<b>Solar radiation:</b> MJ/m2 : It refers to amount of radiation emitted from the sun<br>\n",
    "<b>Rainfall:</b> mm : Amount of rain<br>\n",
    "<b>Snowfall:</b> cm Amount of snow<br>\n",
    "<b>Seasons:</b> Winter, Spring, Summer, Autumn<br>\n",
    "<b>Holiday:</b> Holiday/No holiday, indicating if the corresponding date is a public holiday or not<br>\n",
    "<b>Functional Day:</b> NoFunc(Non Functional Hours), Fun(Functional hours), the variable indicates the days when the rental bike system does not operate.<br>\n"
   ]
  },
  {
   "cell_type": "markdown",
   "metadata": {},
   "source": [
    "To gain more descriptive analysis about the data we will use the summary function which provides the minimum,maximum, range,mean,median and quantiles for each variable"
   ]
  },
  {
   "cell_type": "code",
   "execution_count": 7,
   "metadata": {},
   "outputs": [
    {
     "data": {
      "text/plain": [
       "       Date      Rented.Bike.Count      Hour        Temperature    \n",
       " 30/7/18 :  24   Min.   :   0.0    Min.   : 0.00   Min.   :-17.50  \n",
       " 10/11/18:  23   1st Qu.: 188.0    1st Qu.: 5.75   1st Qu.:  3.40  \n",
       " 18/11/18:  23   Median : 503.0    Median :11.00   Median : 13.60  \n",
       " 19/8/18 :  23   Mean   : 703.2    Mean   :11.46   Mean   : 12.83  \n",
       " 20/1/18 :  23   3rd Qu.:1063.0    3rd Qu.:17.00   3rd Qu.: 22.50  \n",
       " 21/4/18 :  23   Max.   :3556.0    Max.   :23.00   Max.   : 39.40  \n",
       " (Other) :6869                                                     \n",
       "    Humidity       Wind.speed     Visibility     Dew.point.temperature\n",
       " Min.   : 0.00   Min.   :0.00   Min.   :  27.0   Min.   :-30.600      \n",
       " 1st Qu.:42.00   1st Qu.:0.90   1st Qu.: 944.8   1st Qu.: -4.700      \n",
       " Median :57.00   Median :1.50   Median :1693.0   Median :  5.000      \n",
       " Mean   :58.25   Mean   :1.72   Mean   :1436.0   Mean   :  4.029      \n",
       " 3rd Qu.:74.00   3rd Qu.:2.30   3rd Qu.:2000.0   3rd Qu.: 14.800      \n",
       " Max.   :98.00   Max.   :7.40   Max.   :2000.0   Max.   : 26.800      \n",
       "                                                                      \n",
       " Solar.Radiation     Rainfall          Snowfall         Seasons    \n",
       " Min.   :0.0000   Min.   : 0.0000   Min.   :0.00000   Autumn:1753  \n",
       " 1st Qu.:0.0000   1st Qu.: 0.0000   1st Qu.:0.00000   Spring:1774  \n",
       " Median :0.0100   Median : 0.0000   Median :0.00000   Summer:1751  \n",
       " Mean   :0.5711   Mean   : 0.1517   Mean   :0.07593   Winter:1730  \n",
       " 3rd Qu.:0.9300   3rd Qu.: 0.0000   3rd Qu.:0.00000                \n",
       " Max.   :3.5200   Max.   :35.0000   Max.   :8.80000                \n",
       "                                                                   \n",
       "       Holiday     Functioning.Day\n",
       " Holiday   : 346   No : 239       \n",
       " No Holiday:6662   Yes:6769       \n",
       "                                  \n",
       "                                  \n",
       "                                  \n",
       "                                  \n",
       "                                  "
      ]
     },
     "metadata": {},
     "output_type": "display_data"
    }
   ],
   "source": [
    "summary(bike_train)"
   ]
  },
  {
   "cell_type": "markdown",
   "metadata": {},
   "source": [
    "There is a function named describe() like summary () which provides detailed statistics with trimmed, standard deviation,mad along with mean, median, min max and range for each variable."
   ]
  },
  {
   "cell_type": "code",
   "execution_count": 8,
   "metadata": {},
   "outputs": [
    {
     "data": {
      "text/html": [
       "<table>\n",
       "<caption>A psych: 14 × 13</caption>\n",
       "<thead>\n",
       "\t<tr><th></th><th scope=col>vars</th><th scope=col>n</th><th scope=col>mean</th><th scope=col>sd</th><th scope=col>median</th><th scope=col>trimmed</th><th scope=col>mad</th><th scope=col>min</th><th scope=col>max</th><th scope=col>range</th><th scope=col>skew</th><th scope=col>kurtosis</th><th scope=col>se</th></tr>\n",
       "\t<tr><th></th><th scope=col>&lt;int&gt;</th><th scope=col>&lt;dbl&gt;</th><th scope=col>&lt;dbl&gt;</th><th scope=col>&lt;dbl&gt;</th><th scope=col>&lt;dbl&gt;</th><th scope=col>&lt;dbl&gt;</th><th scope=col>&lt;dbl&gt;</th><th scope=col>&lt;dbl&gt;</th><th scope=col>&lt;dbl&gt;</th><th scope=col>&lt;dbl&gt;</th><th scope=col>&lt;dbl&gt;</th><th scope=col>&lt;dbl&gt;</th><th scope=col>&lt;dbl&gt;</th></tr>\n",
       "</thead>\n",
       "<tbody>\n",
       "\t<tr><th scope=row>Date*</th><td> 1</td><td>7008</td><td>1.834553e+02</td><td>105.3428337</td><td> 183.00</td><td> 183.4010342</td><td>134.916600</td><td>  1.0</td><td> 365.00</td><td> 364.00</td><td> 0.004619210</td><td> -1.2003524</td><td>1.258368823</td></tr>\n",
       "\t<tr><th scope=row>Rented.Bike.Count</th><td> 2</td><td>7008</td><td>7.031507e+02</td><td>645.8735688</td><td> 503.00</td><td> 610.7701498</td><td>557.457600</td><td>  0.0</td><td>3556.00</td><td>3556.00</td><td> 1.137743519</td><td>  0.7530395</td><td>7.715258214</td></tr>\n",
       "\t<tr><th scope=row>Hour</th><td> 3</td><td>7008</td><td>1.145719e+01</td><td>  6.9070482</td><td>  11.00</td><td>  11.4450785</td><td>  8.895600</td><td>  0.0</td><td>  23.00</td><td>  23.00</td><td> 0.013724353</td><td> -1.1949665</td><td>0.082507883</td></tr>\n",
       "\t<tr><th scope=row>Temperature</th><td> 4</td><td>7008</td><td>1.283255e+01</td><td> 11.9399081</td><td>  13.60</td><td>  13.1350571</td><td> 13.936440</td><td>-17.5</td><td>  39.40</td><td>  56.90</td><td>-0.192114316</td><td> -0.8543869</td><td>0.142627719</td></tr>\n",
       "\t<tr><th scope=row>Humidity</th><td> 5</td><td>7008</td><td>5.824814e+01</td><td> 20.3581093</td><td>  57.00</td><td>  58.0590228</td><td> 23.721600</td><td>  0.0</td><td>  98.00</td><td>  98.00</td><td> 0.051720403</td><td> -0.8069678</td><td>0.243187023</td></tr>\n",
       "\t<tr><th scope=row>Wind.speed</th><td> 6</td><td>7008</td><td>1.719792e+00</td><td>  1.0333628</td><td>   1.50</td><td>   1.6234308</td><td>  1.037820</td><td>  0.0</td><td>   7.40</td><td>   7.40</td><td> 0.892723012</td><td>  0.7234307</td><td>0.012343996</td></tr>\n",
       "\t<tr><th scope=row>Visibility</th><td> 7</td><td>7008</td><td>1.435980e+03</td><td>608.6228340</td><td>1693.00</td><td>1508.5747147</td><td>455.158200</td><td> 27.0</td><td>2000.00</td><td>1973.00</td><td>-0.704075180</td><td> -0.9555422</td><td>7.270280974</td></tr>\n",
       "\t<tr><th scope=row>Dew.point.temperature</th><td> 8</td><td>7008</td><td>4.029224e+00</td><td> 13.0471466</td><td>   5.00</td><td>   4.7072040</td><td> 14.529480</td><td>-30.6</td><td>  26.80</td><td>  57.40</td><td>-0.363009679</td><td> -0.7621928</td><td>0.155854195</td></tr>\n",
       "\t<tr><th scope=row>Solar.Radiation</th><td> 9</td><td>7008</td><td>5.710845e-01</td><td>  0.8718680</td><td>   0.01</td><td>   0.3857917</td><td>  0.014826</td><td>  0.0</td><td>   3.52</td><td>   3.52</td><td> 1.499378368</td><td>  1.0997872</td><td>0.010414866</td></tr>\n",
       "\t<tr><th scope=row>Rainfall</th><td>10</td><td>7008</td><td>1.516553e-01</td><td>  1.1664914</td><td>   0.00</td><td>   0.0000000</td><td>  0.000000</td><td>  0.0</td><td>  35.00</td><td>  35.00</td><td>14.791778680</td><td>291.7476142</td><td>0.013934279</td></tr>\n",
       "\t<tr><th scope=row>Snowfall</th><td>11</td><td>7008</td><td>7.592751e-02</td><td>  0.4428022</td><td>   0.00</td><td>   0.0000000</td><td>  0.000000</td><td>  0.0</td><td>   8.80</td><td>   8.80</td><td> 8.144217129</td><td> 84.1330877</td><td>0.005289477</td></tr>\n",
       "\t<tr><th scope=row>Seasons*</th><td>12</td><td>7008</td><td>2.493436e+00</td><td>  1.1154108</td><td>   2.00</td><td>   2.4917974</td><td>  1.482600</td><td>  1.0</td><td>   4.00</td><td>   3.00</td><td> 0.009374507</td><td> -1.3541847</td><td>0.013324098</td></tr>\n",
       "\t<tr><th scope=row>Holiday*</th><td>13</td><td>7008</td><td>1.950628e+00</td><td>  0.2166593</td><td>   2.00</td><td>   2.0000000</td><td>  0.000000</td><td>  1.0</td><td>   2.00</td><td>   1.00</td><td>-4.159190326</td><td> 15.3010476</td><td>0.002588095</td></tr>\n",
       "\t<tr><th scope=row>Functioning.Day*</th><td>14</td><td>7008</td><td>1.965896e+00</td><td>  0.1815090</td><td>   2.00</td><td>   2.0000000</td><td>  0.000000</td><td>  1.0</td><td>   2.00</td><td>   1.00</td><td>-5.132855170</td><td> 24.3496768</td><td>0.002168209</td></tr>\n",
       "</tbody>\n",
       "</table>\n"
      ],
      "text/latex": [
       "A psych: 14 × 13\n",
       "\\begin{tabular}{r|lllllllllllll}\n",
       "  & vars & n & mean & sd & median & trimmed & mad & min & max & range & skew & kurtosis & se\\\\\n",
       "  & <int> & <dbl> & <dbl> & <dbl> & <dbl> & <dbl> & <dbl> & <dbl> & <dbl> & <dbl> & <dbl> & <dbl> & <dbl>\\\\\n",
       "\\hline\n",
       "\tDate* &  1 & 7008 & 1.834553e+02 & 105.3428337 &  183.00 &  183.4010342 & 134.916600 &   1.0 &  365.00 &  364.00 &  0.004619210 &  -1.2003524 & 1.258368823\\\\\n",
       "\tRented.Bike.Count &  2 & 7008 & 7.031507e+02 & 645.8735688 &  503.00 &  610.7701498 & 557.457600 &   0.0 & 3556.00 & 3556.00 &  1.137743519 &   0.7530395 & 7.715258214\\\\\n",
       "\tHour &  3 & 7008 & 1.145719e+01 &   6.9070482 &   11.00 &   11.4450785 &   8.895600 &   0.0 &   23.00 &   23.00 &  0.013724353 &  -1.1949665 & 0.082507883\\\\\n",
       "\tTemperature &  4 & 7008 & 1.283255e+01 &  11.9399081 &   13.60 &   13.1350571 &  13.936440 & -17.5 &   39.40 &   56.90 & -0.192114316 &  -0.8543869 & 0.142627719\\\\\n",
       "\tHumidity &  5 & 7008 & 5.824814e+01 &  20.3581093 &   57.00 &   58.0590228 &  23.721600 &   0.0 &   98.00 &   98.00 &  0.051720403 &  -0.8069678 & 0.243187023\\\\\n",
       "\tWind.speed &  6 & 7008 & 1.719792e+00 &   1.0333628 &    1.50 &    1.6234308 &   1.037820 &   0.0 &    7.40 &    7.40 &  0.892723012 &   0.7234307 & 0.012343996\\\\\n",
       "\tVisibility &  7 & 7008 & 1.435980e+03 & 608.6228340 & 1693.00 & 1508.5747147 & 455.158200 &  27.0 & 2000.00 & 1973.00 & -0.704075180 &  -0.9555422 & 7.270280974\\\\\n",
       "\tDew.point.temperature &  8 & 7008 & 4.029224e+00 &  13.0471466 &    5.00 &    4.7072040 &  14.529480 & -30.6 &   26.80 &   57.40 & -0.363009679 &  -0.7621928 & 0.155854195\\\\\n",
       "\tSolar.Radiation &  9 & 7008 & 5.710845e-01 &   0.8718680 &    0.01 &    0.3857917 &   0.014826 &   0.0 &    3.52 &    3.52 &  1.499378368 &   1.0997872 & 0.010414866\\\\\n",
       "\tRainfall & 10 & 7008 & 1.516553e-01 &   1.1664914 &    0.00 &    0.0000000 &   0.000000 &   0.0 &   35.00 &   35.00 & 14.791778680 & 291.7476142 & 0.013934279\\\\\n",
       "\tSnowfall & 11 & 7008 & 7.592751e-02 &   0.4428022 &    0.00 &    0.0000000 &   0.000000 &   0.0 &    8.80 &    8.80 &  8.144217129 &  84.1330877 & 0.005289477\\\\\n",
       "\tSeasons* & 12 & 7008 & 2.493436e+00 &   1.1154108 &    2.00 &    2.4917974 &   1.482600 &   1.0 &    4.00 &    3.00 &  0.009374507 &  -1.3541847 & 0.013324098\\\\\n",
       "\tHoliday* & 13 & 7008 & 1.950628e+00 &   0.2166593 &    2.00 &    2.0000000 &   0.000000 &   1.0 &    2.00 &    1.00 & -4.159190326 &  15.3010476 & 0.002588095\\\\\n",
       "\tFunctioning.Day* & 14 & 7008 & 1.965896e+00 &   0.1815090 &    2.00 &    2.0000000 &   0.000000 &   1.0 &    2.00 &    1.00 & -5.132855170 &  24.3496768 & 0.002168209\\\\\n",
       "\\end{tabular}\n"
      ],
      "text/markdown": [
       "\n",
       "A psych: 14 × 13\n",
       "\n",
       "| <!--/--> | vars &lt;int&gt; | n &lt;dbl&gt; | mean &lt;dbl&gt; | sd &lt;dbl&gt; | median &lt;dbl&gt; | trimmed &lt;dbl&gt; | mad &lt;dbl&gt; | min &lt;dbl&gt; | max &lt;dbl&gt; | range &lt;dbl&gt; | skew &lt;dbl&gt; | kurtosis &lt;dbl&gt; | se &lt;dbl&gt; |\n",
       "|---|---|---|---|---|---|---|---|---|---|---|---|---|---|\n",
       "| Date* |  1 | 7008 | 1.834553e+02 | 105.3428337 |  183.00 |  183.4010342 | 134.916600 |   1.0 |  365.00 |  364.00 |  0.004619210 |  -1.2003524 | 1.258368823 |\n",
       "| Rented.Bike.Count |  2 | 7008 | 7.031507e+02 | 645.8735688 |  503.00 |  610.7701498 | 557.457600 |   0.0 | 3556.00 | 3556.00 |  1.137743519 |   0.7530395 | 7.715258214 |\n",
       "| Hour |  3 | 7008 | 1.145719e+01 |   6.9070482 |   11.00 |   11.4450785 |   8.895600 |   0.0 |   23.00 |   23.00 |  0.013724353 |  -1.1949665 | 0.082507883 |\n",
       "| Temperature |  4 | 7008 | 1.283255e+01 |  11.9399081 |   13.60 |   13.1350571 |  13.936440 | -17.5 |   39.40 |   56.90 | -0.192114316 |  -0.8543869 | 0.142627719 |\n",
       "| Humidity |  5 | 7008 | 5.824814e+01 |  20.3581093 |   57.00 |   58.0590228 |  23.721600 |   0.0 |   98.00 |   98.00 |  0.051720403 |  -0.8069678 | 0.243187023 |\n",
       "| Wind.speed |  6 | 7008 | 1.719792e+00 |   1.0333628 |    1.50 |    1.6234308 |   1.037820 |   0.0 |    7.40 |    7.40 |  0.892723012 |   0.7234307 | 0.012343996 |\n",
       "| Visibility |  7 | 7008 | 1.435980e+03 | 608.6228340 | 1693.00 | 1508.5747147 | 455.158200 |  27.0 | 2000.00 | 1973.00 | -0.704075180 |  -0.9555422 | 7.270280974 |\n",
       "| Dew.point.temperature |  8 | 7008 | 4.029224e+00 |  13.0471466 |    5.00 |    4.7072040 |  14.529480 | -30.6 |   26.80 |   57.40 | -0.363009679 |  -0.7621928 | 0.155854195 |\n",
       "| Solar.Radiation |  9 | 7008 | 5.710845e-01 |   0.8718680 |    0.01 |    0.3857917 |   0.014826 |   0.0 |    3.52 |    3.52 |  1.499378368 |   1.0997872 | 0.010414866 |\n",
       "| Rainfall | 10 | 7008 | 1.516553e-01 |   1.1664914 |    0.00 |    0.0000000 |   0.000000 |   0.0 |   35.00 |   35.00 | 14.791778680 | 291.7476142 | 0.013934279 |\n",
       "| Snowfall | 11 | 7008 | 7.592751e-02 |   0.4428022 |    0.00 |    0.0000000 |   0.000000 |   0.0 |    8.80 |    8.80 |  8.144217129 |  84.1330877 | 0.005289477 |\n",
       "| Seasons* | 12 | 7008 | 2.493436e+00 |   1.1154108 |    2.00 |    2.4917974 |   1.482600 |   1.0 |    4.00 |    3.00 |  0.009374507 |  -1.3541847 | 0.013324098 |\n",
       "| Holiday* | 13 | 7008 | 1.950628e+00 |   0.2166593 |    2.00 |    2.0000000 |   0.000000 |   1.0 |    2.00 |    1.00 | -4.159190326 |  15.3010476 | 0.002588095 |\n",
       "| Functioning.Day* | 14 | 7008 | 1.965896e+00 |   0.1815090 |    2.00 |    2.0000000 |   0.000000 |   1.0 |    2.00 |    1.00 | -5.132855170 |  24.3496768 | 0.002168209 |\n",
       "\n"
      ],
      "text/plain": [
       "                      vars n    mean         sd          median  trimmed     \n",
       "Date*                  1   7008 1.834553e+02 105.3428337  183.00  183.4010342\n",
       "Rented.Bike.Count      2   7008 7.031507e+02 645.8735688  503.00  610.7701498\n",
       "Hour                   3   7008 1.145719e+01   6.9070482   11.00   11.4450785\n",
       "Temperature            4   7008 1.283255e+01  11.9399081   13.60   13.1350571\n",
       "Humidity               5   7008 5.824814e+01  20.3581093   57.00   58.0590228\n",
       "Wind.speed             6   7008 1.719792e+00   1.0333628    1.50    1.6234308\n",
       "Visibility             7   7008 1.435980e+03 608.6228340 1693.00 1508.5747147\n",
       "Dew.point.temperature  8   7008 4.029224e+00  13.0471466    5.00    4.7072040\n",
       "Solar.Radiation        9   7008 5.710845e-01   0.8718680    0.01    0.3857917\n",
       "Rainfall              10   7008 1.516553e-01   1.1664914    0.00    0.0000000\n",
       "Snowfall              11   7008 7.592751e-02   0.4428022    0.00    0.0000000\n",
       "Seasons*              12   7008 2.493436e+00   1.1154108    2.00    2.4917974\n",
       "Holiday*              13   7008 1.950628e+00   0.2166593    2.00    2.0000000\n",
       "Functioning.Day*      14   7008 1.965896e+00   0.1815090    2.00    2.0000000\n",
       "                      mad        min   max     range   skew         kurtosis   \n",
       "Date*                 134.916600   1.0  365.00  364.00  0.004619210  -1.2003524\n",
       "Rented.Bike.Count     557.457600   0.0 3556.00 3556.00  1.137743519   0.7530395\n",
       "Hour                    8.895600   0.0   23.00   23.00  0.013724353  -1.1949665\n",
       "Temperature            13.936440 -17.5   39.40   56.90 -0.192114316  -0.8543869\n",
       "Humidity               23.721600   0.0   98.00   98.00  0.051720403  -0.8069678\n",
       "Wind.speed              1.037820   0.0    7.40    7.40  0.892723012   0.7234307\n",
       "Visibility            455.158200  27.0 2000.00 1973.00 -0.704075180  -0.9555422\n",
       "Dew.point.temperature  14.529480 -30.6   26.80   57.40 -0.363009679  -0.7621928\n",
       "Solar.Radiation         0.014826   0.0    3.52    3.52  1.499378368   1.0997872\n",
       "Rainfall                0.000000   0.0   35.00   35.00 14.791778680 291.7476142\n",
       "Snowfall                0.000000   0.0    8.80    8.80  8.144217129  84.1330877\n",
       "Seasons*                1.482600   1.0    4.00    3.00  0.009374507  -1.3541847\n",
       "Holiday*                0.000000   1.0    2.00    1.00 -4.159190326  15.3010476\n",
       "Functioning.Day*        0.000000   1.0    2.00    1.00 -5.132855170  24.3496768\n",
       "                      se         \n",
       "Date*                 1.258368823\n",
       "Rented.Bike.Count     7.715258214\n",
       "Hour                  0.082507883\n",
       "Temperature           0.142627719\n",
       "Humidity              0.243187023\n",
       "Wind.speed            0.012343996\n",
       "Visibility            7.270280974\n",
       "Dew.point.temperature 0.155854195\n",
       "Solar.Radiation       0.010414866\n",
       "Rainfall              0.013934279\n",
       "Snowfall              0.005289477\n",
       "Seasons*              0.013324098\n",
       "Holiday*              0.002588095\n",
       "Functioning.Day*      0.002168209"
      ]
     },
     "metadata": {},
     "output_type": "display_data"
    }
   ],
   "source": [
    "# Using describe() function of psych package for detailed statistics \n",
    "\n",
    "describe(bike_train)"
   ]
  },
  {
   "cell_type": "markdown",
   "metadata": {},
   "source": [
    "1. The Rented Bike Count has the highest standard deviation with 645.87 followed by Visibility with 608.62 <br>\n",
    "Moreover, the standard error of Visibility is 7.27 which is highest whereas the standard error of Rented Bike Count is 7.715,<br>\n",
    "2. The interesting statistics to notice is Rented Bike count has the maximum range which states that there were days when no bikes were rented however, on a particular day there were 3556 bikes were used for commute.<br>\n",
    "3. The minimum value of hour is 0.0 which 12 am where the maximum is 23.00 which 11pm or 23:00, this resembles that the bikes were available for renting 24*7.<br>\n",
    "4. The min value of temperature is -17.5 degrees and maximum values is 39.5 degrees which clearly states that the temperature in this area varies drastically sometimes it is very cold whereas sometimes it is hot with an average of 13.93<br>\n",
    "5. The maximum value for Humidity is 98% <br>\n",
    "6. Humidity is related to Dew Point Temperature, the maximum value is 26.80 degree Celcius which around 75 F and anything i.e 75 F or above , the air really feels sticky and humid, there are times when the dew point temperature is in negative.\n",
    "7. The median value of Rainfall is 0 whereas the maximum value is 35, The other intersting fact to notice is that this variable has highest positive skewness According to (Howard Perlman, 2020), Heavy shower are when it rains Greater than 10 mm per hour, but less than 50 mm per hour, which means sometimes it rains heavily whereas sometimes it does not rain at all.<br>\n",
    "8. Similarly, the range of snowfall is 0 to 8.80 which means that there is not much snow in this area.The data is positively skewed.<br>\n",
    "9. The maximum wind speed is 7.40 km/hr.<br>\n",
    "10. Solar radiation is recorded as a MJ/m2.There is not much of solar radiation as the range is mere 3.52.<br>\n",
    "11. The range of season is 3 where the minimum value is 1 and maximum is 4, it means that there are more seasons i.e Autumn,Spring, Summer and Winter<br>\n",
    "12. The range of date is 364 which means tthe bikes are rented for entire year.<br>\n"
   ]
  },
  {
   "cell_type": "markdown",
   "metadata": {},
   "source": [
    "## 3. Exploratory Data Analysis<a class=\"anchor\" id=\"sec_3\"></a>\n",
    "Now, we will visually analyse each variable using Boxplots"
   ]
  },
  {
   "cell_type": "code",
   "execution_count": 9,
   "metadata": {
    "scrolled": true
   },
   "outputs": [
    {
     "name": "stderr",
     "output_type": "stream",
     "text": [
      "Using Date, Seasons, Holiday, Functioning.Day as id variables\n"
     ]
    },
    {
     "data": {
      "image/png": "[encoded data removed]",
      "text/plain": [
       "plot without title"
      ]
     },
     "metadata": {},
     "output_type": "display_data"
    }
   ],
   "source": [
    "# bike_train$\n",
    "analysis_plot <- melt(as.data.frame(bike_train[,-15]))  # melt function of reshape library helps to combine multiple columns into single stack\n",
    "\n",
    "#generates graphs\n",
    "ggplot(analysis_plot,aes(x = variable,y = value)) +\n",
    "\n",
    "#provides graphs in different frames\n",
    "facet_wrap(~variable, scales=\"free\") + \n",
    "geom_boxplot() +\n",
    "scale_y_continuous(labels=function (n) {format(n, scientific=FALSE)})"
   ]
  },
  {
   "cell_type": "markdown",
   "metadata": {},
   "source": [
    "There are outliers for variables like Rainfall, Snowfall, Wind Speed, Solar Radiation,Rented Bike Count. Moreover we do not have boxplots for variables like Date, Holidays, Functioning.Day and Seasons as they are of factor type<br>\n",
    "So for that we will convert these variables to numeric\n"
   ]
  },
  {
   "cell_type": "code",
   "execution_count": 10,
   "metadata": {},
   "outputs": [],
   "source": [
    "bike_train1<-bike_train\n"
   ]
  },
  {
   "cell_type": "code",
   "execution_count": 11,
   "metadata": {},
   "outputs": [],
   "source": [
    "# #converting format variables to numeric\n",
    "bike_train3<-bike_train\n",
    "\n",
    "bike_train3$Date <- as.numeric(bike_train3$Date)\n",
    "bike_train3$Seasons <- as.numeric(bike_train3$Seasons)\n",
    "bike_train3$Holiday <- as.numeric(bike_train3$Holiday)\n",
    "bike_train3$Functioning.Day <- as.numeric(bike_train3$Functioning.Day )\n",
    "\n"
   ]
  },
  {
   "cell_type": "code",
   "execution_count": 12,
   "metadata": {},
   "outputs": [
    {
     "name": "stderr",
     "output_type": "stream",
     "text": [
      "No id variables; using all as measure variables\n"
     ]
    },
    {
     "data": {
      "image/png": "[encoded data removed]",
      "text/plain": [
       "plot without title"
      ]
     },
     "metadata": {},
     "output_type": "display_data"
    }
   ],
   "source": [
    "analysis_plot2 <- melt(as.data.frame(bike_train3[,c(1,12,13,14)]))\n",
    "ggplot(analysis_plot2,aes(x = variable,y = value)) +\n",
    "facet_wrap(~variable, scales=\"free\") + #graph all variables on an adjusted scale\n",
    "geom_boxplot() +\n",
    "scale_y_continuous(labels=function (n) {format(n, scientific=FALSE)})"
   ]
  },
  {
   "cell_type": "markdown",
   "metadata": {},
   "source": [
    "There are no outliers for Date and Season variables, however for Holiday there are two values i.e 1 and 2 where most of the data is inclined towards 2(Non-Holidays), Similarly for Functioning Day the data is inclined towards 2(Yes/Functioning.Day)\n",
    "\n",
    "<b>This clearly states that the bikes were mostly rented on non- Holidays and on Functioning.Days</b>"
   ]
  },
  {
   "cell_type": "markdown",
   "metadata": {},
   "source": [
    "We will use histograms to see more details of the dataset"
   ]
  },
  {
   "cell_type": "code",
   "execution_count": 13,
   "metadata": {},
   "outputs": [
    {
     "data": {
      "image/png": "[encoded data removed]",
      "text/plain": [
       "Plot with title \"Histogram of bike_train$Solar.Radiation\""
      ]
     },
     "metadata": {},
     "output_type": "display_data"
    },
    {
     "data": {
      "image/png": "[encoded data removed]",
      "text/plain": [
       "Plot with title \"Bar Chart of Functioning.Day\""
      ]
     },
     "metadata": {},
     "output_type": "display_data"
    }
   ],
   "source": [
    "par(mfrow = c(4,2))\n",
    "hist(bike_train$Rented.Bike.Count)\n",
    "hist(bike_train$Hour)\n",
    "hist(bike_train$Temperature)\n",
    "hist(bike_train$Humidity)\n",
    "hist(bike_train$Wind.speed)\n",
    "hist(bike_train$Visibility)\n",
    "hist(bike_train$Dew.point.temperature)\n",
    "hist(bike_train$Solar.Radiation)\n",
    "hist(bike_train$Rainfall)\n",
    "hist(bike_train$Snowfall)\n",
    "\n",
    "\n",
    "plot(as.factor(bike_train$Seasons),main=\"Bar Chart of Seasons\") \n",
    "plot(as.factor(bike_train$Date),main=\"Bar Chart of Date\")\n",
    "plot(as.factor(bike_train$Holiday), main=\"Bar Chart of Holiday\")\n",
    "plot(as.factor(bike_train$Functioning.Day), main=\"Bar Chart of Functioning.Day\")\n"
   ]
  },
  {
   "cell_type": "markdown",
   "metadata": {},
   "source": [
    "1. As from the above observations we can see that the data is Holiday , VIsibility and Functioning Day are negatively skewed\n",
    "this means bikes are mostly rented on Non Holidays, Functioning Days where the visibility is around 2000<br>\n",
    "2. Whereas, the variables like Rented Bike Count, Rainfall, Snowfall,Solar Radiation are positvely skewed <br>\n",
    "Date and Seasons are equally distributed.<br>\n",
    "3. The wind speed is mostly between 0 to 5m/s.<br>\n",
    "4. The temperature ranges from -20 to 40 where temperature between 20 to 25 degree celsius is frequent.<br>\n",
    "5. Similarly Dew Point Temperature is common between 0 to 10 degree Celsius, where as the humidity of 55 percent occurs more frequently.\n",
    "6. Dew.Point.Temperature, Temperature and Humidity appears close to normally distributed."
   ]
  },
  {
   "cell_type": "markdown",
   "metadata": {},
   "source": [
    "As we can see that there are multiple variables have skewness in data, to reduce the skewness we will first apply log and sqrt to the variable to bring it in normally distibuted form\n",
    "\n",
    "\n",
    "<h3> Rented Bike Count </h3>"
   ]
  },
  {
   "cell_type": "code",
   "execution_count": 14,
   "metadata": {},
   "outputs": [
    {
     "data": {
      "image/png": "[encoded data removed]",
      "text/plain": [
       "Plot with title \"Histogram of log(Rented.Bike.Count+1)\""
      ]
     },
     "metadata": {},
     "output_type": "display_data"
    }
   ],
   "source": [
    "par(mfrow = c(2,2))\n",
    "hist(bike_train$Rented.Bike.Count, xlab = \"Rented.Bike.Count\", main=\"Histogram of Rented.Bike.Count\")\n",
    "hist(log(bike_train$Rented.Bike.Count), xlab = \"Rented.Bike.Count\", main=\"Histogram of log(Rented.Bike.Count)\")\n",
    "hist(log(bike_train$Rented.Bike.Count+1), xlab = \"Rented.Bike.Count\", main=\"Histogram of log(Rented.Bike.Count+1)\")\n"
   ]
  },
  {
   "cell_type": "markdown",
   "metadata": {},
   "source": [
    "After applying log on Rented.Bike.Count variable the data appeared negatively skewed, I tried applying log+1 but the plot is close to normal distribution\n",
    "\n",
    "<h3> Hour </h3>"
   ]
  },
  {
   "cell_type": "code",
   "execution_count": 15,
   "metadata": {},
   "outputs": [
    {
     "data": {
      "image/png": "[encoded data removed]",
      "text/plain": [
       "Plot with title \"Histogram of sqrt Hour+1)\""
      ]
     },
     "metadata": {},
     "output_type": "display_data"
    }
   ],
   "source": [
    "par(mfrow = c(2,2))\n",
    "hist(bike_train$Hour, xlab = \"Hour\", main=\"Histogram of Hour\")\n",
    "hist(log(bike_train$Hour), xlab = \"Hour\", main=\"Histogram of log(Hour)\")\n",
    "hist(log(bike_train$Hour+1), xlab = \"Hour\", main=\"Histogram of log(Hour+1)\")\n",
    "hist(sqrt(bike_train$Hour), xlab = \"Hour\", main=\"Histogram of sqrt Hour+1)\")"
   ]
  },
  {
   "cell_type": "markdown",
   "metadata": {},
   "source": [
    "The histogram of Hour looked a bit absurd so I tried applying log, log+1 and sqrt on it. The sqrt form of the graph looks more convincing and normally distributed\n",
    "\n",
    "<h3> Wind.Speed</h3>"
   ]
  },
  {
   "cell_type": "code",
   "execution_count": 16,
   "metadata": {},
   "outputs": [
    {
     "data": {
      "image/png": "[encoded data removed]",
      "text/plain": [
       "Plot with title \"Histogram of sqrt Wind.speed)\""
      ]
     },
     "metadata": {},
     "output_type": "display_data"
    }
   ],
   "source": [
    "par(mfrow = c(2,2))\n",
    "hist(bike_train$Wind.speed, xlab = \"Wind.speed\", main=\"Histogram of Wind.speed\")\n",
    "hist(log(bike_train$Wind.speed), xlab = \"Wind.speed\", main=\"Histogram of log(Wind.speed)\")\n",
    "hist(log(bike_train$Wind.speed+1), xlab = \"Wind.speed\", main=\"Histogram of log(Wind.speed+1)\")\n",
    "hist(sqrt(bike_train$Wind.speed), xlab = \"Wind.speed\", main=\"Histogram of sqrt Wind.speed)\")"
   ]
  },
  {
   "cell_type": "markdown",
   "metadata": {},
   "source": [
    "The log of Wind.Speed has a negative value in its log so we can look for log+1 as it looks to achieve normal distribution\n",
    "\n",
    "<h3>Temperature</h3>"
   ]
  },
  {
   "cell_type": "code",
   "execution_count": 17,
   "metadata": {},
   "outputs": [
    {
     "name": "stderr",
     "output_type": "stream",
     "text": [
      "Warning message in log(bike_train$Temperature):\n",
      "\"NaNs produced\"Warning message in log(bike_train$Temperature + 1):\n",
      "\"NaNs produced\"Warning message in sqrt(bike_train$Temperature):\n",
      "\"NaNs produced\""
     ]
    },
    {
     "data": {
      "image/png": "[encoded data removed]",
      "text/plain": [
       "Plot with title \"Histogram of sqrt Temperature)\""
      ]
     },
     "metadata": {},
     "output_type": "display_data"
    }
   ],
   "source": [
    "par(mfrow = c(2,2))\n",
    "hist(bike_train$Temperature, xlab = \"Temperature\", main=\"Histogram of Temperature\")\n",
    "hist(log(bike_train$Temperature), xlab = \"Temperature\", main=\"Histogram of log(Temperature)\")\n",
    "hist(log(bike_train$Temperature+1), xlab = \"Temperature\", main=\"Histogram of log(Temperature+1)\")\n",
    "hist(sqrt(bike_train$Temperature), xlab = \"Temperature\", main=\"Histogram of sqrt Temperature)\")"
   ]
  },
  {
   "cell_type": "markdown",
   "metadata": {},
   "source": [
    "The histogram of the Temperature was not in normal distribution form this led me to apply different transformations like log(),log()+1 and  sqrt(). Here the original histogram had negative values when  I converted it into log() it still had those negative values. I tried log()+1, the scale was altered but the values were still negative. Eventually I applied sqrt where the  scale and value both changed."
   ]
  },
  {
   "cell_type": "code",
   "execution_count": 18,
   "metadata": {},
   "outputs": [
    {
     "data": {
      "image/png": "[encoded data removed]",
      "text/plain": [
       "Plot with title \"Histogram of sqrt Visibility)\""
      ]
     },
     "metadata": {},
     "output_type": "display_data"
    }
   ],
   "source": [
    "\n",
    "par(mfrow = c(2,2))\n",
    "hist(bike_train$Visibility, xlab = \"Visibility\", main=\"Histogram of Visibility\")\n",
    "hist(log(bike_train$Visibility), xlab = \"Visibility\", main=\"Histogram of log(Visibility)\")\n",
    "hist(log(bike_train$Visibility+1), xlab = \"Visibility\", main=\"Histogram of log(Visibility+1)\")\n",
    "hist(sqrt(bike_train$Visibility), xlab = \"Visibility\", main=\"Histogram of sqrt Visibility)\")"
   ]
  },
  {
   "cell_type": "markdown",
   "metadata": {},
   "source": [
    "Initially, applying log to the Visibility variable did not change anything only the scale changed, Secondly I applied log+1 which looks exactly similar to log() and then finally I tried sqrt but unfortunately nothing changed much exept the scale. To recapitulate, even after performing so many transformations there is no improvement in the variable.\n",
    "\n",
    "<h3> Solar.Radiation </h3>"
   ]
  },
  {
   "cell_type": "code",
   "execution_count": 19,
   "metadata": {},
   "outputs": [
    {
     "data": {
      "image/png": "[encoded data removed]",
      "text/plain": [
       "Plot with title \"Histogram of sqrt Solar.Radiation)\""
      ]
     },
     "metadata": {},
     "output_type": "display_data"
    }
   ],
   "source": [
    "par(mfrow = c(2,2))\n",
    "hist(bike_train$Solar.Radiation, xlab = \"Solar.Radiation\", main=\"Histogram of Solar.Radiation\")\n",
    "hist(log(bike_train$Solar.Radiation), xlab = \"Solar.Radiation\", main=\"Histogram of log(Solar.Radiation)\")\n",
    "hist(log(bike_train$Solar.Radiation+1), xlab = \"Solar.Radiation\", main=\"Histogram of log(Solar.Radiation+1)\")\n",
    "hist(sqrt(bike_train$Solar.Radiation), xlab = \"Solar.Radiation\", main=\"Histogram of sqrt Solar.Radiation)\")"
   ]
  },
  {
   "cell_type": "markdown",
   "metadata": {},
   "source": [
    "Initially, applying log to the Solar.Radiation variable gave normally distributed form ,However there are also some negative values which made me to try  log+1 which looks exactly similar to its original form which is not convincing at all, so eventually  I tried sqrt but unfortunately nothing changed much except the scale. To recapitulate, even after performing so many transformations there is no improvement in the variable.\n",
    "<h2>Rainfall</h2>"
   ]
  },
  {
   "cell_type": "code",
   "execution_count": 20,
   "metadata": {},
   "outputs": [
    {
     "data": {
      "image/png": "[encoded data removed]",
      "text/plain": [
       "Plot with title \"Histogram of sqrt Rainfall)\""
      ]
     },
     "metadata": {},
     "output_type": "display_data"
    }
   ],
   "source": [
    "par(mfrow = c(2,2))\n",
    "hist(bike_train$Rainfall, xlab = \"Rainfall\", main=\"Histogram of Rainfall\")\n",
    "hist(log(bike_train$Rainfall), xlab = \"Rainfall\", main=\"Histogram of log(Rainfall)\")\n",
    "hist(log(bike_train$Rainfall+1), xlab = \"Rainfall\", main=\"Histogram of log(Rainfall+1)\")\n",
    "hist(sqrt(bike_train$Rainfall), xlab = \"Rainfall\", main=\"Histogram of sqrt Rainfall)\")"
   ]
  },
  {
   "cell_type": "markdown",
   "metadata": {},
   "source": [
    "Similar to Visibility and Solar.Radiation, There is nothing much we can do on this variable"
   ]
  },
  {
   "cell_type": "markdown",
   "metadata": {},
   "source": [
    "Similar to Rainfall variable, we cannot perform any more transformation on Snowfall"
   ]
  },
  {
   "cell_type": "markdown",
   "metadata": {},
   "source": [
    "<h3>Correlation between variables</h3><br>\n",
    " - <b>Scatterplots</b><br>"
   ]
  },
  {
   "cell_type": "code",
   "execution_count": 21,
   "metadata": {},
   "outputs": [],
   "source": [
    "colorRange <- c('#69091e', '#e37f65', 'white', '#aed2e6', '#042f60')\n",
    "## colorRamp() returns a function which takes as an argument a number\n",
    "## on [0,1] and returns a color in the gradient in colorRange\n",
    "myColorRampFunc <- colorRamp(colorRange)\n",
    "\n",
    "panel.cor <- function(w, z, ...) {\n",
    "    correlation <- cor(w, z)\n",
    "\n",
    "    ## because the func needs [0,1] and cor gives [-1,1], we need to shift and scale it\n",
    "    col <- rgb(myColorRampFunc((1 + correlation) / 2 ) / 255 )\n",
    "\n",
    "    ## square it to avoid visual bias due to \"area vs diameter\"\n",
    "    radius <- sqrt(abs(correlation))\n",
    "    radians <- seq(0, 2*pi, len = 50) # 50 is arbitrary\n",
    "    x <- radius * cos(radians)\n",
    "    y <- radius * sin(radians)\n",
    "    ## make them full loops\n",
    "    x <- c(x, tail(x,n=1))\n",
    "    y <- c(y, tail(y,n=1))\n",
    "\n",
    "\n",
    "    par(new=TRUE)\n",
    "    plot(0, type='n', xlim=c(-1,1), ylim=c(-1,1), axes=FALSE, asp=1)\n",
    "    polygon(x, y, border=col, col=col)\n",
    "}\n",
    "#adapted from tutorial week 3"
   ]
  },
  {
   "cell_type": "code",
   "execution_count": 22,
   "metadata": {
    "scrolled": true
   },
   "outputs": [
    {
     "data": {
      "image/png": "[encoded data removed]",
      "text/plain": [
       "plot without title"
      ]
     },
     "metadata": {},
     "output_type": "display_data"
    }
   ],
   "source": [
    "pairs(bike_train[sample.int(nrow(bike_train),1000),], upper.panel=panel.cor)"
   ]
  },
  {
   "cell_type": "markdown",
   "metadata": {},
   "source": [
    "In the above figure the observations are:\n",
    "\n",
    "\n",
    "The Blue bubble represent positive correlation whereas the red bubble represents negative correlation. <br>\n",
    "There is a positive correlation between <b>Temperature and Dew.Point.Temperature</b> also the there is a moderate positive relation between <b>Temperature and Solar.Radiation</b>,<b> Humidity and Dew.Point.Temperature</b> and <b> Humidity and Rainfall</b>  .<br>\n",
    "There is a strong <b>negative</b> correlation between <b>Humidity and Visibility</b>, <b>Humidity and Wind.Speed</b>, <b>Humidity and Solar.Radiation</b> whereas there is a moderate negative relation between Solar.Radiation.<br>"
   ]
  },
  {
   "cell_type": "code",
   "execution_count": 23,
   "metadata": {},
   "outputs": [],
   "source": [
    "bike_train2<-bike_train\n",
    "\n",
    "\n",
    "bike_train$Date <- as.numeric(bike_train$Date)\n",
    "bike_train$Seasons <- as.numeric(bike_train$Seasons)\n",
    "bike_train$Holiday <- as.numeric(bike_train$Holiday)\n",
    "bike_train$Functioning.Day <- as.numeric(bike_train$Functioning.Day )\n"
   ]
  },
  {
   "cell_type": "code",
   "execution_count": 24,
   "metadata": {},
   "outputs": [
    {
     "data": {
      "image/png": "[encoded data removed]",
      "text/plain": [
       "plot without title"
      ]
     },
     "metadata": {},
     "output_type": "display_data"
    }
   ],
   "source": [
    "myPanel <- function(x, y, z, ...) {\n",
    "    panel.levelplot(x,y,z,...)\n",
    "    panel.text(x, y, round(z, 1))\n",
    "}\n",
    "#Define the color scheme\n",
    "cols = colorRampPalette(c(\"orange\",\"purple\"))\n",
    "#Plot the correlation matrix.\n",
    "levelplot(cor(bike_train), col.regions = cols(100), main = \"correlation\", xlab = NULL, ylab = NULL, \n",
    "          scales = list(x = list(rot = 90)), panel = myPanel)\n",
    "\n",
    "#adapted from tutorial week 3"
   ]
  },
  {
   "cell_type": "markdown",
   "metadata": {},
   "source": [
    "## Correlation Matrix:\n",
    "In this matrix the value ranges between 1 and -1, here the value closer 1 denotes positive relationship whereas value below 0 denotes negative correlation.\n",
    "There is a positive correlation between Temperature and Dew.point.temperature as discussed above whereas there is also a positive relationship between Humidity and Dew.point.temperature, as occurence of Dew.point.temperaturedepends entirely on Humidity, there is also relationship between <b>Rented.Bike.Count and Temperature,  Rented.Bike.Count and Dew.point.temperature</b><br>\n",
    "\n",
    "There is <b>negative</b> correlation between <b>Humidity and Visibility</b>, <b>Humidity and Solar.Radiation</b><br>\n",
    "<b>Date, Holiday and Functioning</b>.\n",
    "Date do not not have any corelation with other variables"
   ]
  },
  {
   "cell_type": "markdown",
   "metadata": {},
   "source": [
    "Now, we will  check the linear relation between each variable.\n",
    "using bike_train dataset as the data in this this variable has categorical values in factor format"
   ]
  },
  {
   "cell_type": "code",
   "execution_count": 25,
   "metadata": {
    "scrolled": true
   },
   "outputs": [
    {
     "name": "stderr",
     "output_type": "stream",
     "text": [
      "`geom_smooth()` using formula 'y ~ x'\n",
      "`geom_smooth()` using formula 'y ~ x'\n",
      "`geom_smooth()` using formula 'y ~ x'\n",
      "`geom_smooth()` using formula 'y ~ x'\n",
      "`geom_smooth()` using formula 'y ~ x'\n",
      "`geom_smooth()` using formula 'y ~ x'\n",
      "`geom_smooth()` using formula 'y ~ x'\n",
      "`geom_smooth()` using formula 'y ~ x'\n",
      "`geom_smooth()` using formula 'y ~ x'\n",
      "`geom_smooth()` using formula 'y ~ x'\n",
      "`geom_smooth()` using formula 'y ~ x'\n",
      "`geom_smooth()` using formula 'y ~ x'\n",
      "`geom_smooth()` using formula 'y ~ x'\n"
     ]
    },
    {
     "data": {
      "image/png": "[encoded data removed]",
      "text/plain": [
       "plot without title"
      ]
     },
     "metadata": {},
     "output_type": "display_data"
    }
   ],
   "source": [
    "p1 <- ggplot(bike_train,aes(x = Hour, y\n",
    "= sqrt(Rented.Bike.Count))) + geom_point() + geom_smooth(method=lm, se=FALSE)\n",
    "\n",
    "p2 <- ggplot(bike_train,aes(x = Temperature, y\n",
    "= sqrt(Rented.Bike.Count))) + geom_point() + geom_smooth(method=lm, se=FALSE)\n",
    "\n",
    "p3 <- ggplot(bike_train,aes(x = Humidity, y\n",
    "= sqrt(Rented.Bike.Count))) + geom_point() + geom_smooth(method=lm, se=FALSE)\n",
    "\n",
    "p4 <- ggplot(bike_train,aes(x = Dew.point.temperature, y\n",
    "= sqrt(Rented.Bike.Count))) + geom_point() + geom_smooth(method=lm, se=FALSE)\n",
    "\n",
    "p5 <- ggplot(bike_train,aes(x = Wind.speed , y\n",
    "= sqrt(Rented.Bike.Count))) + geom_point() + geom_smooth(method=lm, se=FALSE)\n",
    "\n",
    "p6 <- ggplot(bike_train,aes(x = Visibility, y\n",
    "= sqrt(Rented.Bike.Count))) + geom_point() + geom_smooth(method=lm, se=FALSE)\n",
    "\n",
    "p7 <- ggplot(bike_train,aes(x = Solar.Radiation, y\n",
    "= sqrt(Rented.Bike.Count))) + geom_point() + geom_smooth(method=lm, se=FALSE)\n",
    "\n",
    "p8 <- ggplot(bike_train,aes(x = Rainfall , y\n",
    "= sqrt(Rented.Bike.Count))) + geom_point() + geom_smooth(method=lm, se=FALSE)\n",
    "\n",
    "p9 <- ggplot(bike_train,aes(x = Snowfall, y\n",
    "= sqrt(Rented.Bike.Count))) + geom_point() + geom_smooth(method=lm, se=FALSE)\n",
    "\n",
    "p10 <- ggplot(bike_train,aes(x = Seasons, y\n",
    "= sqrt(Rented.Bike.Count))) + geom_point() + geom_smooth(method=lm, se=FALSE)\n",
    "\n",
    "p11 <- ggplot(bike_train,aes(x = Date, y\n",
    "= sqrt(Rented.Bike.Count))) + geom_point() + geom_smooth(method=lm, se=FALSE)\n",
    "\n",
    "p12 <- ggplot(bike_train,aes(x = Holiday, y\n",
    "= sqrt(Rented.Bike.Count))) + geom_point() + geom_smooth(method=lm, se=FALSE)\n",
    "\n",
    "\n",
    "\n",
    "p13 <- ggplot(bike_train,aes(x = Functioning.Day, y\n",
    "= sqrt(Rented.Bike.Count))) + geom_point() + geom_smooth(method=lm, se=FALSE)\n",
    "\n",
    "grid.arrange(p1, p2, p3, p4, p5, p6, p7,p8,p9,p10,p11,p12,p13,ncol=3, top=\"Linear relationship with all variables\")"
   ]
  },
  {
   "cell_type": "markdown",
   "metadata": {},
   "source": [
    "## Linear Relationship:"
   ]
  },
  {
   "cell_type": "markdown",
   "metadata": {},
   "source": [
    " - In linear relationship any change in independent variable will produce corresponding change in the dependent variable .<br>\n",
    " - There is a linear relationship between Temperature and Rental.Bike.Count, Rental.Bike.Count and dew.point.temperature, Rental.Bike.Count and Solar.Radation.<br> \n",
    " - For the other variables there is a horizontal line which depicts no linear relatinship between variables.<br><br>\n",
    "\n",
    " - Whenever there is a change in temperature there will be a change in bike count, similarly when there will be a change in dew.point.temperature there will be change in Bike count as well.\n",
    "\n",
    " - Solar. Radiation and Humidity also show linear relationship with the target variable. This means change in solar radiation and humidity effect the rented bike count\n"
   ]
  },
  {
   "cell_type": "markdown",
   "metadata": {},
   "source": [
    "\n",
    "\n",
    "Before creating the model we are extracting the month and year from the date column and then remove the Date column, as we saw above that it does not have any correlation with any of the variables<br>"
   ]
  },
  {
   "cell_type": "code",
   "execution_count": 26,
   "metadata": {},
   "outputs": [
    {
     "data": {
      "text/html": [
       "<table>\n",
       "<caption>A data.frame: 7008 × 15</caption>\n",
       "<thead>\n",
       "\t<tr><th scope=col>Date</th><th scope=col>Rented.Bike.Count</th><th scope=col>Hour</th><th scope=col>Temperature</th><th scope=col>Humidity</th><th scope=col>Wind.speed</th><th scope=col>Visibility</th><th scope=col>Dew.point.temperature</th><th scope=col>Solar.Radiation</th><th scope=col>Rainfall</th><th scope=col>Snowfall</th><th scope=col>Seasons</th><th scope=col>Holiday</th><th scope=col>Functioning.Day</th><th scope=col>month_year</th></tr>\n",
       "\t<tr><th scope=col>&lt;date&gt;</th><th scope=col>&lt;int&gt;</th><th scope=col>&lt;int&gt;</th><th scope=col>&lt;dbl&gt;</th><th scope=col>&lt;int&gt;</th><th scope=col>&lt;dbl&gt;</th><th scope=col>&lt;int&gt;</th><th scope=col>&lt;dbl&gt;</th><th scope=col>&lt;dbl&gt;</th><th scope=col>&lt;dbl&gt;</th><th scope=col>&lt;dbl&gt;</th><th scope=col>&lt;fct&gt;</th><th scope=col>&lt;fct&gt;</th><th scope=col>&lt;fct&gt;</th><th scope=col>&lt;chr&gt;</th></tr>\n",
       "</thead>\n",
       "<tbody>\n",
       "\t<tr><td>0018-03-13</td><td> 705</td><td>14</td><td> 18.3</td><td>43</td><td>2.2</td><td>1509</td><td>  5.4</td><td>2.43</td><td>0.0</td><td>0</td><td>Spring</td><td>No Holiday</td><td>Yes</td><td>March_2018    </td></tr>\n",
       "\t<tr><td>0018-03-15</td><td> 289</td><td>14</td><td> 12.1</td><td>97</td><td>2.0</td><td> 177</td><td> 11.6</td><td>0.20</td><td>0.0</td><td>0</td><td>Spring</td><td>No Holiday</td><td>Yes</td><td>March_2018    </td></tr>\n",
       "\t<tr><td>0018-11-29</td><td> 126</td><td> 5</td><td>  1.8</td><td>34</td><td>0.9</td><td>1990</td><td>-12.4</td><td>0.00</td><td>0.0</td><td>0</td><td>Autumn</td><td>No Holiday</td><td>Yes</td><td>November_2018 </td></tr>\n",
       "\t<tr><td>0018-04-04</td><td> 378</td><td> 9</td><td> 10.4</td><td>81</td><td>1.4</td><td>2000</td><td>  7.2</td><td>0.36</td><td>0.0</td><td>0</td><td>Spring</td><td>No Holiday</td><td>Yes</td><td>April_2018    </td></tr>\n",
       "\t<tr><td>0018-02-15</td><td> 236</td><td>17</td><td>  2.4</td><td>17</td><td>3.1</td><td>1990</td><td>-20.2</td><td>0.78</td><td>0.0</td><td>0</td><td>Winter</td><td>Holiday   </td><td>Yes</td><td>February_2018 </td></tr>\n",
       "\t<tr><td>0018-04-20</td><td> 708</td><td>10</td><td> 18.2</td><td>36</td><td>1.0</td><td> 620</td><td>  2.8</td><td>1.99</td><td>0.0</td><td>0</td><td>Spring</td><td>No Holiday</td><td>Yes</td><td>April_2018    </td></tr>\n",
       "\t<tr><td>0018-06-17</td><td> 715</td><td> 8</td><td> 21.1</td><td>70</td><td>0.3</td><td> 766</td><td> 15.4</td><td>0.90</td><td>0.0</td><td>0</td><td>Summer</td><td>No Holiday</td><td>Yes</td><td>June_2018     </td></tr>\n",
       "\t<tr><td>0018-09-08</td><td>1001</td><td> 1</td><td> 18.9</td><td>55</td><td>2.3</td><td>2000</td><td>  9.6</td><td>0.00</td><td>0.0</td><td>0</td><td>Autumn</td><td>No Holiday</td><td>Yes</td><td>September_2018</td></tr>\n",
       "\t<tr><td>0018-03-25</td><td> 502</td><td>20</td><td> 10.7</td><td>70</td><td>2.8</td><td> 236</td><td>  5.4</td><td>0.00</td><td>0.0</td><td>0</td><td>Spring</td><td>No Holiday</td><td>Yes</td><td>March_2018    </td></tr>\n",
       "\t<tr><td>0018-07-01</td><td>  17</td><td>18</td><td> 22.2</td><td>96</td><td>1.2</td><td> 673</td><td> 21.5</td><td>0.09</td><td>3.5</td><td>0</td><td>Summer</td><td>No Holiday</td><td>Yes</td><td>July_2018     </td></tr>\n",
       "\t<tr><td>0018-03-31</td><td> 264</td><td> 7</td><td>  9.5</td><td>72</td><td>0.2</td><td>1017</td><td>  4.6</td><td>0.04</td><td>0.0</td><td>0</td><td>Spring</td><td>No Holiday</td><td>Yes</td><td>March_2018    </td></tr>\n",
       "\t<tr><td>0018-08-15</td><td> 850</td><td> 1</td><td> 29.6</td><td>69</td><td>0.4</td><td>1942</td><td> 23.3</td><td>0.00</td><td>0.0</td><td>0</td><td>Summer</td><td>Holiday   </td><td>Yes</td><td>August_2018   </td></tr>\n",
       "\t<tr><td>0018-03-17</td><td> 562</td><td>22</td><td>  7.0</td><td>55</td><td>2.7</td><td>1041</td><td> -1.4</td><td>0.00</td><td>0.0</td><td>0</td><td>Spring</td><td>No Holiday</td><td>Yes</td><td>March_2018    </td></tr>\n",
       "\t<tr><td>0018-04-04</td><td>  22</td><td> 3</td><td> 14.3</td><td>97</td><td>1.2</td><td> 228</td><td> 13.8</td><td>0.00</td><td>7.0</td><td>0</td><td>Spring</td><td>No Holiday</td><td>Yes</td><td>April_2018    </td></tr>\n",
       "\t<tr><td>0018-02-06</td><td>  40</td><td> 5</td><td>-12.3</td><td>37</td><td>2.9</td><td>2000</td><td>-24.0</td><td>0.00</td><td>0.0</td><td>0</td><td>Winter</td><td>No Holiday</td><td>Yes</td><td>February_2018 </td></tr>\n",
       "\t<tr><td>0017-12-24</td><td> 196</td><td> 2</td><td>  5.4</td><td>80</td><td>0.9</td><td> 190</td><td>  2.2</td><td>0.00</td><td>0.0</td><td>0</td><td>Winter</td><td>Holiday   </td><td>Yes</td><td>December_2017 </td></tr>\n",
       "\t<tr><td>0018-06-05</td><td> 214</td><td> 4</td><td> 18.5</td><td>72</td><td>0.6</td><td>1168</td><td> 13.3</td><td>0.00</td><td>0.0</td><td>0</td><td>Summer</td><td>No Holiday</td><td>Yes</td><td>June_2018     </td></tr>\n",
       "\t<tr><td>0018-10-21</td><td>1417</td><td>12</td><td> 18.4</td><td>28</td><td>1.9</td><td>1690</td><td> -0.4</td><td>2.33</td><td>0.0</td><td>0</td><td>Autumn</td><td>No Holiday</td><td>Yes</td><td>October_2018  </td></tr>\n",
       "\t<tr><td>0018-01-13</td><td> 215</td><td>14</td><td> -1.8</td><td>62</td><td>0.7</td><td> 936</td><td> -8.1</td><td>0.55</td><td>0.0</td><td>0</td><td>Winter</td><td>No Holiday</td><td>Yes</td><td>January_2018  </td></tr>\n",
       "\t<tr><td>0018-09-21</td><td>  78</td><td>10</td><td> 18.4</td><td>96</td><td>2.0</td><td>1124</td><td> 17.7</td><td>0.32</td><td>1.0</td><td>0</td><td>Autumn</td><td>No Holiday</td><td>Yes</td><td>September_2018</td></tr>\n",
       "\t<tr><td>0018-04-05</td><td> 150</td><td> 3</td><td>  8.9</td><td>64</td><td>2.2</td><td>2000</td><td>  2.4</td><td>0.00</td><td>0.0</td><td>0</td><td>Spring</td><td>No Holiday</td><td>Yes</td><td>April_2018    </td></tr>\n",
       "\t<tr><td>0018-04-13</td><td>1063</td><td>14</td><td> 18.7</td><td>14</td><td>1.6</td><td>2000</td><td> -9.3</td><td>1.25</td><td>0.0</td><td>0</td><td>Spring</td><td>No Holiday</td><td>Yes</td><td>April_2018    </td></tr>\n",
       "\t<tr><td>0018-10-29</td><td>1026</td><td>20</td><td>  6.8</td><td>59</td><td>3.2</td><td>2000</td><td> -0.6</td><td>0.00</td><td>0.0</td><td>0</td><td>Autumn</td><td>No Holiday</td><td>Yes</td><td>October_2018  </td></tr>\n",
       "\t<tr><td>0018-05-16</td><td>  81</td><td>10</td><td> 22.8</td><td>95</td><td>1.7</td><td> 176</td><td> 21.9</td><td>0.05</td><td>1.0</td><td>0</td><td>Spring</td><td>No Holiday</td><td>Yes</td><td>May_2018      </td></tr>\n",
       "\t<tr><td>0018-11-14</td><td> 135</td><td> 5</td><td>  5.3</td><td>72</td><td>0.2</td><td>1278</td><td>  0.6</td><td>0.00</td><td>0.0</td><td>0</td><td>Autumn</td><td>No Holiday</td><td>Yes</td><td>November_2018 </td></tr>\n",
       "\t<tr><td>0017-12-10</td><td> 326</td><td> 0</td><td> -0.2</td><td>55</td><td>1.0</td><td>1629</td><td> -8.1</td><td>0.00</td><td>0.0</td><td>0</td><td>Winter</td><td>No Holiday</td><td>Yes</td><td>December_2017 </td></tr>\n",
       "\t<tr><td>0018-11-05</td><td>1464</td><td>20</td><td> 12.7</td><td>75</td><td>2.0</td><td> 433</td><td>  8.3</td><td>0.00</td><td>0.0</td><td>0</td><td>Autumn</td><td>No Holiday</td><td>Yes</td><td>November_2018 </td></tr>\n",
       "\t<tr><td>0018-08-16</td><td>1446</td><td>23</td><td> 25.0</td><td>44</td><td>2.2</td><td>2000</td><td> 11.8</td><td>0.00</td><td>0.0</td><td>0</td><td>Summer</td><td>No Holiday</td><td>Yes</td><td>August_2018   </td></tr>\n",
       "\t<tr><td>0018-02-05</td><td> 170</td><td>14</td><td> -6.4</td><td>24</td><td>4.6</td><td>1970</td><td>-23.7</td><td>2.23</td><td>0.0</td><td>0</td><td>Winter</td><td>No Holiday</td><td>Yes</td><td>February_2018 </td></tr>\n",
       "\t<tr><td>0018-05-26</td><td>1285</td><td>12</td><td> 26.2</td><td>31</td><td>1.2</td><td>1161</td><td>  7.7</td><td>3.18</td><td>0.0</td><td>0</td><td>Spring</td><td>No Holiday</td><td>Yes</td><td>May_2018      </td></tr>\n",
       "\t<tr><td>...</td><td>...</td><td>...</td><td>...</td><td>...</td><td>...</td><td>...</td><td>...</td><td>...</td><td>...</td><td>...</td><td>...</td><td>...</td><td>...</td><td>...</td></tr>\n",
       "\t<tr><td>0017-12-10</td><td>  31</td><td> 9</td><td> 0.2</td><td>90</td><td>1.0</td><td> 305</td><td> -1.2</td><td>0.00</td><td>1.6</td><td>4.3</td><td>Winter</td><td>No Holiday</td><td>Yes</td><td>December_2017 </td></tr>\n",
       "\t<tr><td>0018-07-13</td><td> 377</td><td> 3</td><td>24.9</td><td>86</td><td>2.0</td><td>1079</td><td> 22.3</td><td>0.00</td><td>0.0</td><td>0.0</td><td>Summer</td><td>No Holiday</td><td>Yes</td><td>July_2018     </td></tr>\n",
       "\t<tr><td>0017-12-24</td><td>   4</td><td>12</td><td> 4.1</td><td>91</td><td>0.8</td><td> 404</td><td>  2.7</td><td>0.07</td><td>9.5</td><td>0.0</td><td>Winter</td><td>Holiday   </td><td>Yes</td><td>December_2017 </td></tr>\n",
       "\t<tr><td>0018-01-10</td><td>  31</td><td> 4</td><td>-6.6</td><td>72</td><td>2.2</td><td>2000</td><td>-10.8</td><td>0.00</td><td>0.0</td><td>0.8</td><td>Winter</td><td>No Holiday</td><td>Yes</td><td>January_2018  </td></tr>\n",
       "\t<tr><td>0018-09-11</td><td>2171</td><td>17</td><td>25.4</td><td>44</td><td>1.2</td><td>2000</td><td> 12.2</td><td>0.84</td><td>0.0</td><td>0.0</td><td>Autumn</td><td>No Holiday</td><td>Yes</td><td>September_2018</td></tr>\n",
       "\t<tr><td>0018-03-17</td><td> 103</td><td> 4</td><td> 1.3</td><td>61</td><td>0.7</td><td>2000</td><td> -5.4</td><td>0.00</td><td>0.0</td><td>0.0</td><td>Spring</td><td>No Holiday</td><td>Yes</td><td>March_2018    </td></tr>\n",
       "\t<tr><td>0018-10-08</td><td>1358</td><td>14</td><td>20.2</td><td>24</td><td>1.5</td><td>2000</td><td> -1.0</td><td>1.80</td><td>0.0</td><td>0.0</td><td>Autumn</td><td>No Holiday</td><td>Yes</td><td>October_2018  </td></tr>\n",
       "\t<tr><td>0018-08-06</td><td> 258</td><td> 5</td><td>28.3</td><td>83</td><td>1.7</td><td> 969</td><td> 25.1</td><td>0.00</td><td>0.0</td><td>0.0</td><td>Summer</td><td>No Holiday</td><td>Yes</td><td>August_2018   </td></tr>\n",
       "\t<tr><td>0018-01-06</td><td>  61</td><td> 4</td><td>-5.9</td><td>61</td><td>1.1</td><td>1260</td><td>-12.2</td><td>0.00</td><td>0.0</td><td>0.0</td><td>Winter</td><td>No Holiday</td><td>Yes</td><td>January_2018  </td></tr>\n",
       "\t<tr><td>0018-04-26</td><td> 851</td><td>23</td><td>12.1</td><td>58</td><td>1.9</td><td>1719</td><td>  4.0</td><td>0.00</td><td>0.0</td><td>0.0</td><td>Spring</td><td>No Holiday</td><td>Yes</td><td>April_2018    </td></tr>\n",
       "\t<tr><td>0018-08-11</td><td> 766</td><td>11</td><td>31.5</td><td>54</td><td>2.5</td><td>1918</td><td> 21.0</td><td>1.78</td><td>0.0</td><td>0.0</td><td>Summer</td><td>No Holiday</td><td>Yes</td><td>August_2018   </td></tr>\n",
       "\t<tr><td>0018-10-21</td><td> 534</td><td> 8</td><td> 7.9</td><td>67</td><td>1.1</td><td>1210</td><td>  2.1</td><td>0.28</td><td>0.0</td><td>0.0</td><td>Autumn</td><td>No Holiday</td><td>Yes</td><td>October_2018  </td></tr>\n",
       "\t<tr><td>0018-07-13</td><td>1782</td><td>17</td><td>30.1</td><td>65</td><td>1.8</td><td>1923</td><td> 22.7</td><td>1.36</td><td>0.0</td><td>0.0</td><td>Summer</td><td>No Holiday</td><td>Yes</td><td>July_2018     </td></tr>\n",
       "\t<tr><td>0018-08-02</td><td>1605</td><td>19</td><td>35.2</td><td>52</td><td>2.3</td><td>1754</td><td> 23.8</td><td>0.44</td><td>0.0</td><td>0.0</td><td>Summer</td><td>No Holiday</td><td>Yes</td><td>August_2018   </td></tr>\n",
       "\t<tr><td>0018-06-27</td><td>1145</td><td>12</td><td>24.1</td><td>73</td><td>2.2</td><td> 992</td><td> 18.9</td><td>2.15</td><td>0.0</td><td>0.0</td><td>Summer</td><td>No Holiday</td><td>Yes</td><td>June_2018     </td></tr>\n",
       "\t<tr><td>0018-05-16</td><td> 145</td><td> 2</td><td>23.9</td><td>69</td><td>0.3</td><td> 531</td><td> 17.8</td><td>0.00</td><td>0.2</td><td>0.0</td><td>Spring</td><td>No Holiday</td><td>Yes</td><td>May_2018      </td></tr>\n",
       "\t<tr><td>0018-03-17</td><td> 742</td><td>11</td><td> 8.0</td><td>39</td><td>1.2</td><td>1783</td><td> -5.1</td><td>2.26</td><td>0.0</td><td>0.0</td><td>Spring</td><td>No Holiday</td><td>Yes</td><td>March_2018    </td></tr>\n",
       "\t<tr><td>0018-10-15</td><td> 910</td><td>11</td><td>16.7</td><td>65</td><td>1.5</td><td> 675</td><td> 10.0</td><td>1.42</td><td>0.0</td><td>0.0</td><td>Autumn</td><td>No Holiday</td><td>Yes</td><td>October_2018  </td></tr>\n",
       "\t<tr><td>0018-10-29</td><td> 326</td><td> 1</td><td> 5.1</td><td>83</td><td>1.1</td><td>1989</td><td>  2.4</td><td>0.00</td><td>0.0</td><td>0.0</td><td>Autumn</td><td>No Holiday</td><td>Yes</td><td>October_2018  </td></tr>\n",
       "\t<tr><td>0018-10-26</td><td> 434</td><td> 2</td><td>12.8</td><td>59</td><td>0.9</td><td>1804</td><td>  4.9</td><td>0.00</td><td>0.0</td><td>0.0</td><td>Autumn</td><td>No Holiday</td><td>Yes</td><td>October_2018  </td></tr>\n",
       "\t<tr><td>0018-04-08</td><td> 137</td><td>16</td><td> 6.1</td><td>65</td><td>1.5</td><td>1465</td><td>  0.0</td><td>0.21</td><td>0.0</td><td>0.0</td><td>Spring</td><td>No Holiday</td><td>Yes</td><td>April_2018    </td></tr>\n",
       "\t<tr><td>0018-11-01</td><td>1899</td><td> 8</td><td> 2.8</td><td>74</td><td>0.9</td><td>1366</td><td> -1.3</td><td>0.13</td><td>0.0</td><td>0.0</td><td>Autumn</td><td>No Holiday</td><td>Yes</td><td>November_2018 </td></tr>\n",
       "\t<tr><td>0017-12-29</td><td> 636</td><td> 8</td><td> 1.0</td><td>68</td><td>0.6</td><td> 624</td><td> -4.2</td><td>0.00</td><td>0.0</td><td>0.0</td><td>Winter</td><td>No Holiday</td><td>Yes</td><td>December_2017 </td></tr>\n",
       "\t<tr><td>0018-05-26</td><td>1164</td><td>11</td><td>24.8</td><td>34</td><td>0.9</td><td>1439</td><td>  7.8</td><td>2.92</td><td>0.0</td><td>0.0</td><td>Spring</td><td>No Holiday</td><td>Yes</td><td>May_2018      </td></tr>\n",
       "\t<tr><td>0018-01-27</td><td> 189</td><td>13</td><td>-6.6</td><td>27</td><td>2.1</td><td>1889</td><td>-22.5</td><td>1.24</td><td>0.0</td><td>0.3</td><td>Winter</td><td>No Holiday</td><td>Yes</td><td>January_2018  </td></tr>\n",
       "\t<tr><td>0018-09-21</td><td> 127</td><td> 8</td><td>17.8</td><td>97</td><td>2.0</td><td>1284</td><td> 17.3</td><td>0.09</td><td>4.0</td><td>0.0</td><td>Autumn</td><td>No Holiday</td><td>Yes</td><td>September_2018</td></tr>\n",
       "\t<tr><td>0018-02-11</td><td>  58</td><td> 3</td><td>-7.2</td><td>43</td><td>2.0</td><td>2000</td><td>-17.6</td><td>0.00</td><td>0.0</td><td>0.0</td><td>Winter</td><td>No Holiday</td><td>Yes</td><td>February_2018 </td></tr>\n",
       "\t<tr><td>0018-03-30</td><td> 115</td><td> 4</td><td> 9.9</td><td>67</td><td>1.1</td><td> 820</td><td>  4.0</td><td>0.00</td><td>0.0</td><td>0.0</td><td>Spring</td><td>No Holiday</td><td>Yes</td><td>March_2018    </td></tr>\n",
       "\t<tr><td>0018-11-29</td><td> 800</td><td> 7</td><td> 0.8</td><td>41</td><td>0.6</td><td>1298</td><td>-10.9</td><td>0.00</td><td>0.0</td><td>0.0</td><td>Autumn</td><td>No Holiday</td><td>Yes</td><td>November_2018 </td></tr>\n",
       "\t<tr><td>0018-02-14</td><td> 349</td><td>13</td><td> 7.2</td><td>65</td><td>3.8</td><td> 773</td><td>  1.0</td><td>0.61</td><td>0.0</td><td>0.0</td><td>Winter</td><td>No Holiday</td><td>Yes</td><td>February_2018 </td></tr>\n",
       "</tbody>\n",
       "</table>\n"
      ],
      "text/latex": [
       "A data.frame: 7008 × 15\n",
       "\\begin{tabular}{lllllllllllllll}\n",
       " Date & Rented.Bike.Count & Hour & Temperature & Humidity & Wind.speed & Visibility & Dew.point.temperature & Solar.Radiation & Rainfall & Snowfall & Seasons & Holiday & Functioning.Day & month\\_year\\\\\n",
       " <date> & <int> & <int> & <dbl> & <int> & <dbl> & <int> & <dbl> & <dbl> & <dbl> & <dbl> & <fct> & <fct> & <fct> & <chr>\\\\\n",
       "\\hline\n",
       "\t 0018-03-13 &  705 & 14 &  18.3 & 43 & 2.2 & 1509 &   5.4 & 2.43 & 0.0 & 0 & Spring & No Holiday & Yes & March\\_2018    \\\\\n",
       "\t 0018-03-15 &  289 & 14 &  12.1 & 97 & 2.0 &  177 &  11.6 & 0.20 & 0.0 & 0 & Spring & No Holiday & Yes & March\\_2018    \\\\\n",
       "\t 0018-11-29 &  126 &  5 &   1.8 & 34 & 0.9 & 1990 & -12.4 & 0.00 & 0.0 & 0 & Autumn & No Holiday & Yes & November\\_2018 \\\\\n",
       "\t 0018-04-04 &  378 &  9 &  10.4 & 81 & 1.4 & 2000 &   7.2 & 0.36 & 0.0 & 0 & Spring & No Holiday & Yes & April\\_2018    \\\\\n",
       "\t 0018-02-15 &  236 & 17 &   2.4 & 17 & 3.1 & 1990 & -20.2 & 0.78 & 0.0 & 0 & Winter & Holiday    & Yes & February\\_2018 \\\\\n",
       "\t 0018-04-20 &  708 & 10 &  18.2 & 36 & 1.0 &  620 &   2.8 & 1.99 & 0.0 & 0 & Spring & No Holiday & Yes & April\\_2018    \\\\\n",
       "\t 0018-06-17 &  715 &  8 &  21.1 & 70 & 0.3 &  766 &  15.4 & 0.90 & 0.0 & 0 & Summer & No Holiday & Yes & June\\_2018     \\\\\n",
       "\t 0018-09-08 & 1001 &  1 &  18.9 & 55 & 2.3 & 2000 &   9.6 & 0.00 & 0.0 & 0 & Autumn & No Holiday & Yes & September\\_2018\\\\\n",
       "\t 0018-03-25 &  502 & 20 &  10.7 & 70 & 2.8 &  236 &   5.4 & 0.00 & 0.0 & 0 & Spring & No Holiday & Yes & March\\_2018    \\\\\n",
       "\t 0018-07-01 &   17 & 18 &  22.2 & 96 & 1.2 &  673 &  21.5 & 0.09 & 3.5 & 0 & Summer & No Holiday & Yes & July\\_2018     \\\\\n",
       "\t 0018-03-31 &  264 &  7 &   9.5 & 72 & 0.2 & 1017 &   4.6 & 0.04 & 0.0 & 0 & Spring & No Holiday & Yes & March\\_2018    \\\\\n",
       "\t 0018-08-15 &  850 &  1 &  29.6 & 69 & 0.4 & 1942 &  23.3 & 0.00 & 0.0 & 0 & Summer & Holiday    & Yes & August\\_2018   \\\\\n",
       "\t 0018-03-17 &  562 & 22 &   7.0 & 55 & 2.7 & 1041 &  -1.4 & 0.00 & 0.0 & 0 & Spring & No Holiday & Yes & March\\_2018    \\\\\n",
       "\t 0018-04-04 &   22 &  3 &  14.3 & 97 & 1.2 &  228 &  13.8 & 0.00 & 7.0 & 0 & Spring & No Holiday & Yes & April\\_2018    \\\\\n",
       "\t 0018-02-06 &   40 &  5 & -12.3 & 37 & 2.9 & 2000 & -24.0 & 0.00 & 0.0 & 0 & Winter & No Holiday & Yes & February\\_2018 \\\\\n",
       "\t 0017-12-24 &  196 &  2 &   5.4 & 80 & 0.9 &  190 &   2.2 & 0.00 & 0.0 & 0 & Winter & Holiday    & Yes & December\\_2017 \\\\\n",
       "\t 0018-06-05 &  214 &  4 &  18.5 & 72 & 0.6 & 1168 &  13.3 & 0.00 & 0.0 & 0 & Summer & No Holiday & Yes & June\\_2018     \\\\\n",
       "\t 0018-10-21 & 1417 & 12 &  18.4 & 28 & 1.9 & 1690 &  -0.4 & 2.33 & 0.0 & 0 & Autumn & No Holiday & Yes & October\\_2018  \\\\\n",
       "\t 0018-01-13 &  215 & 14 &  -1.8 & 62 & 0.7 &  936 &  -8.1 & 0.55 & 0.0 & 0 & Winter & No Holiday & Yes & January\\_2018  \\\\\n",
       "\t 0018-09-21 &   78 & 10 &  18.4 & 96 & 2.0 & 1124 &  17.7 & 0.32 & 1.0 & 0 & Autumn & No Holiday & Yes & September\\_2018\\\\\n",
       "\t 0018-04-05 &  150 &  3 &   8.9 & 64 & 2.2 & 2000 &   2.4 & 0.00 & 0.0 & 0 & Spring & No Holiday & Yes & April\\_2018    \\\\\n",
       "\t 0018-04-13 & 1063 & 14 &  18.7 & 14 & 1.6 & 2000 &  -9.3 & 1.25 & 0.0 & 0 & Spring & No Holiday & Yes & April\\_2018    \\\\\n",
       "\t 0018-10-29 & 1026 & 20 &   6.8 & 59 & 3.2 & 2000 &  -0.6 & 0.00 & 0.0 & 0 & Autumn & No Holiday & Yes & October\\_2018  \\\\\n",
       "\t 0018-05-16 &   81 & 10 &  22.8 & 95 & 1.7 &  176 &  21.9 & 0.05 & 1.0 & 0 & Spring & No Holiday & Yes & May\\_2018      \\\\\n",
       "\t 0018-11-14 &  135 &  5 &   5.3 & 72 & 0.2 & 1278 &   0.6 & 0.00 & 0.0 & 0 & Autumn & No Holiday & Yes & November\\_2018 \\\\\n",
       "\t 0017-12-10 &  326 &  0 &  -0.2 & 55 & 1.0 & 1629 &  -8.1 & 0.00 & 0.0 & 0 & Winter & No Holiday & Yes & December\\_2017 \\\\\n",
       "\t 0018-11-05 & 1464 & 20 &  12.7 & 75 & 2.0 &  433 &   8.3 & 0.00 & 0.0 & 0 & Autumn & No Holiday & Yes & November\\_2018 \\\\\n",
       "\t 0018-08-16 & 1446 & 23 &  25.0 & 44 & 2.2 & 2000 &  11.8 & 0.00 & 0.0 & 0 & Summer & No Holiday & Yes & August\\_2018   \\\\\n",
       "\t 0018-02-05 &  170 & 14 &  -6.4 & 24 & 4.6 & 1970 & -23.7 & 2.23 & 0.0 & 0 & Winter & No Holiday & Yes & February\\_2018 \\\\\n",
       "\t 0018-05-26 & 1285 & 12 &  26.2 & 31 & 1.2 & 1161 &   7.7 & 3.18 & 0.0 & 0 & Spring & No Holiday & Yes & May\\_2018      \\\\\n",
       "\t ... & ... & ... & ... & ... & ... & ... & ... & ... & ... & ... & ... & ... & ... & ...\\\\\n",
       "\t 0017-12-10 &   31 &  9 &  0.2 & 90 & 1.0 &  305 &  -1.2 & 0.00 & 1.6 & 4.3 & Winter & No Holiday & Yes & December\\_2017 \\\\\n",
       "\t 0018-07-13 &  377 &  3 & 24.9 & 86 & 2.0 & 1079 &  22.3 & 0.00 & 0.0 & 0.0 & Summer & No Holiday & Yes & July\\_2018     \\\\\n",
       "\t 0017-12-24 &    4 & 12 &  4.1 & 91 & 0.8 &  404 &   2.7 & 0.07 & 9.5 & 0.0 & Winter & Holiday    & Yes & December\\_2017 \\\\\n",
       "\t 0018-01-10 &   31 &  4 & -6.6 & 72 & 2.2 & 2000 & -10.8 & 0.00 & 0.0 & 0.8 & Winter & No Holiday & Yes & January\\_2018  \\\\\n",
       "\t 0018-09-11 & 2171 & 17 & 25.4 & 44 & 1.2 & 2000 &  12.2 & 0.84 & 0.0 & 0.0 & Autumn & No Holiday & Yes & September\\_2018\\\\\n",
       "\t 0018-03-17 &  103 &  4 &  1.3 & 61 & 0.7 & 2000 &  -5.4 & 0.00 & 0.0 & 0.0 & Spring & No Holiday & Yes & March\\_2018    \\\\\n",
       "\t 0018-10-08 & 1358 & 14 & 20.2 & 24 & 1.5 & 2000 &  -1.0 & 1.80 & 0.0 & 0.0 & Autumn & No Holiday & Yes & October\\_2018  \\\\\n",
       "\t 0018-08-06 &  258 &  5 & 28.3 & 83 & 1.7 &  969 &  25.1 & 0.00 & 0.0 & 0.0 & Summer & No Holiday & Yes & August\\_2018   \\\\\n",
       "\t 0018-01-06 &   61 &  4 & -5.9 & 61 & 1.1 & 1260 & -12.2 & 0.00 & 0.0 & 0.0 & Winter & No Holiday & Yes & January\\_2018  \\\\\n",
       "\t 0018-04-26 &  851 & 23 & 12.1 & 58 & 1.9 & 1719 &   4.0 & 0.00 & 0.0 & 0.0 & Spring & No Holiday & Yes & April\\_2018    \\\\\n",
       "\t 0018-08-11 &  766 & 11 & 31.5 & 54 & 2.5 & 1918 &  21.0 & 1.78 & 0.0 & 0.0 & Summer & No Holiday & Yes & August\\_2018   \\\\\n",
       "\t 0018-10-21 &  534 &  8 &  7.9 & 67 & 1.1 & 1210 &   2.1 & 0.28 & 0.0 & 0.0 & Autumn & No Holiday & Yes & October\\_2018  \\\\\n",
       "\t 0018-07-13 & 1782 & 17 & 30.1 & 65 & 1.8 & 1923 &  22.7 & 1.36 & 0.0 & 0.0 & Summer & No Holiday & Yes & July\\_2018     \\\\\n",
       "\t 0018-08-02 & 1605 & 19 & 35.2 & 52 & 2.3 & 1754 &  23.8 & 0.44 & 0.0 & 0.0 & Summer & No Holiday & Yes & August\\_2018   \\\\\n",
       "\t 0018-06-27 & 1145 & 12 & 24.1 & 73 & 2.2 &  992 &  18.9 & 2.15 & 0.0 & 0.0 & Summer & No Holiday & Yes & June\\_2018     \\\\\n",
       "\t 0018-05-16 &  145 &  2 & 23.9 & 69 & 0.3 &  531 &  17.8 & 0.00 & 0.2 & 0.0 & Spring & No Holiday & Yes & May\\_2018      \\\\\n",
       "\t 0018-03-17 &  742 & 11 &  8.0 & 39 & 1.2 & 1783 &  -5.1 & 2.26 & 0.0 & 0.0 & Spring & No Holiday & Yes & March\\_2018    \\\\\n",
       "\t 0018-10-15 &  910 & 11 & 16.7 & 65 & 1.5 &  675 &  10.0 & 1.42 & 0.0 & 0.0 & Autumn & No Holiday & Yes & October\\_2018  \\\\\n",
       "\t 0018-10-29 &  326 &  1 &  5.1 & 83 & 1.1 & 1989 &   2.4 & 0.00 & 0.0 & 0.0 & Autumn & No Holiday & Yes & October\\_2018  \\\\\n",
       "\t 0018-10-26 &  434 &  2 & 12.8 & 59 & 0.9 & 1804 &   4.9 & 0.00 & 0.0 & 0.0 & Autumn & No Holiday & Yes & October\\_2018  \\\\\n",
       "\t 0018-04-08 &  137 & 16 &  6.1 & 65 & 1.5 & 1465 &   0.0 & 0.21 & 0.0 & 0.0 & Spring & No Holiday & Yes & April\\_2018    \\\\\n",
       "\t 0018-11-01 & 1899 &  8 &  2.8 & 74 & 0.9 & 1366 &  -1.3 & 0.13 & 0.0 & 0.0 & Autumn & No Holiday & Yes & November\\_2018 \\\\\n",
       "\t 0017-12-29 &  636 &  8 &  1.0 & 68 & 0.6 &  624 &  -4.2 & 0.00 & 0.0 & 0.0 & Winter & No Holiday & Yes & December\\_2017 \\\\\n",
       "\t 0018-05-26 & 1164 & 11 & 24.8 & 34 & 0.9 & 1439 &   7.8 & 2.92 & 0.0 & 0.0 & Spring & No Holiday & Yes & May\\_2018      \\\\\n",
       "\t 0018-01-27 &  189 & 13 & -6.6 & 27 & 2.1 & 1889 & -22.5 & 1.24 & 0.0 & 0.3 & Winter & No Holiday & Yes & January\\_2018  \\\\\n",
       "\t 0018-09-21 &  127 &  8 & 17.8 & 97 & 2.0 & 1284 &  17.3 & 0.09 & 4.0 & 0.0 & Autumn & No Holiday & Yes & September\\_2018\\\\\n",
       "\t 0018-02-11 &   58 &  3 & -7.2 & 43 & 2.0 & 2000 & -17.6 & 0.00 & 0.0 & 0.0 & Winter & No Holiday & Yes & February\\_2018 \\\\\n",
       "\t 0018-03-30 &  115 &  4 &  9.9 & 67 & 1.1 &  820 &   4.0 & 0.00 & 0.0 & 0.0 & Spring & No Holiday & Yes & March\\_2018    \\\\\n",
       "\t 0018-11-29 &  800 &  7 &  0.8 & 41 & 0.6 & 1298 & -10.9 & 0.00 & 0.0 & 0.0 & Autumn & No Holiday & Yes & November\\_2018 \\\\\n",
       "\t 0018-02-14 &  349 & 13 &  7.2 & 65 & 3.8 &  773 &   1.0 & 0.61 & 0.0 & 0.0 & Winter & No Holiday & Yes & February\\_2018 \\\\\n",
       "\\end{tabular}\n"
      ],
      "text/markdown": [
       "\n",
       "A data.frame: 7008 × 15\n",
       "\n",
       "| Date &lt;date&gt; | Rented.Bike.Count &lt;int&gt; | Hour &lt;int&gt; | Temperature &lt;dbl&gt; | Humidity &lt;int&gt; | Wind.speed &lt;dbl&gt; | Visibility &lt;int&gt; | Dew.point.temperature &lt;dbl&gt; | Solar.Radiation &lt;dbl&gt; | Rainfall &lt;dbl&gt; | Snowfall &lt;dbl&gt; | Seasons &lt;fct&gt; | Holiday &lt;fct&gt; | Functioning.Day &lt;fct&gt; | month_year &lt;chr&gt; |\n",
       "|---|---|---|---|---|---|---|---|---|---|---|---|---|---|---|\n",
       "| 0018-03-13 |  705 | 14 |  18.3 | 43 | 2.2 | 1509 |   5.4 | 2.43 | 0.0 | 0 | Spring | No Holiday | Yes | March_2018     |\n",
       "| 0018-03-15 |  289 | 14 |  12.1 | 97 | 2.0 |  177 |  11.6 | 0.20 | 0.0 | 0 | Spring | No Holiday | Yes | March_2018     |\n",
       "| 0018-11-29 |  126 |  5 |   1.8 | 34 | 0.9 | 1990 | -12.4 | 0.00 | 0.0 | 0 | Autumn | No Holiday | Yes | November_2018  |\n",
       "| 0018-04-04 |  378 |  9 |  10.4 | 81 | 1.4 | 2000 |   7.2 | 0.36 | 0.0 | 0 | Spring | No Holiday | Yes | April_2018     |\n",
       "| 0018-02-15 |  236 | 17 |   2.4 | 17 | 3.1 | 1990 | -20.2 | 0.78 | 0.0 | 0 | Winter | Holiday    | Yes | February_2018  |\n",
       "| 0018-04-20 |  708 | 10 |  18.2 | 36 | 1.0 |  620 |   2.8 | 1.99 | 0.0 | 0 | Spring | No Holiday | Yes | April_2018     |\n",
       "| 0018-06-17 |  715 |  8 |  21.1 | 70 | 0.3 |  766 |  15.4 | 0.90 | 0.0 | 0 | Summer | No Holiday | Yes | June_2018      |\n",
       "| 0018-09-08 | 1001 |  1 |  18.9 | 55 | 2.3 | 2000 |   9.6 | 0.00 | 0.0 | 0 | Autumn | No Holiday | Yes | September_2018 |\n",
       "| 0018-03-25 |  502 | 20 |  10.7 | 70 | 2.8 |  236 |   5.4 | 0.00 | 0.0 | 0 | Spring | No Holiday | Yes | March_2018     |\n",
       "| 0018-07-01 |   17 | 18 |  22.2 | 96 | 1.2 |  673 |  21.5 | 0.09 | 3.5 | 0 | Summer | No Holiday | Yes | July_2018      |\n",
       "| 0018-03-31 |  264 |  7 |   9.5 | 72 | 0.2 | 1017 |   4.6 | 0.04 | 0.0 | 0 | Spring | No Holiday | Yes | March_2018     |\n",
       "| 0018-08-15 |  850 |  1 |  29.6 | 69 | 0.4 | 1942 |  23.3 | 0.00 | 0.0 | 0 | Summer | Holiday    | Yes | August_2018    |\n",
       "| 0018-03-17 |  562 | 22 |   7.0 | 55 | 2.7 | 1041 |  -1.4 | 0.00 | 0.0 | 0 | Spring | No Holiday | Yes | March_2018     |\n",
       "| 0018-04-04 |   22 |  3 |  14.3 | 97 | 1.2 |  228 |  13.8 | 0.00 | 7.0 | 0 | Spring | No Holiday | Yes | April_2018     |\n",
       "| 0018-02-06 |   40 |  5 | -12.3 | 37 | 2.9 | 2000 | -24.0 | 0.00 | 0.0 | 0 | Winter | No Holiday | Yes | February_2018  |\n",
       "| 0017-12-24 |  196 |  2 |   5.4 | 80 | 0.9 |  190 |   2.2 | 0.00 | 0.0 | 0 | Winter | Holiday    | Yes | December_2017  |\n",
       "| 0018-06-05 |  214 |  4 |  18.5 | 72 | 0.6 | 1168 |  13.3 | 0.00 | 0.0 | 0 | Summer | No Holiday | Yes | June_2018      |\n",
       "| 0018-10-21 | 1417 | 12 |  18.4 | 28 | 1.9 | 1690 |  -0.4 | 2.33 | 0.0 | 0 | Autumn | No Holiday | Yes | October_2018   |\n",
       "| 0018-01-13 |  215 | 14 |  -1.8 | 62 | 0.7 |  936 |  -8.1 | 0.55 | 0.0 | 0 | Winter | No Holiday | Yes | January_2018   |\n",
       "| 0018-09-21 |   78 | 10 |  18.4 | 96 | 2.0 | 1124 |  17.7 | 0.32 | 1.0 | 0 | Autumn | No Holiday | Yes | September_2018 |\n",
       "| 0018-04-05 |  150 |  3 |   8.9 | 64 | 2.2 | 2000 |   2.4 | 0.00 | 0.0 | 0 | Spring | No Holiday | Yes | April_2018     |\n",
       "| 0018-04-13 | 1063 | 14 |  18.7 | 14 | 1.6 | 2000 |  -9.3 | 1.25 | 0.0 | 0 | Spring | No Holiday | Yes | April_2018     |\n",
       "| 0018-10-29 | 1026 | 20 |   6.8 | 59 | 3.2 | 2000 |  -0.6 | 0.00 | 0.0 | 0 | Autumn | No Holiday | Yes | October_2018   |\n",
       "| 0018-05-16 |   81 | 10 |  22.8 | 95 | 1.7 |  176 |  21.9 | 0.05 | 1.0 | 0 | Spring | No Holiday | Yes | May_2018       |\n",
       "| 0018-11-14 |  135 |  5 |   5.3 | 72 | 0.2 | 1278 |   0.6 | 0.00 | 0.0 | 0 | Autumn | No Holiday | Yes | November_2018  |\n",
       "| 0017-12-10 |  326 |  0 |  -0.2 | 55 | 1.0 | 1629 |  -8.1 | 0.00 | 0.0 | 0 | Winter | No Holiday | Yes | December_2017  |\n",
       "| 0018-11-05 | 1464 | 20 |  12.7 | 75 | 2.0 |  433 |   8.3 | 0.00 | 0.0 | 0 | Autumn | No Holiday | Yes | November_2018  |\n",
       "| 0018-08-16 | 1446 | 23 |  25.0 | 44 | 2.2 | 2000 |  11.8 | 0.00 | 0.0 | 0 | Summer | No Holiday | Yes | August_2018    |\n",
       "| 0018-02-05 |  170 | 14 |  -6.4 | 24 | 4.6 | 1970 | -23.7 | 2.23 | 0.0 | 0 | Winter | No Holiday | Yes | February_2018  |\n",
       "| 0018-05-26 | 1285 | 12 |  26.2 | 31 | 1.2 | 1161 |   7.7 | 3.18 | 0.0 | 0 | Spring | No Holiday | Yes | May_2018       |\n",
       "| ... | ... | ... | ... | ... | ... | ... | ... | ... | ... | ... | ... | ... | ... | ... |\n",
       "| 0017-12-10 |   31 |  9 |  0.2 | 90 | 1.0 |  305 |  -1.2 | 0.00 | 1.6 | 4.3 | Winter | No Holiday | Yes | December_2017  |\n",
       "| 0018-07-13 |  377 |  3 | 24.9 | 86 | 2.0 | 1079 |  22.3 | 0.00 | 0.0 | 0.0 | Summer | No Holiday | Yes | July_2018      |\n",
       "| 0017-12-24 |    4 | 12 |  4.1 | 91 | 0.8 |  404 |   2.7 | 0.07 | 9.5 | 0.0 | Winter | Holiday    | Yes | December_2017  |\n",
       "| 0018-01-10 |   31 |  4 | -6.6 | 72 | 2.2 | 2000 | -10.8 | 0.00 | 0.0 | 0.8 | Winter | No Holiday | Yes | January_2018   |\n",
       "| 0018-09-11 | 2171 | 17 | 25.4 | 44 | 1.2 | 2000 |  12.2 | 0.84 | 0.0 | 0.0 | Autumn | No Holiday | Yes | September_2018 |\n",
       "| 0018-03-17 |  103 |  4 |  1.3 | 61 | 0.7 | 2000 |  -5.4 | 0.00 | 0.0 | 0.0 | Spring | No Holiday | Yes | March_2018     |\n",
       "| 0018-10-08 | 1358 | 14 | 20.2 | 24 | 1.5 | 2000 |  -1.0 | 1.80 | 0.0 | 0.0 | Autumn | No Holiday | Yes | October_2018   |\n",
       "| 0018-08-06 |  258 |  5 | 28.3 | 83 | 1.7 |  969 |  25.1 | 0.00 | 0.0 | 0.0 | Summer | No Holiday | Yes | August_2018    |\n",
       "| 0018-01-06 |   61 |  4 | -5.9 | 61 | 1.1 | 1260 | -12.2 | 0.00 | 0.0 | 0.0 | Winter | No Holiday | Yes | January_2018   |\n",
       "| 0018-04-26 |  851 | 23 | 12.1 | 58 | 1.9 | 1719 |   4.0 | 0.00 | 0.0 | 0.0 | Spring | No Holiday | Yes | April_2018     |\n",
       "| 0018-08-11 |  766 | 11 | 31.5 | 54 | 2.5 | 1918 |  21.0 | 1.78 | 0.0 | 0.0 | Summer | No Holiday | Yes | August_2018    |\n",
       "| 0018-10-21 |  534 |  8 |  7.9 | 67 | 1.1 | 1210 |   2.1 | 0.28 | 0.0 | 0.0 | Autumn | No Holiday | Yes | October_2018   |\n",
       "| 0018-07-13 | 1782 | 17 | 30.1 | 65 | 1.8 | 1923 |  22.7 | 1.36 | 0.0 | 0.0 | Summer | No Holiday | Yes | July_2018      |\n",
       "| 0018-08-02 | 1605 | 19 | 35.2 | 52 | 2.3 | 1754 |  23.8 | 0.44 | 0.0 | 0.0 | Summer | No Holiday | Yes | August_2018    |\n",
       "| 0018-06-27 | 1145 | 12 | 24.1 | 73 | 2.2 |  992 |  18.9 | 2.15 | 0.0 | 0.0 | Summer | No Holiday | Yes | June_2018      |\n",
       "| 0018-05-16 |  145 |  2 | 23.9 | 69 | 0.3 |  531 |  17.8 | 0.00 | 0.2 | 0.0 | Spring | No Holiday | Yes | May_2018       |\n",
       "| 0018-03-17 |  742 | 11 |  8.0 | 39 | 1.2 | 1783 |  -5.1 | 2.26 | 0.0 | 0.0 | Spring | No Holiday | Yes | March_2018     |\n",
       "| 0018-10-15 |  910 | 11 | 16.7 | 65 | 1.5 |  675 |  10.0 | 1.42 | 0.0 | 0.0 | Autumn | No Holiday | Yes | October_2018   |\n",
       "| 0018-10-29 |  326 |  1 |  5.1 | 83 | 1.1 | 1989 |   2.4 | 0.00 | 0.0 | 0.0 | Autumn | No Holiday | Yes | October_2018   |\n",
       "| 0018-10-26 |  434 |  2 | 12.8 | 59 | 0.9 | 1804 |   4.9 | 0.00 | 0.0 | 0.0 | Autumn | No Holiday | Yes | October_2018   |\n",
       "| 0018-04-08 |  137 | 16 |  6.1 | 65 | 1.5 | 1465 |   0.0 | 0.21 | 0.0 | 0.0 | Spring | No Holiday | Yes | April_2018     |\n",
       "| 0018-11-01 | 1899 |  8 |  2.8 | 74 | 0.9 | 1366 |  -1.3 | 0.13 | 0.0 | 0.0 | Autumn | No Holiday | Yes | November_2018  |\n",
       "| 0017-12-29 |  636 |  8 |  1.0 | 68 | 0.6 |  624 |  -4.2 | 0.00 | 0.0 | 0.0 | Winter | No Holiday | Yes | December_2017  |\n",
       "| 0018-05-26 | 1164 | 11 | 24.8 | 34 | 0.9 | 1439 |   7.8 | 2.92 | 0.0 | 0.0 | Spring | No Holiday | Yes | May_2018       |\n",
       "| 0018-01-27 |  189 | 13 | -6.6 | 27 | 2.1 | 1889 | -22.5 | 1.24 | 0.0 | 0.3 | Winter | No Holiday | Yes | January_2018   |\n",
       "| 0018-09-21 |  127 |  8 | 17.8 | 97 | 2.0 | 1284 |  17.3 | 0.09 | 4.0 | 0.0 | Autumn | No Holiday | Yes | September_2018 |\n",
       "| 0018-02-11 |   58 |  3 | -7.2 | 43 | 2.0 | 2000 | -17.6 | 0.00 | 0.0 | 0.0 | Winter | No Holiday | Yes | February_2018  |\n",
       "| 0018-03-30 |  115 |  4 |  9.9 | 67 | 1.1 |  820 |   4.0 | 0.00 | 0.0 | 0.0 | Spring | No Holiday | Yes | March_2018     |\n",
       "| 0018-11-29 |  800 |  7 |  0.8 | 41 | 0.6 | 1298 | -10.9 | 0.00 | 0.0 | 0.0 | Autumn | No Holiday | Yes | November_2018  |\n",
       "| 0018-02-14 |  349 | 13 |  7.2 | 65 | 3.8 |  773 |   1.0 | 0.61 | 0.0 | 0.0 | Winter | No Holiday | Yes | February_2018  |\n",
       "\n"
      ],
      "text/plain": [
       "     Date       Rented.Bike.Count Hour Temperature Humidity Wind.speed\n",
       "1    0018-03-13  705              14    18.3       43       2.2       \n",
       "2    0018-03-15  289              14    12.1       97       2.0       \n",
       "3    0018-11-29  126               5     1.8       34       0.9       \n",
       "4    0018-04-04  378               9    10.4       81       1.4       \n",
       "5    0018-02-15  236              17     2.4       17       3.1       \n",
       "6    0018-04-20  708              10    18.2       36       1.0       \n",
       "7    0018-06-17  715               8    21.1       70       0.3       \n",
       "8    0018-09-08 1001               1    18.9       55       2.3       \n",
       "9    0018-03-25  502              20    10.7       70       2.8       \n",
       "10   0018-07-01   17              18    22.2       96       1.2       \n",
       "11   0018-03-31  264               7     9.5       72       0.2       \n",
       "12   0018-08-15  850               1    29.6       69       0.4       \n",
       "13   0018-03-17  562              22     7.0       55       2.7       \n",
       "14   0018-04-04   22               3    14.3       97       1.2       \n",
       "15   0018-02-06   40               5   -12.3       37       2.9       \n",
       "16   0017-12-24  196               2     5.4       80       0.9       \n",
       "17   0018-06-05  214               4    18.5       72       0.6       \n",
       "18   0018-10-21 1417              12    18.4       28       1.9       \n",
       "19   0018-01-13  215              14    -1.8       62       0.7       \n",
       "20   0018-09-21   78              10    18.4       96       2.0       \n",
       "21   0018-04-05  150               3     8.9       64       2.2       \n",
       "22   0018-04-13 1063              14    18.7       14       1.6       \n",
       "23   0018-10-29 1026              20     6.8       59       3.2       \n",
       "24   0018-05-16   81              10    22.8       95       1.7       \n",
       "25   0018-11-14  135               5     5.3       72       0.2       \n",
       "26   0017-12-10  326               0    -0.2       55       1.0       \n",
       "27   0018-11-05 1464              20    12.7       75       2.0       \n",
       "28   0018-08-16 1446              23    25.0       44       2.2       \n",
       "29   0018-02-05  170              14    -6.4       24       4.6       \n",
       "30   0018-05-26 1285              12    26.2       31       1.2       \n",
       "...  ...        ...               ...  ...         ...      ...       \n",
       "6979 0017-12-10   31               9    0.2        90       1.0       \n",
       "6980 0018-07-13  377               3   24.9        86       2.0       \n",
       "6981 0017-12-24    4              12    4.1        91       0.8       \n",
       "6982 0018-01-10   31               4   -6.6        72       2.2       \n",
       "6983 0018-09-11 2171              17   25.4        44       1.2       \n",
       "6984 0018-03-17  103               4    1.3        61       0.7       \n",
       "6985 0018-10-08 1358              14   20.2        24       1.5       \n",
       "6986 0018-08-06  258               5   28.3        83       1.7       \n",
       "6987 0018-01-06   61               4   -5.9        61       1.1       \n",
       "6988 0018-04-26  851              23   12.1        58       1.9       \n",
       "6989 0018-08-11  766              11   31.5        54       2.5       \n",
       "6990 0018-10-21  534               8    7.9        67       1.1       \n",
       "6991 0018-07-13 1782              17   30.1        65       1.8       \n",
       "6992 0018-08-02 1605              19   35.2        52       2.3       \n",
       "6993 0018-06-27 1145              12   24.1        73       2.2       \n",
       "6994 0018-05-16  145               2   23.9        69       0.3       \n",
       "6995 0018-03-17  742              11    8.0        39       1.2       \n",
       "6996 0018-10-15  910              11   16.7        65       1.5       \n",
       "6997 0018-10-29  326               1    5.1        83       1.1       \n",
       "6998 0018-10-26  434               2   12.8        59       0.9       \n",
       "6999 0018-04-08  137              16    6.1        65       1.5       \n",
       "7000 0018-11-01 1899               8    2.8        74       0.9       \n",
       "7001 0017-12-29  636               8    1.0        68       0.6       \n",
       "7002 0018-05-26 1164              11   24.8        34       0.9       \n",
       "7003 0018-01-27  189              13   -6.6        27       2.1       \n",
       "7004 0018-09-21  127               8   17.8        97       2.0       \n",
       "7005 0018-02-11   58               3   -7.2        43       2.0       \n",
       "7006 0018-03-30  115               4    9.9        67       1.1       \n",
       "7007 0018-11-29  800               7    0.8        41       0.6       \n",
       "7008 0018-02-14  349              13    7.2        65       3.8       \n",
       "     Visibility Dew.point.temperature Solar.Radiation Rainfall Snowfall Seasons\n",
       "1    1509         5.4                 2.43            0.0      0        Spring \n",
       "2     177        11.6                 0.20            0.0      0        Spring \n",
       "3    1990       -12.4                 0.00            0.0      0        Autumn \n",
       "4    2000         7.2                 0.36            0.0      0        Spring \n",
       "5    1990       -20.2                 0.78            0.0      0        Winter \n",
       "6     620         2.8                 1.99            0.0      0        Spring \n",
       "7     766        15.4                 0.90            0.0      0        Summer \n",
       "8    2000         9.6                 0.00            0.0      0        Autumn \n",
       "9     236         5.4                 0.00            0.0      0        Spring \n",
       "10    673        21.5                 0.09            3.5      0        Summer \n",
       "11   1017         4.6                 0.04            0.0      0        Spring \n",
       "12   1942        23.3                 0.00            0.0      0        Summer \n",
       "13   1041        -1.4                 0.00            0.0      0        Spring \n",
       "14    228        13.8                 0.00            7.0      0        Spring \n",
       "15   2000       -24.0                 0.00            0.0      0        Winter \n",
       "16    190         2.2                 0.00            0.0      0        Winter \n",
       "17   1168        13.3                 0.00            0.0      0        Summer \n",
       "18   1690        -0.4                 2.33            0.0      0        Autumn \n",
       "19    936        -8.1                 0.55            0.0      0        Winter \n",
       "20   1124        17.7                 0.32            1.0      0        Autumn \n",
       "21   2000         2.4                 0.00            0.0      0        Spring \n",
       "22   2000        -9.3                 1.25            0.0      0        Spring \n",
       "23   2000        -0.6                 0.00            0.0      0        Autumn \n",
       "24    176        21.9                 0.05            1.0      0        Spring \n",
       "25   1278         0.6                 0.00            0.0      0        Autumn \n",
       "26   1629        -8.1                 0.00            0.0      0        Winter \n",
       "27    433         8.3                 0.00            0.0      0        Autumn \n",
       "28   2000        11.8                 0.00            0.0      0        Summer \n",
       "29   1970       -23.7                 2.23            0.0      0        Winter \n",
       "30   1161         7.7                 3.18            0.0      0        Spring \n",
       "...  ...        ...                   ...             ...      ...      ...    \n",
       "6979  305        -1.2                 0.00            1.6      4.3      Winter \n",
       "6980 1079        22.3                 0.00            0.0      0.0      Summer \n",
       "6981  404         2.7                 0.07            9.5      0.0      Winter \n",
       "6982 2000       -10.8                 0.00            0.0      0.8      Winter \n",
       "6983 2000        12.2                 0.84            0.0      0.0      Autumn \n",
       "6984 2000        -5.4                 0.00            0.0      0.0      Spring \n",
       "6985 2000        -1.0                 1.80            0.0      0.0      Autumn \n",
       "6986  969        25.1                 0.00            0.0      0.0      Summer \n",
       "6987 1260       -12.2                 0.00            0.0      0.0      Winter \n",
       "6988 1719         4.0                 0.00            0.0      0.0      Spring \n",
       "6989 1918        21.0                 1.78            0.0      0.0      Summer \n",
       "6990 1210         2.1                 0.28            0.0      0.0      Autumn \n",
       "6991 1923        22.7                 1.36            0.0      0.0      Summer \n",
       "6992 1754        23.8                 0.44            0.0      0.0      Summer \n",
       "6993  992        18.9                 2.15            0.0      0.0      Summer \n",
       "6994  531        17.8                 0.00            0.2      0.0      Spring \n",
       "6995 1783        -5.1                 2.26            0.0      0.0      Spring \n",
       "6996  675        10.0                 1.42            0.0      0.0      Autumn \n",
       "6997 1989         2.4                 0.00            0.0      0.0      Autumn \n",
       "6998 1804         4.9                 0.00            0.0      0.0      Autumn \n",
       "6999 1465         0.0                 0.21            0.0      0.0      Spring \n",
       "7000 1366        -1.3                 0.13            0.0      0.0      Autumn \n",
       "7001  624        -4.2                 0.00            0.0      0.0      Winter \n",
       "7002 1439         7.8                 2.92            0.0      0.0      Spring \n",
       "7003 1889       -22.5                 1.24            0.0      0.3      Winter \n",
       "7004 1284        17.3                 0.09            4.0      0.0      Autumn \n",
       "7005 2000       -17.6                 0.00            0.0      0.0      Winter \n",
       "7006  820         4.0                 0.00            0.0      0.0      Spring \n",
       "7007 1298       -10.9                 0.00            0.0      0.0      Autumn \n",
       "7008  773         1.0                 0.61            0.0      0.0      Winter \n",
       "     Holiday    Functioning.Day month_year    \n",
       "1    No Holiday Yes             March_2018    \n",
       "2    No Holiday Yes             March_2018    \n",
       "3    No Holiday Yes             November_2018 \n",
       "4    No Holiday Yes             April_2018    \n",
       "5    Holiday    Yes             February_2018 \n",
       "6    No Holiday Yes             April_2018    \n",
       "7    No Holiday Yes             June_2018     \n",
       "8    No Holiday Yes             September_2018\n",
       "9    No Holiday Yes             March_2018    \n",
       "10   No Holiday Yes             July_2018     \n",
       "11   No Holiday Yes             March_2018    \n",
       "12   Holiday    Yes             August_2018   \n",
       "13   No Holiday Yes             March_2018    \n",
       "14   No Holiday Yes             April_2018    \n",
       "15   No Holiday Yes             February_2018 \n",
       "16   Holiday    Yes             December_2017 \n",
       "17   No Holiday Yes             June_2018     \n",
       "18   No Holiday Yes             October_2018  \n",
       "19   No Holiday Yes             January_2018  \n",
       "20   No Holiday Yes             September_2018\n",
       "21   No Holiday Yes             April_2018    \n",
       "22   No Holiday Yes             April_2018    \n",
       "23   No Holiday Yes             October_2018  \n",
       "24   No Holiday Yes             May_2018      \n",
       "25   No Holiday Yes             November_2018 \n",
       "26   No Holiday Yes             December_2017 \n",
       "27   No Holiday Yes             November_2018 \n",
       "28   No Holiday Yes             August_2018   \n",
       "29   No Holiday Yes             February_2018 \n",
       "30   No Holiday Yes             May_2018      \n",
       "...  ...        ...             ...           \n",
       "6979 No Holiday Yes             December_2017 \n",
       "6980 No Holiday Yes             July_2018     \n",
       "6981 Holiday    Yes             December_2017 \n",
       "6982 No Holiday Yes             January_2018  \n",
       "6983 No Holiday Yes             September_2018\n",
       "6984 No Holiday Yes             March_2018    \n",
       "6985 No Holiday Yes             October_2018  \n",
       "6986 No Holiday Yes             August_2018   \n",
       "6987 No Holiday Yes             January_2018  \n",
       "6988 No Holiday Yes             April_2018    \n",
       "6989 No Holiday Yes             August_2018   \n",
       "6990 No Holiday Yes             October_2018  \n",
       "6991 No Holiday Yes             July_2018     \n",
       "6992 No Holiday Yes             August_2018   \n",
       "6993 No Holiday Yes             June_2018     \n",
       "6994 No Holiday Yes             May_2018      \n",
       "6995 No Holiday Yes             March_2018    \n",
       "6996 No Holiday Yes             October_2018  \n",
       "6997 No Holiday Yes             October_2018  \n",
       "6998 No Holiday Yes             October_2018  \n",
       "6999 No Holiday Yes             April_2018    \n",
       "7000 No Holiday Yes             November_2018 \n",
       "7001 No Holiday Yes             December_2017 \n",
       "7002 No Holiday Yes             May_2018      \n",
       "7003 No Holiday Yes             January_2018  \n",
       "7004 No Holiday Yes             September_2018\n",
       "7005 No Holiday Yes             February_2018 \n",
       "7006 No Holiday Yes             March_2018    \n",
       "7007 No Holiday Yes             November_2018 \n",
       "7008 No Holiday Yes             February_2018 "
      ]
     },
     "metadata": {},
     "output_type": "display_data"
    }
   ],
   "source": [
    "\n",
    "bike_train1$Date<- as.Date(bike_train1$Date, format = \"%d/%m/%Y\")\n",
    "bike_train1$month_year <- format(bike_train1$Date, \"%B_20%y\") # this will give output like \"Sep\"\n",
    "bike_train<-bike_train1\n",
    "bike_train"
   ]
  },
  {
   "cell_type": "code",
   "execution_count": 27,
   "metadata": {},
   "outputs": [],
   "source": [
    "#drop the column Date\n",
    "bike_train$Date<-NULL\n"
   ]
  },
  {
   "cell_type": "code",
   "execution_count": 28,
   "metadata": {},
   "outputs": [],
   "source": [
    "#convert categorical values to factor\n",
    "bike_train$month_year <- as.factor(bike_train$month_year)\n",
    "bike_train$month_year <- as.numeric(bike_train$month_year)"
   ]
  },
  {
   "cell_type": "code",
   "execution_count": 29,
   "metadata": {},
   "outputs": [
    {
     "data": {
      "image/png": "[encoded data removed]",
      "text/plain": [
       "Plot with title \"Histogram of bike_train$month_year\""
      ]
     },
     "metadata": {},
     "output_type": "display_data"
    }
   ],
   "source": [
    "hist(bike_train$month_year)"
   ]
  },
  {
   "cell_type": "markdown",
   "metadata": {},
   "source": [
    "We can see the count of rented bikes according to each month and year. We are taking this as a numeric type before fitting it into a model."
   ]
  },
  {
   "cell_type": "markdown",
   "metadata": {},
   "source": [
    "## 4. Methodology<a class=\"anchor\" id=\"sec_4\"></a>"
   ]
  },
  {
   "cell_type": "markdown",
   "metadata": {},
   "source": [
    "For this task we will be using Regression for understanding the relationship between the variables using definitive set of statistical processes. We will be using different Linear Regression approaches for creating the model like :\n",
    "\n",
    " - Multiple Linear Regression Model<br>\n",
    " - Lasso Regression Model<br>\n",
    " \n",
    " We will follow run multiple iterations and use any many as varaiable to make sure The Model is accurate, As higher the number of variables higher is R^2 value. We will be verify the p value in case of multiple linear regression to find the most significant variable which rejects the null hypoothesis, whereas the lambda value with cross validation to shrink the co-efficients and find the most favourable variables. I will apply the correlations performed in the Exploratory Data Analysis part on model three to make it more accurate.\n",
    " \n",
    " "
   ]
  },
  {
   "cell_type": "markdown",
   "metadata": {},
   "source": [
    "## 5. Model Development <a class=\"anchor\" id=\"sec_5\"></a>"
   ]
  },
  {
   "cell_type": "markdown",
   "metadata": {},
   "source": [
    "<h3> Iteration 1:</h3>\n",
    "\n",
    "Here I am plotting the the target variable with all the variables, where target variable is with a log +1  achieved  the normal distribution.  "
   ]
  },
  {
   "cell_type": "code",
   "execution_count": 30,
   "metadata": {},
   "outputs": [
    {
     "data": {
      "text/plain": [
       "\n",
       "Call:\n",
       "lm(formula = log(Rented.Bike.Count + 1) ~ ., data = bike_train)\n",
       "\n",
       "Residuals:\n",
       "    Min      1Q  Median      3Q     Max \n",
       "-4.8207 -0.3479  0.0684  0.4272  6.0885 \n",
       "\n",
       "Coefficients:\n",
       "                        Estimate Std. Error t value Pr(>|t|)    \n",
       "(Intercept)            7.943e-01  1.948e-01   4.078 4.59e-05 ***\n",
       "Hour                   4.144e-02  1.390e-03  29.823  < 2e-16 ***\n",
       "Temperature           -1.797e-02  6.887e-03  -2.610  0.00908 ** \n",
       "Humidity              -3.254e-02  1.930e-03 -16.857  < 2e-16 ***\n",
       "Wind.speed            -7.065e-03  9.679e-03  -0.730  0.46545    \n",
       "Visibility             1.034e-05  1.860e-05   0.556  0.57851    \n",
       "Dew.point.temperature  6.300e-02  7.213e-03   8.734  < 2e-16 ***\n",
       "Solar.Radiation       -6.065e-03  1.440e-02  -0.421  0.67355    \n",
       "Rainfall              -2.006e-01  7.784e-03 -25.776  < 2e-16 ***\n",
       "Snowfall              -7.644e-03  2.088e-02  -0.366  0.71431    \n",
       "SeasonsSpring         -2.070e-01  3.309e-02  -6.256 4.17e-10 ***\n",
       "SeasonsSummer         -1.329e-01  4.148e-02  -3.203  0.00137 ** \n",
       "SeasonsWinter         -6.555e-01  4.624e-02 -14.174  < 2e-16 ***\n",
       "HolidayNo Holiday      3.700e-01  4.075e-02   9.079  < 2e-16 ***\n",
       "Functioning.DayYes     6.487e+00  5.002e-02 129.675  < 2e-16 ***\n",
       "month_year             2.204e-02  4.096e-03   5.380 7.68e-08 ***\n",
       "---\n",
       "Signif. codes:  0 '***' 0.001 '**' 0.01 '*' 0.05 '.' 0.1 ' ' 1\n",
       "\n",
       "Residual standard error: 0.7304 on 6992 degrees of freedom\n",
       "Multiple R-squared:  0.7887,\tAdjusted R-squared:  0.7882 \n",
       "F-statistic:  1740 on 15 and 6992 DF,  p-value: < 2.2e-16\n"
      ]
     },
     "metadata": {},
     "output_type": "display_data"
    }
   ],
   "source": [
    "fit_model_1 <- lm(log(Rented.Bike.Count+1) ~ ., data = bike_train)\n",
    "summary(fit_model_1)"
   ]
  },
  {
   "cell_type": "markdown",
   "metadata": {},
   "source": [
    "The above statistics provides insights about how accurate the model is<br>\n",
    "\n",
    "Residual standard error (RSE), R-squared (R2) and the F-statistic are metrics that are used to check how well the model fits to our data.<br>\n",
    "Residual standard error provides standard error of residuals <br>\n",
    "Multiple R-squared and Adj R-Squared provides the amount of variation in dependent variable. Higher the better (> 0.70)<br>\n",
    "P-value tells about how significant the variable is whereas p-value < 2.2e-16 - so reject the null hypothesis <br>\n",
    "F-statistic values- Higher the better<br>\n",
    "Residual standard error (RSE)- Closer to zero the better<br>\n"
   ]
  },
  {
   "cell_type": "markdown",
   "metadata": {},
   "source": [
    "1. From the above statistics we can see that variables Hour,Humidity,Dew.point.temperature,Rainfall,Seasons,Holiday,month_year and Functioning.Day has highest significance whereas Temperature and Snowfall has lowest significance<br>\n",
    "2. The Multiple R-Squared is around 0.78.87 which is good (gretaer > 70)<br>\n",
    "3. The Adjusted R-Squared is 0.7882 as well which tell us that the there is 0.72 variation<br>\n",
    "4. F-statistics is 1740 which is good as well (Higher the better) with 6992 Degree of freedom.<br>"
   ]
  },
  {
   "cell_type": "code",
   "execution_count": 31,
   "metadata": {},
   "outputs": [
    {
     "name": "stdout",
     "output_type": "stream",
     "text": [
      "Start:  AIC=-4387.96\n",
      "log(Rented.Bike.Count + 1) ~ Hour + Temperature + Humidity + \n",
      "    Wind.speed + Visibility + Dew.point.temperature + Solar.Radiation + \n",
      "    Rainfall + Snowfall + Seasons + Holiday + Functioning.Day + \n",
      "    month_year\n",
      "\n",
      "                        Df Sum of Sq     RSS     AIC\n",
      "- Snowfall               1       0.1  3729.9 -4389.8\n",
      "- Solar.Radiation        1       0.1  3729.9 -4389.8\n",
      "- Visibility             1       0.2  3729.9 -4389.7\n",
      "- Wind.speed             1       0.3  3730.1 -4389.4\n",
      "<none>                                3729.8 -4388.0\n",
      "- Temperature            1       3.6  3733.4 -4383.1\n",
      "- month_year             1      15.4  3745.2 -4361.0\n",
      "- Dew.point.temperature  1      40.7  3770.5 -4313.9\n",
      "- Holiday                1      44.0  3773.7 -4307.8\n",
      "- Seasons                3     115.6  3845.4 -4180.1\n",
      "- Humidity               1     151.6  3881.4 -4110.8\n",
      "- Rainfall               1     354.4  4084.2 -3753.8\n",
      "- Hour                   1     474.4  4204.2 -3550.8\n",
      "- Functioning.Day        1    8970.0 12699.8  4196.5\n",
      "\n",
      "Step:  AIC=-4389.83\n",
      "log(Rented.Bike.Count + 1) ~ Hour + Temperature + Humidity + \n",
      "    Wind.speed + Visibility + Dew.point.temperature + Solar.Radiation + \n",
      "    Rainfall + Seasons + Holiday + Functioning.Day + month_year\n",
      "\n",
      "                        Df Sum of Sq     RSS     AIC\n",
      "- Solar.Radiation        1       0.1  3730.0 -4391.6\n",
      "- Visibility             1       0.2  3730.0 -4391.5\n",
      "- Wind.speed             1       0.3  3730.1 -4391.3\n",
      "<none>                                3729.9 -4389.8\n",
      "- Temperature            1       3.7  3733.5 -4384.9\n",
      "- month_year             1      15.5  3745.4 -4362.7\n",
      "- Dew.point.temperature  1      41.1  3771.0 -4315.0\n",
      "- Holiday                1      43.9  3773.8 -4309.8\n",
      "- Seasons                3     116.7  3846.5 -4179.9\n",
      "- Humidity               1     154.7  3884.6 -4107.0\n",
      "- Rainfall               1     354.4  4084.2 -3755.7\n",
      "- Hour                   1     474.5  4204.4 -3552.6\n",
      "- Functioning.Day        1    8971.0 12700.9  4195.1\n",
      "\n",
      "Step:  AIC=-4391.62\n",
      "log(Rented.Bike.Count + 1) ~ Hour + Temperature + Humidity + \n",
      "    Wind.speed + Visibility + Dew.point.temperature + Rainfall + \n",
      "    Seasons + Holiday + Functioning.Day + month_year\n",
      "\n",
      "                        Df Sum of Sq     RSS     AIC\n",
      "- Visibility             1       0.2  3730.2 -4393.2\n",
      "- Wind.speed             1       0.4  3730.4 -4392.9\n",
      "<none>                                3730.0 -4391.6\n",
      "- Temperature            1       4.5  3734.5 -4385.1\n",
      "- month_year             1      15.4  3745.4 -4364.7\n",
      "- Holiday                1      43.8  3773.8 -4311.7\n",
      "- Dew.point.temperature  1      44.4  3774.4 -4310.7\n",
      "- Seasons                3     118.0  3847.9 -4179.4\n",
      "- Humidity               1     155.1  3885.1 -4108.1\n",
      "- Rainfall               1     354.3  4084.3 -3757.6\n",
      "- Hour                   1     487.0  4217.0 -3533.6\n",
      "- Functioning.Day        1    8971.3 12701.3  4193.3\n",
      "\n",
      "Step:  AIC=-4393.17\n",
      "log(Rented.Bike.Count + 1) ~ Hour + Temperature + Humidity + \n",
      "    Wind.speed + Dew.point.temperature + Rainfall + Seasons + \n",
      "    Holiday + Functioning.Day + month_year\n",
      "\n",
      "                        Df Sum of Sq     RSS     AIC\n",
      "- Wind.speed             1       0.4  3730.6 -4394.5\n",
      "<none>                                3730.2 -4393.2\n",
      "- Temperature            1       4.9  3735.1 -4386.0\n",
      "- month_year             1      15.3  3745.5 -4366.6\n",
      "- Holiday                1      43.7  3773.9 -4313.5\n",
      "- Dew.point.temperature  1      45.7  3775.9 -4309.9\n",
      "- Seasons                3     121.7  3851.9 -4174.2\n",
      "- Humidity               1     170.8  3901.0 -4081.4\n",
      "- Rainfall               1     355.1  4085.3 -3757.9\n",
      "- Hour                   1     486.8  4217.0 -3535.5\n",
      "- Functioning.Day        1    8973.6 12703.8  4192.7\n",
      "\n",
      "Step:  AIC=-4394.5\n",
      "log(Rented.Bike.Count + 1) ~ Hour + Temperature + Humidity + \n",
      "    Dew.point.temperature + Rainfall + Seasons + Holiday + Functioning.Day + \n",
      "    month_year\n",
      "\n",
      "                        Df Sum of Sq     RSS     AIC\n",
      "<none>                                3730.6 -4394.5\n",
      "- Temperature            1       5.2  3735.7 -4386.8\n",
      "- month_year             1      15.3  3745.9 -4367.8\n",
      "- Holiday                1      43.8  3774.3 -4314.8\n",
      "- Dew.point.temperature  1      46.8  3777.3 -4309.2\n",
      "- Seasons                3     122.7  3853.2 -4173.7\n",
      "- Humidity               1     171.0  3901.6 -4082.4\n",
      "- Rainfall               1     356.9  4087.5 -3756.1\n",
      "- Hour                   1     504.3  4234.9 -3507.9\n",
      "- Functioning.Day        1    8989.5 12720.0  4199.7\n"
     ]
    },
    {
     "data": {
      "text/plain": [
       "\n",
       "Call:\n",
       "lm(formula = log(Rented.Bike.Count + 1) ~ ., data = bike_train)\n",
       "\n",
       "Residuals:\n",
       "    Min      1Q  Median      3Q     Max \n",
       "-4.8207 -0.3479  0.0684  0.4272  6.0885 \n",
       "\n",
       "Coefficients:\n",
       "                        Estimate Std. Error t value Pr(>|t|)    \n",
       "(Intercept)            7.943e-01  1.948e-01   4.078 4.59e-05 ***\n",
       "Hour                   4.144e-02  1.390e-03  29.823  < 2e-16 ***\n",
       "Temperature           -1.797e-02  6.887e-03  -2.610  0.00908 ** \n",
       "Humidity              -3.254e-02  1.930e-03 -16.857  < 2e-16 ***\n",
       "Wind.speed            -7.065e-03  9.679e-03  -0.730  0.46545    \n",
       "Visibility             1.034e-05  1.860e-05   0.556  0.57851    \n",
       "Dew.point.temperature  6.300e-02  7.213e-03   8.734  < 2e-16 ***\n",
       "Solar.Radiation       -6.065e-03  1.440e-02  -0.421  0.67355    \n",
       "Rainfall              -2.006e-01  7.784e-03 -25.776  < 2e-16 ***\n",
       "Snowfall              -7.644e-03  2.088e-02  -0.366  0.71431    \n",
       "SeasonsSpring         -2.070e-01  3.309e-02  -6.256 4.17e-10 ***\n",
       "SeasonsSummer         -1.329e-01  4.148e-02  -3.203  0.00137 ** \n",
       "SeasonsWinter         -6.555e-01  4.624e-02 -14.174  < 2e-16 ***\n",
       "HolidayNo Holiday      3.700e-01  4.075e-02   9.079  < 2e-16 ***\n",
       "Functioning.DayYes     6.487e+00  5.002e-02 129.675  < 2e-16 ***\n",
       "month_year             2.204e-02  4.096e-03   5.380 7.68e-08 ***\n",
       "---\n",
       "Signif. codes:  0 '***' 0.001 '**' 0.01 '*' 0.05 '.' 0.1 ' ' 1\n",
       "\n",
       "Residual standard error: 0.7304 on 6992 degrees of freedom\n",
       "Multiple R-squared:  0.7887,\tAdjusted R-squared:  0.7882 \n",
       "F-statistic:  1740 on 15 and 6992 DF,  p-value: < 2.2e-16\n"
      ]
     },
     "metadata": {},
     "output_type": "display_data"
    }
   ],
   "source": [
    "first_model<-step(fit_model_1)\n",
    "summary(fit_model_1)"
   ]
  },
  {
   "cell_type": "markdown",
   "metadata": {},
   "source": [
    "After applying step function which is used to remove unwanted variables, the R-squared value is same but the F-Statistic value will increase with 2373 on 11 and 6996 DF"
   ]
  },
  {
   "cell_type": "code",
   "execution_count": 32,
   "metadata": {},
   "outputs": [
    {
     "data": {
      "image/png": "[encoded data removed]",
      "text/plain": [
       "Plot with title \"\""
      ]
     },
     "metadata": {},
     "output_type": "display_data"
    }
   ],
   "source": [
    "par(mfrow=c(2,2))\n",
    "plot(fit_model_1)"
   ]
  },
  {
   "cell_type": "markdown",
   "metadata": {},
   "source": [
    "The model plots represents:\n",
    "\n",
    "<b>Residual vs Fitted</b> - It represent that the residuals are scattered evenly around 0 positvely and negatively and as the value increases the residuals are spread unevenly accross the plot.The model achieves heteroscedasticity.<br>\n",
    "<b>Normal Q-Q </b>- the residuals follows  dashed line, however it deviates half way through indicating the residuals are not normally distributed.<br>\n",
    "<b>Scale-Location</b> - The plot represents the model violates the assumption of equal variance<br>\n",
    "<b>Residuals vs Leverage</b> - The plot represents there are some possibly  outliers, however they appear to cancel each other out<br>"
   ]
  },
  {
   "cell_type": "markdown",
   "metadata": {},
   "source": [
    "<h3>Iteration 2</h3>\n",
    "\n",
    "\n",
    "We will try to achieve higher accuracy with transformed variable extracted in EDA<br>\n",
    "On trying to fit the model with required transformation like:<br>\n",
    "sqrt(Hour) <br>\n",
    "log(Rainfall+1)<br>\n",
    "log(Wind.speed+1)<br>\n",
    "\n",
    "- The following linear regression is:"
   ]
  },
  {
   "cell_type": "code",
   "execution_count": 33,
   "metadata": {},
   "outputs": [
    {
     "data": {
      "text/plain": [
       "\n",
       "Call:\n",
       "lm(formula = log(Rented.Bike.Count + 1) ~ sqrt(Hour) + Temperature + \n",
       "    Humidity + Dew.point.temperature + log(Rainfall + 1) + Seasons + \n",
       "    Holiday + month_year + Functioning.Day + log(Wind.speed + \n",
       "    1), data = bike_train)\n",
       "\n",
       "Residuals:\n",
       "    Min      1Q  Median      3Q     Max \n",
       "-4.4346 -0.3612  0.0617  0.4207  5.0676 \n",
       "\n",
       "Coefficients:\n",
       "                       Estimate Std. Error t value Pr(>|t|)    \n",
       "(Intercept)           -0.101865   0.175061  -0.582 0.560665    \n",
       "sqrt(Hour)             0.206359   0.007354  28.062  < 2e-16 ***\n",
       "Temperature            0.002639   0.006262   0.421 0.673455    \n",
       "Humidity              -0.023187   0.001795 -12.914  < 2e-16 ***\n",
       "Dew.point.temperature  0.041532   0.006708   6.191 6.31e-10 ***\n",
       "log(Rainfall + 1)     -1.316874   0.032292 -40.780  < 2e-16 ***\n",
       "SeasonsSpring         -0.214404   0.030780  -6.966 3.57e-12 ***\n",
       "SeasonsSummer         -0.153729   0.039603  -3.882 0.000105 ***\n",
       "SeasonsWinter         -0.666293   0.043233 -15.412  < 2e-16 ***\n",
       "HolidayNo Holiday      0.367713   0.038901   9.453  < 2e-16 ***\n",
       "month_year             0.019327   0.003895   4.963 7.12e-07 ***\n",
       "Functioning.DayYes     6.506974   0.047764 136.233  < 2e-16 ***\n",
       "log(Wind.speed + 1)    0.053662   0.025050   2.142 0.032212 *  \n",
       "---\n",
       "Signif. codes:  0 '***' 0.001 '**' 0.01 '*' 0.05 '.' 0.1 ' ' 1\n",
       "\n",
       "Residual standard error: 0.6978 on 6995 degrees of freedom\n",
       "Multiple R-squared:  0.807,\tAdjusted R-squared:  0.8067 \n",
       "F-statistic:  2438 on 12 and 6995 DF,  p-value: < 2.2e-16\n"
      ]
     },
     "metadata": {},
     "output_type": "display_data"
    }
   ],
   "source": [
    "fit_model_2 <- lm(formula = log(Rented.Bike.Count + 1) ~ sqrt(Hour) + Temperature + \n",
    "    Humidity + Dew.point.temperature + log(Rainfall+1) + Seasons + Holiday +\n",
    "    month_year + Functioning.Day+ log(Wind.speed+1),\n",
    "data = bike_train)\n",
    "summary(fit_model_2)"
   ]
  },
  {
   "cell_type": "markdown",
   "metadata": {},
   "source": [
    "From the summary of the model:\n",
    "- The F-statistic of 2438 is significant.\n",
    "- The $R^2$ value shows the model explains 80.7%, therefore using transformed data is allowing model to perform more accurately.\n",
    "- The p-values of the coefficients show that sqft_lot is below the 0.05 significance level and so the null hypothesis (this variable does not help explain the variance) cannot be rejected.\n",
    "- The Adjusted R-Squared is 80.6% as well which tell us that the there is 0.86 variation<br>\n",
    "- F-statistics is 2438 which is good as well (Higher the better) with 6995 Degree of freedom.<br>\n",
    "\n",
    "\n",
    "\n",
    "Applying backward step will remove the non-significant variables"
   ]
  },
  {
   "cell_type": "code",
   "execution_count": 34,
   "metadata": {},
   "outputs": [
    {
     "name": "stdout",
     "output_type": "stream",
     "text": [
      "Start:  AIC=-5030.75\n",
      "log(Rented.Bike.Count + 1) ~ sqrt(Hour) + Temperature + Humidity + \n",
      "    Dew.point.temperature + log(Rainfall + 1) + Seasons + Holiday + \n",
      "    month_year + Functioning.Day + log(Wind.speed + 1)\n",
      "\n",
      "                        Df Sum of Sq     RSS     AIC\n",
      "- Temperature            1       0.1  3405.9 -5032.6\n",
      "<none>                                3405.8 -5030.8\n",
      "- log(Wind.speed + 1)    1       2.2  3408.0 -5028.2\n",
      "- month_year             1      12.0  3417.8 -5008.1\n",
      "- Dew.point.temperature  1      18.7  3424.5 -4994.5\n",
      "- Holiday                1      43.5  3449.3 -4943.8\n",
      "- Humidity               1      81.2  3487.0 -4867.6\n",
      "- Seasons                3     123.2  3529.0 -4787.8\n",
      "- sqrt(Hour)             1     383.4  3789.2 -4285.1\n",
      "- log(Rainfall + 1)      1     809.7  4215.5 -3538.0\n",
      "- Functioning.Day        1    9036.5 12442.3  4046.9\n",
      "\n",
      "Step:  AIC=-5032.57\n",
      "log(Rented.Bike.Count + 1) ~ sqrt(Hour) + Humidity + Dew.point.temperature + \n",
      "    log(Rainfall + 1) + Seasons + Holiday + month_year + Functioning.Day + \n",
      "    log(Wind.speed + 1)\n",
      "\n",
      "                        Df Sum of Sq     RSS     AIC\n",
      "<none>                                3405.9 -5032.6\n",
      "- log(Wind.speed + 1)    1       2.3  3408.2 -5029.8\n",
      "- month_year             1      11.9  3417.8 -5010.1\n",
      "- Holiday                1      43.5  3449.4 -4945.6\n",
      "- Seasons                3     127.6  3533.5 -4780.8\n",
      "- sqrt(Hour)             1     386.3  3792.2 -4281.6\n",
      "- Dew.point.temperature  1     397.2  3803.1 -4261.6\n",
      "- Humidity               1     736.2  4142.1 -3663.2\n",
      "- log(Rainfall + 1)      1     829.7  4235.6 -3506.6\n",
      "- Functioning.Day        1    9040.1 12446.0  4047.0\n"
     ]
    },
    {
     "data": {
      "text/plain": [
       "\n",
       "Call:\n",
       "lm(formula = log(Rented.Bike.Count + 1) ~ sqrt(Hour) + Humidity + \n",
       "    Dew.point.temperature + log(Rainfall + 1) + Seasons + Holiday + \n",
       "    month_year + Functioning.Day + log(Wind.speed + 1), data = bike_train)\n",
       "\n",
       "Residuals:\n",
       "    Min      1Q  Median      3Q     Max \n",
       "-4.4333 -0.3604  0.0610  0.4199  5.0660 \n",
       "\n",
       "Coefficients:\n",
       "                        Estimate Std. Error t value Pr(>|t|)    \n",
       "(Intercept)           -0.0377540  0.0866180  -0.436   0.6629    \n",
       "sqrt(Hour)             0.2065855  0.0073336  28.170  < 2e-16 ***\n",
       "Humidity              -0.0238981  0.0006146 -38.887  < 2e-16 ***\n",
       "Dew.point.temperature  0.0442828  0.0015504  28.563  < 2e-16 ***\n",
       "log(Rainfall + 1)     -1.3146183  0.0318432 -41.284  < 2e-16 ***\n",
       "SeasonsSpring         -0.2147802  0.0307653  -6.981 3.19e-12 ***\n",
       "SeasonsSummer         -0.1543663  0.0395715  -3.901 9.67e-05 ***\n",
       "SeasonsWinter         -0.6689183  0.0427787 -15.637  < 2e-16 ***\n",
       "HolidayNo Holiday      0.3677219  0.0388986   9.453  < 2e-16 ***\n",
       "month_year             0.0191686  0.0038761   4.945 7.78e-07 ***\n",
       "Functioning.DayYes     6.5073208  0.0477536 136.269  < 2e-16 ***\n",
       "log(Wind.speed + 1)    0.0545575  0.0249584   2.186   0.0289 *  \n",
       "---\n",
       "Signif. codes:  0 '***' 0.001 '**' 0.01 '*' 0.05 '.' 0.1 ' ' 1\n",
       "\n",
       "Residual standard error: 0.6977 on 6996 degrees of freedom\n",
       "Multiple R-squared:  0.807,\tAdjusted R-squared:  0.8067 \n",
       "F-statistic:  2660 on 11 and 6996 DF,  p-value: < 2.2e-16\n"
      ]
     },
     "metadata": {},
     "output_type": "display_data"
    }
   ],
   "source": [
    "second_model<-step(fit_model_2)\n",
    "summary(second_model)"
   ]
  },
  {
   "cell_type": "markdown",
   "metadata": {},
   "source": []
  },
  {
   "cell_type": "code",
   "execution_count": 35,
   "metadata": {},
   "outputs": [
    {
     "data": {
      "image/png": "[encoded data removed]",
      "text/plain": [
       "Plot with title \"\""
      ]
     },
     "metadata": {},
     "output_type": "display_data"
    }
   ],
   "source": [
    "par(mfrow=c(2,2))\n",
    "plot(fit_model_2)"
   ]
  },
  {
   "cell_type": "markdown",
   "metadata": {},
   "source": [
    "The model plots represents:\n",
    "\n",
    "<b>Residual vs Fitted</b> - It represents that the residuals are scattered evenly around 0 positvely and negatively, the values are scattered unevenly across the plot from the left.The model achieves heteroscedasticity.<br>\n",
    "<b>Normal Q-Q </b>- the residuals deviates the dashed line initilally, however it gets back on the track indicating the residuals are normally distributed.<br>\n",
    "<b>Scale-Location</b> - The plot represents the model violates the assumption of equal variance<br>\n",
    "<b>Residuals vs Leverage</b> - The plot represents there are some possibly  outliers, however they appear to cancel each other out<br>"
   ]
  },
  {
   "cell_type": "markdown",
   "metadata": {},
   "source": [
    " <h3>Iteration 3</h3>\n",
    "- In the third iteration we will be considering the correlations performed in the Exploratory Data Analysis part to make it more accurate:<br>\n",
    "- Temperature:Dew.point.temperature<br>\n",
    "- Dew.point.temperature:Humidity<br>\n",
    "- Temperature:Solar.Radiation<br>\n",
    "- Wind.speed:Solar.Radiation<br>\n",
    "- Rainfall:Humidity<br> \n",
    "- Solar.Radiation:Humidity<br>\n",
    "These correlations are derived from correlation matrix from above"
   ]
  },
  {
   "cell_type": "code",
   "execution_count": 36,
   "metadata": {},
   "outputs": [
    {
     "data": {
      "text/plain": [
       "\n",
       "Call:\n",
       "lm(formula = log(Rented.Bike.Count + 1) ~ sqrt(Hour) + Temperature + \n",
       "    Humidity + Dew.point.temperature + log(Rainfall + 1) + Seasons + \n",
       "    Holiday + month_year + Functioning.Day + log(Wind.speed + \n",
       "    1) + Temperature:Dew.point.temperature + Dew.point.temperature:Humidity + \n",
       "    Temperature:Solar.Radiation + Wind.speed:Solar.Radiation + \n",
       "    Rainfall:Humidity + Solar.Radiation:Humidity, data = bike_train)\n",
       "\n",
       "Residuals:\n",
       "    Min      1Q  Median      3Q     Max \n",
       "-4.1007 -0.3450  0.0238  0.3933  3.3896 \n",
       "\n",
       "Coefficients:\n",
       "                                    Estimate Std. Error t value Pr(>|t|)    \n",
       "(Intercept)                       -1.200e+00  1.991e-01  -6.027 1.76e-09 ***\n",
       "sqrt(Hour)                         1.908e-01  7.081e-03  26.951  < 2e-16 ***\n",
       "Temperature                        5.883e-02  7.644e-03   7.696 1.60e-14 ***\n",
       "Humidity                          -1.253e-02  2.098e-03  -5.972 2.45e-09 ***\n",
       "Dew.point.temperature              1.595e-02  7.412e-03   2.152   0.0314 *  \n",
       "log(Rainfall + 1)                 -2.108e+00  6.151e-02 -34.269  < 2e-16 ***\n",
       "SeasonsSpring                     -2.169e-01  2.958e-02  -7.332 2.52e-13 ***\n",
       "SeasonsSummer                      3.843e-02  4.096e-02   0.938   0.3482    \n",
       "SeasonsWinter                     -5.058e-01  4.274e-02 -11.834  < 2e-16 ***\n",
       "HolidayNo Holiday                  3.843e-01  3.711e-02  10.356  < 2e-16 ***\n",
       "month_year                         1.993e-02  3.735e-03   5.335 9.83e-08 ***\n",
       "Functioning.DayYes                 6.538e+00  4.551e-02 143.644  < 2e-16 ***\n",
       "log(Wind.speed + 1)                1.148e-01  2.703e-02   4.245 2.21e-05 ***\n",
       "Temperature:Dew.point.temperature -5.886e-04  8.328e-05  -7.068 1.72e-12 ***\n",
       "Humidity:Dew.point.temperature    -3.213e-04  4.756e-05  -6.756 1.53e-11 ***\n",
       "Temperature:Solar.Radiation       -1.576e-02  1.076e-03 -14.650  < 2e-16 ***\n",
       "Solar.Radiation:Wind.speed        -1.751e-02  7.383e-03  -2.372   0.0177 *  \n",
       "Humidity:Rainfall                  2.413e-03  1.437e-04  16.793  < 2e-16 ***\n",
       "Humidity:Solar.Radiation           6.209e-03  5.368e-04  11.566  < 2e-16 ***\n",
       "---\n",
       "Signif. codes:  0 '***' 0.001 '**' 0.01 '*' 0.05 '.' 0.1 ' ' 1\n",
       "\n",
       "Residual standard error: 0.6641 on 6989 degrees of freedom\n",
       "Multiple R-squared:  0.8254,\tAdjusted R-squared:  0.8249 \n",
       "F-statistic:  1835 on 18 and 6989 DF,  p-value: < 2.2e-16\n"
      ]
     },
     "metadata": {},
     "output_type": "display_data"
    }
   ],
   "source": [
    "model_fit3 <- lm(formula = log(Rented.Bike.Count + 1) ~ sqrt(Hour) + Temperature + \n",
    "    Humidity + Dew.point.temperature + log(Rainfall + 1) + Seasons + \n",
    "    Holiday + month_year + Functioning.Day + log(Wind.speed + \n",
    "    1)+Temperature:Dew.point.temperature+Dew.point.temperature:Humidity+Temperature:Solar.Radiation+\n",
    "              Wind.speed:Solar.Radiation+Rainfall:Humidity+ Solar.Radiation:Humidity, data = bike_train)\n",
    "summary(model_fit3)"
   ]
  },
  {
   "cell_type": "markdown",
   "metadata": {},
   "source": []
  },
  {
   "cell_type": "code",
   "execution_count": 37,
   "metadata": {},
   "outputs": [
    {
     "name": "stdout",
     "output_type": "stream",
     "text": [
      "Start:  AIC=-5718.57\n",
      "log(Rented.Bike.Count + 1) ~ sqrt(Hour) + Temperature + Humidity + \n",
      "    Dew.point.temperature + log(Rainfall + 1) + Seasons + Holiday + \n",
      "    month_year + Functioning.Day + log(Wind.speed + 1) + Temperature:Dew.point.temperature + \n",
      "    Dew.point.temperature:Humidity + Temperature:Solar.Radiation + \n",
      "    Wind.speed:Solar.Radiation + Rainfall:Humidity + Solar.Radiation:Humidity\n",
      "\n",
      "                                    Df Sum of Sq     RSS     AIC\n",
      "<none>                                            3082.1 -5718.6\n",
      "- Solar.Radiation:Wind.speed         1       2.5  3084.6 -5714.9\n",
      "- log(Wind.speed + 1)                1       7.9  3090.1 -5702.5\n",
      "- month_year                         1      12.6  3094.7 -5692.1\n",
      "- Humidity:Dew.point.temperature     1      20.1  3102.3 -5674.9\n",
      "- Temperature:Dew.point.temperature  1      22.0  3104.2 -5670.6\n",
      "- Holiday                            1      47.3  3129.4 -5613.8\n",
      "- Humidity:Solar.Radiation           1      59.0  3141.1 -5587.7\n",
      "- Seasons                            3      78.2  3160.3 -5549.0\n",
      "- Temperature:Solar.Radiation        1      94.7  3176.8 -5508.6\n",
      "- Humidity:Rainfall                  1     124.4  3206.5 -5443.4\n",
      "- sqrt(Hour)                         1     320.3  3402.5 -5027.7\n",
      "- log(Rainfall + 1)                  1     517.9  3600.0 -4632.1\n",
      "- Functioning.Day                    1    9099.4 12181.5  3910.5\n"
     ]
    },
    {
     "data": {
      "text/plain": [
       "\n",
       "Call:\n",
       "lm(formula = log(Rented.Bike.Count + 1) ~ sqrt(Hour) + Temperature + \n",
       "    Humidity + Dew.point.temperature + log(Rainfall + 1) + Seasons + \n",
       "    Holiday + month_year + Functioning.Day + log(Wind.speed + \n",
       "    1) + Temperature:Dew.point.temperature + Dew.point.temperature:Humidity + \n",
       "    Temperature:Solar.Radiation + Wind.speed:Solar.Radiation + \n",
       "    Rainfall:Humidity + Solar.Radiation:Humidity, data = bike_train)\n",
       "\n",
       "Residuals:\n",
       "    Min      1Q  Median      3Q     Max \n",
       "-4.1007 -0.3450  0.0238  0.3933  3.3896 \n",
       "\n",
       "Coefficients:\n",
       "                                    Estimate Std. Error t value Pr(>|t|)    \n",
       "(Intercept)                       -1.200e+00  1.991e-01  -6.027 1.76e-09 ***\n",
       "sqrt(Hour)                         1.908e-01  7.081e-03  26.951  < 2e-16 ***\n",
       "Temperature                        5.883e-02  7.644e-03   7.696 1.60e-14 ***\n",
       "Humidity                          -1.253e-02  2.098e-03  -5.972 2.45e-09 ***\n",
       "Dew.point.temperature              1.595e-02  7.412e-03   2.152   0.0314 *  \n",
       "log(Rainfall + 1)                 -2.108e+00  6.151e-02 -34.269  < 2e-16 ***\n",
       "SeasonsSpring                     -2.169e-01  2.958e-02  -7.332 2.52e-13 ***\n",
       "SeasonsSummer                      3.843e-02  4.096e-02   0.938   0.3482    \n",
       "SeasonsWinter                     -5.058e-01  4.274e-02 -11.834  < 2e-16 ***\n",
       "HolidayNo Holiday                  3.843e-01  3.711e-02  10.356  < 2e-16 ***\n",
       "month_year                         1.993e-02  3.735e-03   5.335 9.83e-08 ***\n",
       "Functioning.DayYes                 6.538e+00  4.551e-02 143.644  < 2e-16 ***\n",
       "log(Wind.speed + 1)                1.148e-01  2.703e-02   4.245 2.21e-05 ***\n",
       "Temperature:Dew.point.temperature -5.886e-04  8.328e-05  -7.068 1.72e-12 ***\n",
       "Humidity:Dew.point.temperature    -3.213e-04  4.756e-05  -6.756 1.53e-11 ***\n",
       "Temperature:Solar.Radiation       -1.576e-02  1.076e-03 -14.650  < 2e-16 ***\n",
       "Solar.Radiation:Wind.speed        -1.751e-02  7.383e-03  -2.372   0.0177 *  \n",
       "Humidity:Rainfall                  2.413e-03  1.437e-04  16.793  < 2e-16 ***\n",
       "Humidity:Solar.Radiation           6.209e-03  5.368e-04  11.566  < 2e-16 ***\n",
       "---\n",
       "Signif. codes:  0 '***' 0.001 '**' 0.01 '*' 0.05 '.' 0.1 ' ' 1\n",
       "\n",
       "Residual standard error: 0.6641 on 6989 degrees of freedom\n",
       "Multiple R-squared:  0.8254,\tAdjusted R-squared:  0.8249 \n",
       "F-statistic:  1835 on 18 and 6989 DF,  p-value: < 2.2e-16\n"
      ]
     },
     "metadata": {},
     "output_type": "display_data"
    }
   ],
   "source": [
    "final<-step(model_fit3)\n",
    "summary(final)"
   ]
  },
  {
   "cell_type": "markdown",
   "metadata": {},
   "source": [
    "Here in the third iterations the iteractions between variables <b> Temperature:Dew.point.temperature,Temperature:Solar.Radiation,Humidity:Rainfall,Humidity:Solar.Radiation</b> have lower p values where as if we see the R squared it has increased significantly to 82.54% where as the F-Statistics has decreased to 1835 with 6989 Degree of freedom. <br>\n",
    "\n",
    "To recapitulate, Correlations helped to increase the accuracy of the model."
   ]
  },
  {
   "cell_type": "code",
   "execution_count": 38,
   "metadata": {},
   "outputs": [
    {
     "data": {
      "image/png": "[encoded data removed]",
      "text/plain": [
       "Plot with title \"\""
      ]
     },
     "metadata": {},
     "output_type": "display_data"
    }
   ],
   "source": [
    "par(mfrow=c(2,2))\n",
    "plot(model_fit3)"
   ]
  },
  {
   "cell_type": "markdown",
   "metadata": {},
   "source": [
    "The model plots represents:\n",
    "\n",
    "<b>Residual vs Fitted</b> - It represents that the residuals are scattered evenly around 0 positvely and negatively, the values are distributed unevenly. We can see some patterns accross the plot which makes model non-linear fits the data accurately.The model achieves heteroscedasticity.<br>\n",
    "<b>Normal Q-Q </b>- The residuals deviates the dashed line initilally, however it gets back on the track indicating the residuals are normally distributed but it deviates again<br>\n",
    "<b>Scale-Location</b> - The plot represents the model violates the assumption of equal variance<br>\n",
    "<b>Residuals vs Leverage</b> - The plot represents there are some possibly  outliers, however they appear to cancel each other out<br>"
   ]
  },
  {
   "cell_type": "markdown",
   "metadata": {},
   "source": [
    "<b>Here I am comparing the different iterations to get the best model</b>"
   ]
  },
  {
   "cell_type": "code",
   "execution_count": 39,
   "metadata": {},
   "outputs": [
    {
     "data": {
      "text/html": [
       "<table>\n",
       "<caption>A anova: 3 × 6</caption>\n",
       "<thead>\n",
       "\t<tr><th></th><th scope=col>Res.Df</th><th scope=col>RSS</th><th scope=col>Df</th><th scope=col>Sum of Sq</th><th scope=col>F</th><th scope=col>Pr(&gt;F)</th></tr>\n",
       "\t<tr><th></th><th scope=col>&lt;dbl&gt;</th><th scope=col>&lt;dbl&gt;</th><th scope=col>&lt;dbl&gt;</th><th scope=col>&lt;dbl&gt;</th><th scope=col>&lt;dbl&gt;</th><th scope=col>&lt;dbl&gt;</th></tr>\n",
       "</thead>\n",
       "<tbody>\n",
       "\t<tr><th scope=row>1</th><td>6996</td><td>3730.563</td><td>NA</td><td>      NA</td><td>      NA</td><td>           NA</td></tr>\n",
       "\t<tr><th scope=row>2</th><td>6996</td><td>3405.901</td><td> 0</td><td>324.6622</td><td>      NA</td><td>           NA</td></tr>\n",
       "\t<tr><th scope=row>3</th><td>6989</td><td>3082.141</td><td> 7</td><td>323.7592</td><td>104.8785</td><td>1.570458e-146</td></tr>\n",
       "</tbody>\n",
       "</table>\n"
      ],
      "text/latex": [
       "A anova: 3 × 6\n",
       "\\begin{tabular}{r|llllll}\n",
       "  & Res.Df & RSS & Df & Sum of Sq & F & Pr(>F)\\\\\n",
       "  & <dbl> & <dbl> & <dbl> & <dbl> & <dbl> & <dbl>\\\\\n",
       "\\hline\n",
       "\t1 & 6996 & 3730.563 & NA &       NA &       NA &            NA\\\\\n",
       "\t2 & 6996 & 3405.901 &  0 & 324.6622 &       NA &            NA\\\\\n",
       "\t3 & 6989 & 3082.141 &  7 & 323.7592 & 104.8785 & 1.570458e-146\\\\\n",
       "\\end{tabular}\n"
      ],
      "text/markdown": [
       "\n",
       "A anova: 3 × 6\n",
       "\n",
       "| <!--/--> | Res.Df &lt;dbl&gt; | RSS &lt;dbl&gt; | Df &lt;dbl&gt; | Sum of Sq &lt;dbl&gt; | F &lt;dbl&gt; | Pr(&gt;F) &lt;dbl&gt; |\n",
       "|---|---|---|---|---|---|---|\n",
       "| 1 | 6996 | 3730.563 | NA |       NA |       NA |            NA |\n",
       "| 2 | 6996 | 3405.901 |  0 | 324.6622 |       NA |            NA |\n",
       "| 3 | 6989 | 3082.141 |  7 | 323.7592 | 104.8785 | 1.570458e-146 |\n",
       "\n"
      ],
      "text/plain": [
       "  Res.Df RSS      Df Sum of Sq F        Pr(>F)       \n",
       "1 6996   3730.563 NA       NA        NA            NA\n",
       "2 6996   3405.901  0 324.6622        NA            NA\n",
       "3 6989   3082.141  7 323.7592  104.8785 1.570458e-146"
      ]
     },
     "metadata": {},
     "output_type": "display_data"
    }
   ],
   "source": [
    "anova(first_model,second_model,final)"
   ]
  },
  {
   "cell_type": "markdown",
   "metadata": {},
   "source": [
    "The RSS(Residual sum of squares ) value is the error between dataset and regression function. The lesser the error better the model. Hence from the statistics <b>model 3</b> has less error as compared to other models. Degree of Freedom is 7 which is more than other models.<br>\n",
    "The model 3 consist of all the significant variables which helps to predict the accurate value."
   ]
  },
  {
   "cell_type": "markdown",
   "metadata": {},
   "source": [
    "<h3> Subset Selection</h3>\n",
    "\n",
    "Subset selection provides the most favourable variables that can be used to fit in the model.  Here in this model variable Functioning.Day is considered as most optimal followed by log(Rainfall + 1 <br>\n",
    "This subset selection helps to improve the R-squared value and RSS of the model."
   ]
  },
  {
   "cell_type": "code",
   "execution_count": 40,
   "metadata": {
    "scrolled": true
   },
   "outputs": [
    {
     "data": {
      "text/plain": [
       "Subset selection object\n",
       "Call: regsubsets.formula(log(Rented.Bike.Count + 1) ~ sqrt(Hour) + \n",
       "    Temperature + Humidity + Dew.point.temperature + log(Rainfall + \n",
       "    1) + Seasons + Holiday + month_year + Functioning.Day + log(Wind.speed + \n",
       "    1) + Temperature:Dew.point.temperature + Dew.point.temperature:Humidity + \n",
       "    Temperature:Solar.Radiation + Wind.speed:Solar.Radiation + \n",
       "    Rainfall:Humidity + Solar.Radiation:Humidity, data = bike_train, \n",
       "    nvmax = 18)\n",
       "18 Variables  (and intercept)\n",
       "                                  Forced in Forced out\n",
       "sqrt(Hour)                            FALSE      FALSE\n",
       "Temperature                           FALSE      FALSE\n",
       "Humidity                              FALSE      FALSE\n",
       "Dew.point.temperature                 FALSE      FALSE\n",
       "log(Rainfall + 1)                     FALSE      FALSE\n",
       "SeasonsSpring                         FALSE      FALSE\n",
       "SeasonsSummer                         FALSE      FALSE\n",
       "SeasonsWinter                         FALSE      FALSE\n",
       "HolidayNo Holiday                     FALSE      FALSE\n",
       "month_year                            FALSE      FALSE\n",
       "Functioning.DayYes                    FALSE      FALSE\n",
       "log(Wind.speed + 1)                   FALSE      FALSE\n",
       "Temperature:Dew.point.temperature     FALSE      FALSE\n",
       "Humidity:Dew.point.temperature        FALSE      FALSE\n",
       "Temperature:Solar.Radiation           FALSE      FALSE\n",
       "Solar.Radiation:Wind.speed            FALSE      FALSE\n",
       "Humidity:Rainfall                     FALSE      FALSE\n",
       "Humidity:Solar.Radiation              FALSE      FALSE\n",
       "1 subsets of each size up to 18\n",
       "Selection Algorithm: exhaustive\n",
       "          sqrt(Hour) Temperature Humidity Dew.point.temperature\n",
       "1  ( 1 )  \" \"        \" \"         \" \"      \" \"                  \n",
       "2  ( 1 )  \" \"        \"*\"         \" \"      \" \"                  \n",
       "3  ( 1 )  \" \"        \"*\"         \" \"      \" \"                  \n",
       "4  ( 1 )  \"*\"        \"*\"         \" \"      \" \"                  \n",
       "5  ( 1 )  \"*\"        \" \"         \"*\"      \"*\"                  \n",
       "6  ( 1 )  \"*\"        \" \"         \"*\"      \"*\"                  \n",
       "7  ( 1 )  \"*\"        \" \"         \"*\"      \"*\"                  \n",
       "8  ( 1 )  \"*\"        \" \"         \"*\"      \"*\"                  \n",
       "9  ( 1 )  \"*\"        \" \"         \"*\"      \"*\"                  \n",
       "10  ( 1 ) \"*\"        \"*\"         \" \"      \" \"                  \n",
       "11  ( 1 ) \"*\"        \"*\"         \" \"      \" \"                  \n",
       "12  ( 1 ) \"*\"        \"*\"         \"*\"      \" \"                  \n",
       "13  ( 1 ) \"*\"        \"*\"         \"*\"      \" \"                  \n",
       "14  ( 1 ) \"*\"        \"*\"         \"*\"      \" \"                  \n",
       "15  ( 1 ) \"*\"        \"*\"         \"*\"      \" \"                  \n",
       "16  ( 1 ) \"*\"        \"*\"         \"*\"      \" \"                  \n",
       "17  ( 1 ) \"*\"        \"*\"         \"*\"      \"*\"                  \n",
       "18  ( 1 ) \"*\"        \"*\"         \"*\"      \"*\"                  \n",
       "          log(Rainfall + 1) SeasonsSpring SeasonsSummer SeasonsWinter\n",
       "1  ( 1 )  \" \"               \" \"           \" \"           \" \"          \n",
       "2  ( 1 )  \" \"               \" \"           \" \"           \" \"          \n",
       "3  ( 1 )  \"*\"               \" \"           \" \"           \" \"          \n",
       "4  ( 1 )  \"*\"               \" \"           \" \"           \" \"          \n",
       "5  ( 1 )  \"*\"               \" \"           \" \"           \" \"          \n",
       "6  ( 1 )  \"*\"               \" \"           \" \"           \"*\"          \n",
       "7  ( 1 )  \"*\"               \" \"           \" \"           \"*\"          \n",
       "8  ( 1 )  \"*\"               \" \"           \" \"           \"*\"          \n",
       "9  ( 1 )  \"*\"               \"*\"           \" \"           \"*\"          \n",
       "10  ( 1 ) \"*\"               \"*\"           \" \"           \"*\"          \n",
       "11  ( 1 ) \"*\"               \"*\"           \" \"           \"*\"          \n",
       "12  ( 1 ) \"*\"               \" \"           \" \"           \"*\"          \n",
       "13  ( 1 ) \"*\"               \"*\"           \" \"           \"*\"          \n",
       "14  ( 1 ) \"*\"               \"*\"           \" \"           \"*\"          \n",
       "15  ( 1 ) \"*\"               \"*\"           \" \"           \"*\"          \n",
       "16  ( 1 ) \"*\"               \"*\"           \" \"           \"*\"          \n",
       "17  ( 1 ) \"*\"               \"*\"           \" \"           \"*\"          \n",
       "18  ( 1 ) \"*\"               \"*\"           \"*\"           \"*\"          \n",
       "          HolidayNo Holiday month_year Functioning.DayYes log(Wind.speed + 1)\n",
       "1  ( 1 )  \" \"               \" \"        \"*\"                \" \"                \n",
       "2  ( 1 )  \" \"               \" \"        \"*\"                \" \"                \n",
       "3  ( 1 )  \" \"               \" \"        \"*\"                \" \"                \n",
       "4  ( 1 )  \" \"               \" \"        \"*\"                \" \"                \n",
       "5  ( 1 )  \" \"               \" \"        \"*\"                \" \"                \n",
       "6  ( 1 )  \" \"               \" \"        \"*\"                \" \"                \n",
       "7  ( 1 )  \" \"               \" \"        \"*\"                \" \"                \n",
       "8  ( 1 )  \" \"               \" \"        \"*\"                \" \"                \n",
       "9  ( 1 )  \" \"               \" \"        \"*\"                \" \"                \n",
       "10  ( 1 ) \" \"               \" \"        \"*\"                \" \"                \n",
       "11  ( 1 ) \"*\"               \" \"        \"*\"                \" \"                \n",
       "12  ( 1 ) \"*\"               \"*\"        \"*\"                \" \"                \n",
       "13  ( 1 ) \"*\"               \"*\"        \"*\"                \" \"                \n",
       "14  ( 1 ) \"*\"               \"*\"        \"*\"                \" \"                \n",
       "15  ( 1 ) \"*\"               \"*\"        \"*\"                \"*\"                \n",
       "16  ( 1 ) \"*\"               \"*\"        \"*\"                \"*\"                \n",
       "17  ( 1 ) \"*\"               \"*\"        \"*\"                \"*\"                \n",
       "18  ( 1 ) \"*\"               \"*\"        \"*\"                \"*\"                \n",
       "          Temperature:Dew.point.temperature Humidity:Dew.point.temperature\n",
       "1  ( 1 )  \" \"                               \" \"                           \n",
       "2  ( 1 )  \" \"                               \" \"                           \n",
       "3  ( 1 )  \" \"                               \" \"                           \n",
       "4  ( 1 )  \" \"                               \" \"                           \n",
       "5  ( 1 )  \" \"                               \" \"                           \n",
       "6  ( 1 )  \" \"                               \" \"                           \n",
       "7  ( 1 )  \" \"                               \" \"                           \n",
       "8  ( 1 )  \"*\"                               \" \"                           \n",
       "9  ( 1 )  \"*\"                               \" \"                           \n",
       "10  ( 1 ) \" \"                               \"*\"                           \n",
       "11  ( 1 ) \" \"                               \"*\"                           \n",
       "12  ( 1 ) \" \"                               \"*\"                           \n",
       "13  ( 1 ) \" \"                               \"*\"                           \n",
       "14  ( 1 ) \"*\"                               \"*\"                           \n",
       "15  ( 1 ) \"*\"                               \"*\"                           \n",
       "16  ( 1 ) \"*\"                               \"*\"                           \n",
       "17  ( 1 ) \"*\"                               \"*\"                           \n",
       "18  ( 1 ) \"*\"                               \"*\"                           \n",
       "          Temperature:Solar.Radiation Solar.Radiation:Wind.speed\n",
       "1  ( 1 )  \" \"                         \" \"                       \n",
       "2  ( 1 )  \" \"                         \" \"                       \n",
       "3  ( 1 )  \" \"                         \" \"                       \n",
       "4  ( 1 )  \" \"                         \" \"                       \n",
       "5  ( 1 )  \" \"                         \" \"                       \n",
       "6  ( 1 )  \" \"                         \" \"                       \n",
       "7  ( 1 )  \" \"                         \" \"                       \n",
       "8  ( 1 )  \" \"                         \" \"                       \n",
       "9  ( 1 )  \" \"                         \" \"                       \n",
       "10  ( 1 ) \"*\"                         \" \"                       \n",
       "11  ( 1 ) \"*\"                         \" \"                       \n",
       "12  ( 1 ) \"*\"                         \" \"                       \n",
       "13  ( 1 ) \"*\"                         \" \"                       \n",
       "14  ( 1 ) \"*\"                         \" \"                       \n",
       "15  ( 1 ) \"*\"                         \" \"                       \n",
       "16  ( 1 ) \"*\"                         \"*\"                       \n",
       "17  ( 1 ) \"*\"                         \"*\"                       \n",
       "18  ( 1 ) \"*\"                         \"*\"                       \n",
       "          Humidity:Rainfall Humidity:Solar.Radiation\n",
       "1  ( 1 )  \" \"               \" \"                     \n",
       "2  ( 1 )  \" \"               \" \"                     \n",
       "3  ( 1 )  \" \"               \" \"                     \n",
       "4  ( 1 )  \" \"               \" \"                     \n",
       "5  ( 1 )  \" \"               \" \"                     \n",
       "6  ( 1 )  \" \"               \" \"                     \n",
       "7  ( 1 )  \"*\"               \" \"                     \n",
       "8  ( 1 )  \"*\"               \" \"                     \n",
       "9  ( 1 )  \"*\"               \" \"                     \n",
       "10  ( 1 ) \"*\"               \"*\"                     \n",
       "11  ( 1 ) \"*\"               \"*\"                     \n",
       "12  ( 1 ) \"*\"               \"*\"                     \n",
       "13  ( 1 ) \"*\"               \"*\"                     \n",
       "14  ( 1 ) \"*\"               \"*\"                     \n",
       "15  ( 1 ) \"*\"               \"*\"                     \n",
       "16  ( 1 ) \"*\"               \"*\"                     \n",
       "17  ( 1 ) \"*\"               \"*\"                     \n",
       "18  ( 1 ) \"*\"               \"*\"                     "
      ]
     },
     "metadata": {},
     "output_type": "display_data"
    }
   ],
   "source": [
    "#perform subset selection\n",
    "subset_fit = regsubsets(log(Rented.Bike.Count + 1) ~ sqrt(Hour) + Temperature + \n",
    "    Humidity + Dew.point.temperature + log(Rainfall + 1) + Seasons + \n",
    "    Holiday + month_year + Functioning.Day + log(Wind.speed + \n",
    "    1) + Temperature:Dew.point.temperature + Dew.point.temperature:Humidity + \n",
    "    Temperature:Solar.Radiation + Wind.speed:Solar.Radiation + \n",
    "    Rainfall:Humidity + Solar.Radiation:Humidity, data = bike_train, nvmax = 18) #set to 11 given\n",
    "\n",
    "summary(subset_fit)\n",
    "#adapted from week 6 tutorial task"
   ]
  },
  {
   "cell_type": "markdown",
   "metadata": {},
   "source": [
    "We will be using AIC,BIC,R-Square and Cp for model evaluation and calculation<br>"
   ]
  },
  {
   "cell_type": "code",
   "execution_count": 41,
   "metadata": {},
   "outputs": [
    {
     "data": {
      "image/png": "[encoded data removed]",
      "text/plain": [
       "plot without title"
      ]
     },
     "metadata": {},
     "output_type": "display_data"
    }
   ],
   "source": [
    "#plot graphs to find optimal number of variables\n",
    "subset_fit = regsubsets(log(Rented.Bike.Count + 1) ~ sqrt(Hour) + Temperature + \n",
    "    Humidity + Dew.point.temperature + log(Rainfall + 1) + Seasons + \n",
    "    Holiday + month_year + Functioning.Day + log(Wind.speed + \n",
    "    1) + Temperature:Dew.point.temperature + Dew.point.temperature:Humidity + \n",
    "    Temperature:Solar.Radiation + Wind.speed:Solar.Radiation + \n",
    "    Rainfall:Humidity + Solar.Radiation:Humidity,data = bike_train, nvmax = 15) #set to 11 given\n",
    "\n",
    "reg_summary = summary(subset_fit)\n",
    "par(mfrow = c(2, 2))\n",
    "plot(reg_summary$cp, xlab = \"Number of variables\", ylab = \"C_p\", type = \"l\")\n",
    "points(which.min(reg_summary$cp), reg_summary$cp[which.min(reg_summary$cp)], col = \"red\", cex = 2, pch = 20)\n",
    "plot(reg_summary$bic, xlab = \"Number of variables\", ylab = \"BIC\", type = \"l\")\n",
    "points(which.min(reg_summary$bic), reg_summary$bic[which.min(reg_summary$bic)], col = \"red\", cex = 2, pch = 20)\n",
    "plot(reg_summary$adjr2, xlab = \"Number of variables\", ylab = \"Adjusted R^2\", type = \"l\")\n",
    "points(which.max(reg_summary$adjr2), reg_summary$adjr2[which.max(reg_summary$adjr2)], col = \"red\", cex = 2, pch = 20)\n",
    "plot(reg_summary$rss, xlab = \"Number of variables\", ylab = \"RSS\", type = \"l\")\n",
    "mtext(\"Plots of C_p, BIC, adjusted R^2 and RSS for backward stepwise selection\", side = 3, line = -2, outer = TRUE)\n",
    "#adapted from week 6 tutorial task"
   ]
  },
  {
   "cell_type": "markdown",
   "metadata": {},
   "source": [
    "AIC:- The basic idea of AIC is to penalize the inclusion of additional variables to a model. <br>\n",
    "BIC:- BIC (or Bayesian information criteria) .<br>\n",
    "Cp:- An advanced version of AIC used for reducing overfitting in the model.\n",
    "\n",
    "\n",
    "From the Adjusted R^2 ,RSS and Cp plots above we can see that the optimal number of variables are 15. This can help in increasing R-squared value and reduce the standard error in the model. BIC is a variant of AIC with a stronger penalty for including additional variables to the model.BIC plot states that the optimal number of variables hsould be 14. \n",
    "\n",
    "#http://www.sthda.com/english/articles/38-regression-model-validation/158-regression-model-accuracy-metrics-r-square-aic-bic-cp-and-more/#:~:text=AIC%20stands%20for%20(Akaike's%20Information,Statistician%2C%20Hirotugu%20Akaike%2C%201970.&text=BIC%20(or%20Bayesian%20information%20criteria,AIC%20developed%20by%20Colin%20Mallows."
   ]
  },
  {
   "cell_type": "markdown",
   "metadata": {},
   "source": [
    "<h3>Confidence Interval</h3>"
   ]
  },
  {
   "cell_type": "markdown",
   "metadata": {},
   "source": [
    "Confidence Interval states that most of the variables should fall under 95 % interval."
   ]
  },
  {
   "cell_type": "code",
   "execution_count": 42,
   "metadata": {},
   "outputs": [
    {
     "data": {
      "text/html": [
       "<table>\n",
       "<caption>A matrix: 19 × 2 of type dbl</caption>\n",
       "<thead>\n",
       "\t<tr><th></th><th scope=col>2.5 %</th><th scope=col>97.5 %</th></tr>\n",
       "</thead>\n",
       "<tbody>\n",
       "\t<tr><th scope=row>(Intercept)</th><td>-1.5897997302</td><td>-0.8093995696</td></tr>\n",
       "\t<tr><th scope=row>sqrt(Hour)</th><td> 0.1769480531</td><td> 0.2047085320</td></tr>\n",
       "\t<tr><th scope=row>Temperature</th><td> 0.0438423335</td><td> 0.0738128419</td></tr>\n",
       "\t<tr><th scope=row>Humidity</th><td>-0.0166436138</td><td>-0.0084177448</td></tr>\n",
       "\t<tr><th scope=row>Dew.point.temperature</th><td> 0.0014201798</td><td> 0.0304812728</td></tr>\n",
       "\t<tr><th scope=row>log(Rainfall + 1)</th><td>-2.2285127886</td><td>-1.9873490792</td></tr>\n",
       "\t<tr><th scope=row>SeasonsSpring</th><td>-0.2748812431</td><td>-0.1589054449</td></tr>\n",
       "\t<tr><th scope=row>SeasonsSummer</th><td>-0.0418740173</td><td> 0.1187251482</td></tr>\n",
       "\t<tr><th scope=row>SeasonsWinter</th><td>-0.5895337904</td><td>-0.4219757632</td></tr>\n",
       "\t<tr><th scope=row>HolidayNo Holiday</th><td> 0.3115878943</td><td> 0.4570915532</td></tr>\n",
       "\t<tr><th scope=row>month_year</th><td> 0.0126046691</td><td> 0.0272464901</td></tr>\n",
       "\t<tr><th scope=row>Functioning.DayYes</th><td> 6.4486823882</td><td> 6.6271275498</td></tr>\n",
       "\t<tr><th scope=row>log(Wind.speed + 1)</th><td> 0.0617657284</td><td> 0.1677482476</td></tr>\n",
       "\t<tr><th scope=row>Temperature:Dew.point.temperature</th><td>-0.0007518686</td><td>-0.0004253682</td></tr>\n",
       "\t<tr><th scope=row>Humidity:Dew.point.temperature</th><td>-0.0004145263</td><td>-0.0002280800</td></tr>\n",
       "\t<tr><th scope=row>Temperature:Solar.Radiation</th><td>-0.0178671264</td><td>-0.0136499500</td></tr>\n",
       "\t<tr><th scope=row>Solar.Radiation:Wind.speed</th><td>-0.0319836216</td><td>-0.0030394832</td></tr>\n",
       "\t<tr><th scope=row>Humidity:Rainfall</th><td> 0.0021309305</td><td> 0.0026941882</td></tr>\n",
       "\t<tr><th scope=row>Humidity:Solar.Radiation</th><td> 0.0051567684</td><td> 0.0072615577</td></tr>\n",
       "</tbody>\n",
       "</table>\n"
      ],
      "text/latex": [
       "A matrix: 19 × 2 of type dbl\n",
       "\\begin{tabular}{r|ll}\n",
       "  & 2.5 \\% & 97.5 \\%\\\\\n",
       "\\hline\n",
       "\t(Intercept) & -1.5897997302 & -0.8093995696\\\\\n",
       "\tsqrt(Hour) &  0.1769480531 &  0.2047085320\\\\\n",
       "\tTemperature &  0.0438423335 &  0.0738128419\\\\\n",
       "\tHumidity & -0.0166436138 & -0.0084177448\\\\\n",
       "\tDew.point.temperature &  0.0014201798 &  0.0304812728\\\\\n",
       "\tlog(Rainfall + 1) & -2.2285127886 & -1.9873490792\\\\\n",
       "\tSeasonsSpring & -0.2748812431 & -0.1589054449\\\\\n",
       "\tSeasonsSummer & -0.0418740173 &  0.1187251482\\\\\n",
       "\tSeasonsWinter & -0.5895337904 & -0.4219757632\\\\\n",
       "\tHolidayNo Holiday &  0.3115878943 &  0.4570915532\\\\\n",
       "\tmonth\\_year &  0.0126046691 &  0.0272464901\\\\\n",
       "\tFunctioning.DayYes &  6.4486823882 &  6.6271275498\\\\\n",
       "\tlog(Wind.speed + 1) &  0.0617657284 &  0.1677482476\\\\\n",
       "\tTemperature:Dew.point.temperature & -0.0007518686 & -0.0004253682\\\\\n",
       "\tHumidity:Dew.point.temperature & -0.0004145263 & -0.0002280800\\\\\n",
       "\tTemperature:Solar.Radiation & -0.0178671264 & -0.0136499500\\\\\n",
       "\tSolar.Radiation:Wind.speed & -0.0319836216 & -0.0030394832\\\\\n",
       "\tHumidity:Rainfall &  0.0021309305 &  0.0026941882\\\\\n",
       "\tHumidity:Solar.Radiation &  0.0051567684 &  0.0072615577\\\\\n",
       "\\end{tabular}\n"
      ],
      "text/markdown": [
       "\n",
       "A matrix: 19 × 2 of type dbl\n",
       "\n",
       "| <!--/--> | 2.5 % | 97.5 % |\n",
       "|---|---|---|\n",
       "| (Intercept) | -1.5897997302 | -0.8093995696 |\n",
       "| sqrt(Hour) |  0.1769480531 |  0.2047085320 |\n",
       "| Temperature |  0.0438423335 |  0.0738128419 |\n",
       "| Humidity | -0.0166436138 | -0.0084177448 |\n",
       "| Dew.point.temperature |  0.0014201798 |  0.0304812728 |\n",
       "| log(Rainfall + 1) | -2.2285127886 | -1.9873490792 |\n",
       "| SeasonsSpring | -0.2748812431 | -0.1589054449 |\n",
       "| SeasonsSummer | -0.0418740173 |  0.1187251482 |\n",
       "| SeasonsWinter | -0.5895337904 | -0.4219757632 |\n",
       "| HolidayNo Holiday |  0.3115878943 |  0.4570915532 |\n",
       "| month_year |  0.0126046691 |  0.0272464901 |\n",
       "| Functioning.DayYes |  6.4486823882 |  6.6271275498 |\n",
       "| log(Wind.speed + 1) |  0.0617657284 |  0.1677482476 |\n",
       "| Temperature:Dew.point.temperature | -0.0007518686 | -0.0004253682 |\n",
       "| Humidity:Dew.point.temperature | -0.0004145263 | -0.0002280800 |\n",
       "| Temperature:Solar.Radiation | -0.0178671264 | -0.0136499500 |\n",
       "| Solar.Radiation:Wind.speed | -0.0319836216 | -0.0030394832 |\n",
       "| Humidity:Rainfall |  0.0021309305 |  0.0026941882 |\n",
       "| Humidity:Solar.Radiation |  0.0051567684 |  0.0072615577 |\n",
       "\n"
      ],
      "text/plain": [
       "                                  2.5 %         97.5 %       \n",
       "(Intercept)                       -1.5897997302 -0.8093995696\n",
       "sqrt(Hour)                         0.1769480531  0.2047085320\n",
       "Temperature                        0.0438423335  0.0738128419\n",
       "Humidity                          -0.0166436138 -0.0084177448\n",
       "Dew.point.temperature              0.0014201798  0.0304812728\n",
       "log(Rainfall + 1)                 -2.2285127886 -1.9873490792\n",
       "SeasonsSpring                     -0.2748812431 -0.1589054449\n",
       "SeasonsSummer                     -0.0418740173  0.1187251482\n",
       "SeasonsWinter                     -0.5895337904 -0.4219757632\n",
       "HolidayNo Holiday                  0.3115878943  0.4570915532\n",
       "month_year                         0.0126046691  0.0272464901\n",
       "Functioning.DayYes                 6.4486823882  6.6271275498\n",
       "log(Wind.speed + 1)                0.0617657284  0.1677482476\n",
       "Temperature:Dew.point.temperature -0.0007518686 -0.0004253682\n",
       "Humidity:Dew.point.temperature    -0.0004145263 -0.0002280800\n",
       "Temperature:Solar.Radiation       -0.0178671264 -0.0136499500\n",
       "Solar.Radiation:Wind.speed        -0.0319836216 -0.0030394832\n",
       "Humidity:Rainfall                  0.0021309305  0.0026941882\n",
       "Humidity:Solar.Radiation           0.0051567684  0.0072615577"
      ]
     },
     "metadata": {},
     "output_type": "display_data"
    }
   ],
   "source": [
    "confint(final, level = 0.95)"
   ]
  },
  {
   "cell_type": "markdown",
   "metadata": {},
   "source": [
    "From the statistics above <b>log(Rainfall+1)</b> confidence interval is the largest, as lesser the value higher the range"
   ]
  },
  {
   "cell_type": "code",
   "execution_count": 43,
   "metadata": {
    "scrolled": true
   },
   "outputs": [],
   "source": [
    "#Extracting month and year from Date and dropping Date column for test dataset\n",
    "bike_test$Date<- as.Date(bike_test$Date, format = \"%d/%m/%Y\")\n",
    "bike_test$month_year <- format(bike_test$Date, \"%B%y\") # this will give output like march\n",
    "bike_test$Date<-NULL\n",
    "\n",
    "\n",
    "#https://stackoverflow.com/questions/42060370/how-can-i-extract-month-and-date-and-year-from-data-column-in-r"
   ]
  },
  {
   "cell_type": "code",
   "execution_count": 44,
   "metadata": {
    "scrolled": false
   },
   "outputs": [],
   "source": [
    "bike_test$month_year <- as.factor(bike_test$month_year)\n",
    "bike_test$month_year <- as.numeric(bike_test$month_year)\n"
   ]
  },
  {
   "cell_type": "markdown",
   "metadata": {},
   "source": [
    "Eventually we will compare our model on the test data to see how it performs, We will be using predict function"
   ]
  },
  {
   "cell_type": "code",
   "execution_count": 45,
   "metadata": {},
   "outputs": [],
   "source": [
    "prediction <- predict(final, bike_test)\n"
   ]
  },
  {
   "cell_type": "code",
   "execution_count": 46,
   "metadata": {},
   "outputs": [
    {
     "name": "stdout",
     "output_type": "stream",
     "text": [
      "MSE for Multiple Linear Regression is 13.71752"
     ]
    }
   ],
   "source": [
    "MSE_Linear<-mean((prediction-bike_test$Rented.Bike.Count)^2)\n",
    "cat('MSE for Multiple Linear Regression is',log(MSE_Linear+1))"
   ]
  },
  {
   "cell_type": "markdown",
   "metadata": {},
   "source": [
    "Basically, MSE evaluates the quality of the predictor. The value should be non negative and near to zero. The value is 0.13 The adjusted R^2 value for the final model is 0.82 which states that the model is working fine with the significant variables."
   ]
  },
  {
   "cell_type": "markdown",
   "metadata": {},
   "source": [
    "<h3>2 .LASSO MODEL</h3>\n",
    "Lasso(Least Absolute Shrinkage and Selection Operator) model is a type of linear regression model that uses shrinkage. Lasso is used for feature and predictor when standard linear regression cannot be used as it has large regression co-efficients.\n",
    "\n",
    "In case of LASSO regression you estimate the coefficients with a slightly different approach:\n",
    "\n",
    "Lasso uses the sum of the absolute coefficient values penalized by λ, so λ controls the amount of (L1) regulazation.\n",
    "\n",
    "\n",
    "In lasso model initially I will use the variables extracted from the linear regression model.\n",
    "#https://stats.stackexchange.com/questions/17251/what-is-the-lasso-in-regression-analysis"
   ]
  },
  {
   "cell_type": "markdown",
   "metadata": {},
   "source": [
    "Data Loading:"
   ]
  },
  {
   "cell_type": "code",
   "execution_count": 47,
   "metadata": {},
   "outputs": [],
   "source": [
    "#assign training and testing dataset\n",
    "lasso_train <- bike_train\n",
    "lasso_test <- bike_test"
   ]
  },
  {
   "cell_type": "markdown",
   "metadata": {},
   "source": [
    " Converting dataset into matrix as the model.matrix function produces a data matrix corresponding to the 14 variables"
   ]
  },
  {
   "cell_type": "code",
   "execution_count": 48,
   "metadata": {},
   "outputs": [],
   "source": [
    "main <- model.matrix(log(Rented.Bike.Count + 1) ~ sqrt(Hour) + Temperature + \n",
    "    Humidity + Dew.point.temperature + log(Rainfall + 1) + Seasons + \n",
    "    Holiday + month_year + Functioning.Day + log(Wind.speed + \n",
    "    1) + Temperature:Dew.point.temperature + Dew.point.temperature:Humidity + \n",
    "    Temperature:Solar.Radiation + Wind.speed:Solar.Radiation + \n",
    "    Rainfall:Humidity + Solar.Radiation:Humidity,lasso_train)"
   ]
  },
  {
   "cell_type": "code",
   "execution_count": 49,
   "metadata": {},
   "outputs": [],
   "source": [
    "#storing the target variable \n",
    "\n",
    "target_train <- lasso_train[, 1]\n",
    "\n",
    "target_test <- lasso_test[, 1]"
   ]
  },
  {
   "cell_type": "markdown",
   "metadata": {},
   "source": [
    "<h3>Iteration 1:</h3>"
   ]
  },
  {
   "cell_type": "markdown",
   "metadata": {},
   "source": [
    "We will fit the model with cross validation using glmnet function "
   ]
  },
  {
   "cell_type": "code",
   "execution_count": 50,
   "metadata": {},
   "outputs": [
    {
     "name": "stdout",
     "output_type": "stream",
     "text": [
      "\n",
      "Call:  cv.glmnet(x = main, y = log(target_train + 1), family = \"gaussian\",      alpha = 1) \n",
      "\n",
      "Measure: Mean-Squared Error \n",
      "\n",
      "      Lambda Measure       SE Nonzero\n",
      "min 0.000855  0.4442 0.008240      18\n",
      "1se 0.008753  0.4516 0.008405      16\n"
     ]
    }
   ],
   "source": [
    " #use 1- lasso , 0-ridge\n",
    "cv.lasso<- cv.glmnet(main, log(target_train+1), family=\"gaussian\", alpha = 1) \n",
    "print(cv.lasso)"
   ]
  },
  {
   "cell_type": "markdown",
   "metadata": {},
   "source": [
    "lambda is extracted using cross validation, smaller the value of lambda better the accuracy of model, as the lambda value increases Lasso model starts eliminating those are value 0<br>\n",
    "SE stands for standard error(similar to Linear Regression)"
   ]
  },
  {
   "cell_type": "code",
   "execution_count": 51,
   "metadata": {},
   "outputs": [
    {
     "data": {
      "text/html": [
       "0.000855199884567149"
      ],
      "text/latex": [
       "0.000855199884567149"
      ],
      "text/markdown": [
       "0.000855199884567149"
      ],
      "text/plain": [
       "[1] 0.0008551999"
      ]
     },
     "metadata": {},
     "output_type": "display_data"
    }
   ],
   "source": [
    "bestlam <- cv.lasso$lambda.min\n",
    "bestlam"
   ]
  },
  {
   "cell_type": "markdown",
   "metadata": {},
   "source": [
    "Refitting the lasso model"
   ]
  },
  {
   "cell_type": "code",
   "execution_count": 52,
   "metadata": {},
   "outputs": [
    {
     "name": "stdout",
     "output_type": "stream",
     "text": [
      "                      (Intercept)                       (Intercept) \n",
      "                    -1.2553872315                      0.0000000000 \n",
      "                       sqrt(Hour)                       Temperature \n",
      "                     0.1907956892                      0.0612115666 \n",
      "                         Humidity             Dew.point.temperature \n",
      "                    -0.0117118233                      0.0111917835 \n",
      "                log(Rainfall + 1)                     SeasonsSpring \n",
      "                    -2.1029631835                     -0.2141231315 \n",
      "                    SeasonsSummer                     SeasonsWinter \n",
      "                     0.0297354776                     -0.5074891671 \n",
      "                HolidayNo Holiday                        month_year \n",
      "                     0.3798349804                      0.0198495955 \n",
      "               Functioning.DayYes               log(Wind.speed + 1) \n",
      "                     6.5297404824                      0.1094113705 \n",
      "Temperature:Dew.point.temperature    Humidity:Dew.point.temperature \n",
      "                    -0.0005704728                     -0.0002905232 \n"
     ]
    }
   ],
   "source": [
    "lasso_refit<- glmnet(main, log(target_train+1), alpha = 1)\n",
    "pred1<-predict(lasso_refit, s = bestlam, type = \"coefficients\")[1:16, ]\n",
    "print(pred1)"
   ]
  },
  {
   "cell_type": "markdown",
   "metadata": {},
   "source": [
    "The model indicates that the coefficients of<b> Humidity, log(Rainfall + 1), Humidity:Dew.point.temperature</b> and Season have been shrunk to zero. Thus we are left with following variables, namely; <b>sqrt(Hour), Temperature,month_year,log(Wind.speed + 1),Humidity:Rainfall,sqrt(Solar.Radiation),Functioning.Day, Dew.point.temperature, SeasonSummer and Holiday</b>"
   ]
  },
  {
   "cell_type": "markdown",
   "metadata": {},
   "source": [
    "<h3>Iteration 2:</h3>\n",
    "\n",
    "In this we will try to find the most significant variables"
   ]
  },
  {
   "cell_type": "code",
   "execution_count": 53,
   "metadata": {},
   "outputs": [],
   "source": [
    "main2 <- model.matrix(log(Rented.Bike.Count + 1) ~ sqrt(Hour)+ Temperature+\n",
    "                      month_year+log(Wind.speed + 1)+\n",
    "                      Humidity:Rainfall+sqrt(Solar.Radiation)+\n",
    "                      Functioning.Day+ Dew.point.temperature+ Holiday, data=lasso_train)"
   ]
  },
  {
   "cell_type": "code",
   "execution_count": 54,
   "metadata": {},
   "outputs": [
    {
     "name": "stdout",
     "output_type": "stream",
     "text": [
      "\n",
      "Call:  cv.glmnet(x = main2, y = log(target_train + 1), family = \"gaussian\",      alpha = 1) \n",
      "\n",
      "Measure: Mean-Squared Error \n",
      "\n",
      "      Lambda Measure     SE Nonzero\n",
      "min 0.001241  0.5970 0.0159       8\n",
      "1se 0.020221  0.6109 0.0158       8\n"
     ]
    }
   ],
   "source": [
    "#use 1- lasso , 0-ridge\n",
    "cv.lasso_2<- cv.glmnet(main2, log(target_train+1), family=\"gaussian\", alpha = 1) \n",
    "print(cv.lasso_2)\n"
   ]
  },
  {
   "cell_type": "code",
   "execution_count": 55,
   "metadata": {},
   "outputs": [
    {
     "data": {
      "text/html": [
       "0.00124074860346641"
      ],
      "text/latex": [
       "0.00124074860346641"
      ],
      "text/markdown": [
       "0.00124074860346641"
      ],
      "text/plain": [
       "[1] 0.001240749"
      ]
     },
     "metadata": {},
     "output_type": "display_data"
    }
   ],
   "source": [
    "#gets the lambda value\n",
    "bestlam1 <- cv.lasso_2$lambda.min\n",
    "bestlam1"
   ]
  },
  {
   "cell_type": "code",
   "execution_count": 56,
   "metadata": {},
   "outputs": [
    {
     "name": "stdout",
     "output_type": "stream",
     "text": [
      "          (Intercept)           (Intercept)            sqrt(Hour) \n",
      "         -2.737418871           0.000000000           0.189285079 \n",
      "          Temperature            month_year   log(Wind.speed + 1) \n",
      "          0.102589116           0.056636532           0.000000000 \n",
      "sqrt(Solar.Radiation)    Functioning.DayYes Dew.point.temperature \n",
      "         -0.023700981           6.420336249          -0.053098053 \n",
      "    HolidayNo Holiday     Humidity:Rainfall \n",
      "          0.411173060          -0.002288793 \n"
     ]
    }
   ],
   "source": [
    "#try to refit the model\n",
    "lasso_refit_2<- glmnet(main2, log(target_train+1), alpha = 1)\n",
    "pred2<-predict(lasso_refit_2, s = bestlam1, type = \"coefficients\")[1:11, ]\n",
    "print(pred2)"
   ]
  },
  {
   "cell_type": "markdown",
   "metadata": {},
   "source": [
    "After refitting the model we can see that variables sqrt(Hour), Temperature,FunctioningDay,month_year are the most significant variables"
   ]
  },
  {
   "cell_type": "code",
   "execution_count": 57,
   "metadata": {},
   "outputs": [
    {
     "data": {
      "text/html": [
       "<table>\n",
       "<caption>A data.frame: 1 × 3</caption>\n",
       "<thead>\n",
       "\t<tr><th scope=col>RMSE</th><th scope=col>MSE</th><th scope=col>Rsquare</th></tr>\n",
       "\t<tr><th scope=col>&lt;dbl&gt;</th><th scope=col>&lt;dbl&gt;</th><th scope=col>&lt;dbl&gt;</th></tr>\n",
       "</thead>\n",
       "<tbody>\n",
       "\t<tr><td>0.7700335</td><td>0.5929517</td><td>0.7645627</td></tr>\n",
       "</tbody>\n",
       "</table>\n"
      ],
      "text/latex": [
       "A data.frame: 1 × 3\n",
       "\\begin{tabular}{lll}\n",
       " RMSE & MSE & Rsquare\\\\\n",
       " <dbl> & <dbl> & <dbl>\\\\\n",
       "\\hline\n",
       "\t 0.7700335 & 0.5929517 & 0.7645627\\\\\n",
       "\\end{tabular}\n"
      ],
      "text/markdown": [
       "\n",
       "A data.frame: 1 × 3\n",
       "\n",
       "| RMSE &lt;dbl&gt; | MSE &lt;dbl&gt; | Rsquare &lt;dbl&gt; |\n",
       "|---|---|---|\n",
       "| 0.7700335 | 0.5929517 | 0.7645627 |\n",
       "\n"
      ],
      "text/plain": [
       "  RMSE      MSE       Rsquare  \n",
       "1 0.7700335 0.5929517 0.7645627"
      ]
     },
     "metadata": {},
     "output_type": "display_data"
    }
   ],
   "source": [
    "#calculate MSE ,RSS and R-Square\n",
    "calc_res <- function(true, predicted, df) {\n",
    "SSE <- sum((predicted - true)^2)\n",
    "SST <- sum((true - mean(true))^2)\n",
    "R_square <- 1 - SSE / SST\n",
    "RMSE = sqrt(SSE/nrow(df))\n",
    "# Model performance metrics\n",
    "data.frame(\n",
    "RMSE = RMSE,\n",
    "MSE = (RMSE)^2,\n",
    "Rsquare = R_square\n",
    ") }\n",
    "predictions_train <- predict(lasso_refit_2, s = bestlam, newx = main2)\n",
    "calc_res(log(target_train+1), predictions_train, lasso_train)\n",
    "\n",
    "\n",
    "#https://www.pluralsight.com/guides/linear-lasso-and-ridge-regression-with-r"
   ]
  },
  {
   "cell_type": "markdown",
   "metadata": {},
   "source": [
    "The R-Square value for Lasso model on training data is 76% "
   ]
  },
  {
   "cell_type": "code",
   "execution_count": 58,
   "metadata": {},
   "outputs": [
    {
     "name": "stderr",
     "output_type": "stream",
     "text": [
      "Warning message in pred2 - lasso_test$Rented.Bike.Count:\n",
      "\"longer object length is not a multiple of shorter object length\""
     ]
    },
    {
     "name": "stdout",
     "output_type": "stream",
     "text": [
      "Mean Square Error of Lasso is 13.72732"
     ]
    }
   ],
   "source": [
    "MSE_Lasso<-mean((pred2-lasso_test$Rented.Bike.Count)^2)\n",
    "cat('Mean Square Error of Lasso is', log(MSE_Lasso+1))"
   ]
  },
  {
   "cell_type": "markdown",
   "metadata": {},
   "source": [
    "## 6. Results and discussion <a class=\"anchor\" id=\"sec_6\"></a>"
   ]
  },
  {
   "cell_type": "markdown",
   "metadata": {},
   "source": [
    "We used two different approaches on the given dataset like Multiple Linear Regression and Lasso Regression model to predict the bike sharing demands. Our main objective was to create a model which has higher R=Squared value and lower Mean Square value, As the model with low Mean square value is considered as optimal, however the optimality does not solely rely on MSE or R-squared value it also depends on various other performance metrics.<br><br>\n",
    "\n",
    " - <h4>Multiple Linear Regression </h4>\n",
    " \n",
    "     I. Multiple Linear Regression is the easiest and simplest of models when it comes to predicting, as it has lots of performance metrics to work with. A single command lm() with appropriate information can help in predicitng various insights.We looked into R^2 value, F-statistics, p-value,Adjusted R-Square value, RSE<br>\n",
    "    2. I performed muliple linear regression in different iterations. <br> The main objective in Multiple Linear regression is to fetch the variables with smaller p-value, smaller the p-value higher the prediction, In the first iteration 9 out of 14 variables had lower p value, whereas in the second iteration, I used the transformed data as if the data is normally distributed the probability of model fitting the data increases. <br>\n",
    "    3. There were 8 out of 10 variables that had the lowest p value, similarly in the third iteration we used correlation interactions to validate the lowest p value.Moreover the R Square increased as compared to previous iteration <br>\n",
    "    4. We compared all the three models using anova method and came to conclusion that model 3(final) which had correlation was the optimal one on the basis of its RSS value.<br> \n",
    "    5. We also calculated the Cp, RSS, RSquared, BCI values along with subset selection on the (final) model<br>\n",
    "    6. FInally we calculated the Mean Squared Error  for the Multiple Regression Model onm test data, The value for MSE was <b> 13.71</b>\n",
    "    \n",
    "    \n",
    " <h4> LASSO </h4>\n",
    " \n",
    " - I. Lasso is the advanced version of multiple linear regression model which can be used for reducing complexity and    minimising the variance. For lasso, we make use of cross validation to choose the right lambda to shrink our model in order to choose the optimal variables.<br>\n",
    "    1. Our main objective is to reduce the value of mean squared error.<br>\n",
    "    2. Initially we split the data into training and test datasets\n",
    "    3. Converted the datasets into matrix\n",
    "    4. Calculated the lambda value as it is the most prominent part of the Lasso Modelling\n",
    "    5. We used the cross validation using lambda to find the optimal variables. \n",
    "    6. Refitted the data using optimal variables, we performed this couple of times to get the appropriate results.\n",
    "    7. Eventually we performed Mean Squared Error for the Lasso Model on test data, The value for MSE was \n",
    "         <b>13.72</b>\n",
    "     \n",
    "   \n",
    "   \n",
    "     \n",
    "     \n",
    "     \n",
    "<b> Hence if we see the MSE values of both the models the Multiple Linear Regression is slightly better than Lasso Model\n",
    "    If we see the R-Squared of Multiple linear Regression model its 82.46% whereas the R-Squared Value of Lasso Model is around 77%. RSE(Residual Standard Error) is 0.6641 for Linear Regression model and 0.5971 for Lasso model. Whereas Lasso Model has generated least number of variables. In this case R-Squared plays a vital role for \n",
    "     \n",
    "     \n",
    "      "
   ]
  },
  {
   "cell_type": "markdown",
   "metadata": {},
   "source": [
    "<h2>Subset Selection</h2>"
   ]
  },
  {
   "cell_type": "markdown",
   "metadata": {},
   "source": [
    "For the multiple Linear Regression to predict Rented.Bike.Count \n",
    "1. Hour \n",
    "2. Humidity \n",
    "3. Rainfall \n",
    "4. Seasons \n",
    "5. Functioning.Day \n",
    "6. month_year \n",
    "7. Dew.point.temperature \n",
    "8. sqrt(Solar.Radiation)  \n",
    "9. log(Rainfall + 1)  \n",
    "10.  Dew.point.temperature:Humidity \n",
    "11. Dew.point.temperature:Temperature  \n",
    "12. Temperature:Solar.Radiation \n",
    "13. Rainfall:Humidity\n",
    "\n",
    "\n",
    "\n",
    "\n",
    "For Lasso :\n",
    "\n",
    "1. Sqrt(Hour), \n",
    "2. FunctioningDay,\n",
    "3. month_year, \n",
    "4. Temperature,\n",
    "\n",
    "\n",
    "\n",
    "\n",
    "\n",
    "\n",
    "In <b>Multiple Linear Regression model</b> we have evaluated the variables on the basis of p value.<br> The lower the p value higher the significance of the variable. <br>The variables \n",
    "Dew.point.temperature:Humidity ,\n",
    "Dew.point.temperature:Temperature,  Temperature:Solar.Radiation ,\n",
    "Rainfall:Humidity,\n",
    "Functioning.Day ,\n",
    "had the lowest significant values whereas for the<b> Lasso Model</b> we used cross validation with lambda to shrink the model for evaluating the best parameters.<br>After performing couple of iterations with transformed and correlated data the four variables like Sqrt(Hour), FunctioningDay, month_year, Temperature remained whereas other shrinked to zero. <b>To recapitulate the variables Sqrt(Hour), FunctioningDay, month_year, Temperature are integral for predicitng the Rented.Bike.Count successfully.</b>\n",
    "\n"
   ]
  },
  {
   "cell_type": "markdown",
   "metadata": {},
   "source": [
    "<h4>Inference based on model selection</h4>"
   ]
  },
  {
   "cell_type": "markdown",
   "metadata": {},
   "source": [
    " - If we see Bike rentals Count can be affected if it is not a Functioning Day that means the rental offices are closed whereas whenever the temperature is too high or too low people would not bother riding a bike.Similarly, time of day matters when it comes to renting a bike. The office hours are mostly 9am-5pm that can be the time when most people think of renting the bike whereas the month matters the most if its summer then more people would end up renting the bike but if its raining people would prefer to stay home.\n"
   ]
  },
  {
   "cell_type": "markdown",
   "metadata": {},
   "source": [
    "## 7. Conclusion<a class=\"anchor\" id=\"sec_7\"></a>"
   ]
  },
  {
   "cell_type": "markdown",
   "metadata": {},
   "source": [
    "1. In this task we used different machine learning approaches to predict the bike demands. We started with loading the data which was splited in test and training datasets,Firstly we performed Data Exploration by checking null values, structure and summary of Data. \n",
    "2. Secondly, we performed analysis on data by plotting Boxplots for each variable, we also plotted the histograms for each variable to know whether the data is skewed or not.<br>\n",
    "If the variable is skewed, transformations were performed on the variable to bring it in normally distributed form.<br>\n",
    "3. Thirdly, Model creation process started where we created the Linear Regression Model and performed three iterations with correlated and transformed data, Those models were evaluated on the basis of its performance metrics using anova function.The model with interactions and correlations between variable was optimal with MSE value of 13.71 and R-Square value of 82.46%.\n",
    "Similarly another model was named lasso was created where we used the deviance and cross validation with lambda to get the most favourable variables.The R-Squared value of Lasso Model is 77 % and its MSE value is 13.72 which is slightly higher than the Linear Regression model, which makes<b> Linear Regression model more compatible and optimal over Lasso model</b>\n",
    "4. However there is scope of improvement in the models where we can increase the accuracy of the model to fetch the value accurately \n",
    "5. The model could have been more accurate if there would have been more correlation between the variables. \n",
    "6. The variables Sqrt(Hour), FunctioningDay,month_year, Temperature are the most important for predicting Rented Bike.\n",
    "\n"
   ]
  },
  {
   "cell_type": "markdown",
   "metadata": {},
   "source": [
    "## 8. References <a class=\"anchor\" id=\"sec_8\"></a>"
   ]
  },
  {
   "cell_type": "markdown",
   "metadata": {},
   "source": [
    "\n",
    "1. Howard Perlman, U. (2020). Rainfall calculator, metric-How much water falls during a storm? USGS Water Science School. Retrieved 21 September 2020, from https://water.usgs.gov/edu/activity-howmuchrain-metric.html\n",
    "\n",
    "2. Howard Perlman, U. (2020). Rainfall calculator, metric-How much water falls during a storm? USGS Water Science School. Retrieved 21 September 2020, from https://water.usgs.gov/edu/activity-howmuchrain-metric.html\n",
    "\n",
    "3. https://stats.stackexchange.com/questions/17251/what-is-the-lasso-in-regression-analysis\n",
    "\n",
    "4. R, h., & shekhar, s. (2020). how can i extract month and date and year from data column in R. Retrieved 25 September 2020, from https://stackoverflow.com/questions/42060370/how-can-i-extract-month-and-date-and-year-from-data-column-in-r\n",
    "\n",
    "5. Action, D., Learning, M., & Example, Q. (2020). Quick Tutorial On LASSO Regression With Example | R Statistics Blog. Retrieved 25 September 2020, from https://rstatisticsblog.com/data-science-in-action/machine-learning/lasso-regression/\n",
    "6. Linear Regression Summary(lm): Interpretting in R - Boostedml. (2020). Retrieved 25 September 2020, from https://boostedml.com/2019/06/linear-regression-in-r-interpreting-summarylm.html"
   ]
  }
 ],
 "metadata": {
  "kernelspec": {
   "display_name": "R",
   "language": "R",
   "name": "ir"
  },
  "language_info": {
   "codemirror_mode": "r",
   "file_extension": ".r",
   "mimetype": "text/x-r-source",
   "name": "R",
   "pygments_lexer": "r",
   "version": "3.6.1"
  }
 },
 "nbformat": 4,
 "nbformat_minor": 2
}
